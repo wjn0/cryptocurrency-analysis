{
 "cells": [
  {
   "cell_type": "code",
   "execution_count": 1,
   "metadata": {},
   "outputs": [],
   "source": [
    "import numpy as np\n",
    "import pandas as pd\n",
    "import requests as req\n",
    "import emcee\n",
    "from matplotlib import pyplot as plt\n",
    "import corner\n",
    "%matplotlib inline"
   ]
  },
  {
   "cell_type": "markdown",
   "metadata": {},
   "source": [
    "# Organizing the data"
   ]
  },
  {
   "cell_type": "markdown",
   "metadata": {},
   "source": [
    "Yahoo! doesn't seem to allow programmatic access to its financial data, including crypto data. I felt that scraping data is outside of the scope of this project and so I opted to use a [different API](https://cryptocompare.com) which provides similar data, instead. I hope that this is appropriate."
   ]
  },
  {
   "cell_type": "code",
   "execution_count": 2,
   "metadata": {},
   "outputs": [],
   "source": [
    "endpoint = \"https://min-api.cryptocompare.com/data/\"\n",
    "api_key = \"f42555b48bbf03e7f64fdbfde60ebe62905fd2103ec9beada0969c3d81c749a8\""
   ]
  },
  {
   "cell_type": "code",
   "execution_count": 3,
   "metadata": {},
   "outputs": [],
   "source": [
    "def req_url(meth, params):\n",
    "    params[\"api_key\"] = api_key\n",
    "    \n",
    "    return endpoint + meth + \"?\" + \"&\".join([\"{}={}\".format(k, v) for k, v in params.items()])"
   ]
  },
  {
   "cell_type": "markdown",
   "metadata": {},
   "source": [
    "First, we'll request the top 100 crypto symbols by volume, so that we can request the prices of them:"
   ]
  },
  {
   "cell_type": "code",
   "execution_count": 4,
   "metadata": {},
   "outputs": [],
   "source": [
    "meth = \"top/totalvolfull\"\n",
    "params = {}\n",
    "params[\"limit\"] = 100\n",
    "params[\"tsym\"] = \"USD\"\n",
    "\n",
    "ru = req_url(meth, params)\n",
    "data = req.get(ru).json()['Data']\n",
    "top = list(map(lambda c: c['CoinInfo']['Name'], data))\n",
    "n_top = len(top)"
   ]
  },
  {
   "cell_type": "markdown",
   "metadata": {},
   "source": [
    "We can only request 1 crypto symbol at a time. We'll request 3 years of data:"
   ]
  },
  {
   "cell_type": "code",
   "execution_count": 18,
   "metadata": {},
   "outputs": [],
   "source": [
    "meth = \"histoday\"\n",
    "\n",
    "n_top = 10\n",
    "data = {}\n",
    "for i in range(n_top):\n",
    "    params = {}\n",
    "    params[\"fsym\"] = top[i]\n",
    "    params[\"tsym\"] = \"USD\"\n",
    "    params[\"limit\"] = 1 * 365\n",
    "    ru = req_url(meth, params)\n",
    "    data[top[i]] = req.get(ru).json()['Data']"
   ]
  },
  {
   "cell_type": "code",
   "execution_count": 19,
   "metadata": {},
   "outputs": [],
   "source": [
    "times = np.asarray(list(map(lambda tp: tp['time'], data[\"BTC\"])))[:, np.newaxis]\n",
    "highs = np.asarray(list(map(lambda ticker: list(map(lambda tp: tp[\"high\"], data[ticker])), data.keys()))).T"
   ]
  },
  {
   "cell_type": "code",
   "execution_count": 20,
   "metadata": {},
   "outputs": [],
   "source": [
    "df = pd.DataFrame(np.concatenate([times, highs], axis=1))"
   ]
  },
  {
   "cell_type": "code",
   "execution_count": 21,
   "metadata": {},
   "outputs": [],
   "source": [
    "df.columns = [\"time\"] + top[:n_top]"
   ]
  },
  {
   "cell_type": "code",
   "execution_count": 22,
   "metadata": {
    "scrolled": true
   },
   "outputs": [
    {
     "data": {
      "text/html": [
       "<div>\n",
       "<style scoped>\n",
       "    .dataframe tbody tr th:only-of-type {\n",
       "        vertical-align: middle;\n",
       "    }\n",
       "\n",
       "    .dataframe tbody tr th {\n",
       "        vertical-align: top;\n",
       "    }\n",
       "\n",
       "    .dataframe thead th {\n",
       "        text-align: right;\n",
       "    }\n",
       "</style>\n",
       "<table border=\"1\" class=\"dataframe\">\n",
       "  <thead>\n",
       "    <tr style=\"text-align: right;\">\n",
       "      <th></th>\n",
       "      <th>time</th>\n",
       "      <th>BTC</th>\n",
       "      <th>ETH</th>\n",
       "      <th>EOS</th>\n",
       "      <th>LTC</th>\n",
       "      <th>XRP</th>\n",
       "      <th>BNB</th>\n",
       "      <th>ZEC</th>\n",
       "      <th>BCH</th>\n",
       "      <th>NEO</th>\n",
       "      <th>QTUM</th>\n",
       "    </tr>\n",
       "  </thead>\n",
       "  <tbody>\n",
       "    <tr>\n",
       "      <th>0</th>\n",
       "      <td>1.520381e+09</td>\n",
       "      <td>10913.70</td>\n",
       "      <td>825.32</td>\n",
       "      <td>7.29</td>\n",
       "      <td>199.47</td>\n",
       "      <td>0.9130</td>\n",
       "      <td>0.0</td>\n",
       "      <td>390.07</td>\n",
       "      <td>1223.50</td>\n",
       "      <td>113.62</td>\n",
       "      <td>25.61</td>\n",
       "    </tr>\n",
       "    <tr>\n",
       "      <th>1</th>\n",
       "      <td>1.520467e+09</td>\n",
       "      <td>10119.21</td>\n",
       "      <td>772.51</td>\n",
       "      <td>6.70</td>\n",
       "      <td>188.18</td>\n",
       "      <td>0.8716</td>\n",
       "      <td>0.0</td>\n",
       "      <td>351.92</td>\n",
       "      <td>1116.18</td>\n",
       "      <td>101.51</td>\n",
       "      <td>22.14</td>\n",
       "    </tr>\n",
       "    <tr>\n",
       "      <th>2</th>\n",
       "      <td>1.520554e+09</td>\n",
       "      <td>9433.38</td>\n",
       "      <td>730.46</td>\n",
       "      <td>6.18</td>\n",
       "      <td>189.98</td>\n",
       "      <td>0.8415</td>\n",
       "      <td>0.0</td>\n",
       "      <td>322.04</td>\n",
       "      <td>1076.21</td>\n",
       "      <td>94.10</td>\n",
       "      <td>19.89</td>\n",
       "    </tr>\n",
       "    <tr>\n",
       "      <th>3</th>\n",
       "      <td>1.520640e+09</td>\n",
       "      <td>9518.62</td>\n",
       "      <td>747.82</td>\n",
       "      <td>6.45</td>\n",
       "      <td>194.73</td>\n",
       "      <td>0.8412</td>\n",
       "      <td>0.0</td>\n",
       "      <td>318.14</td>\n",
       "      <td>1089.16</td>\n",
       "      <td>94.48</td>\n",
       "      <td>19.86</td>\n",
       "    </tr>\n",
       "    <tr>\n",
       "      <th>4</th>\n",
       "      <td>1.520726e+09</td>\n",
       "      <td>9735.64</td>\n",
       "      <td>735.01</td>\n",
       "      <td>6.20</td>\n",
       "      <td>193.19</td>\n",
       "      <td>0.8301</td>\n",
       "      <td>0.0</td>\n",
       "      <td>318.91</td>\n",
       "      <td>1157.26</td>\n",
       "      <td>92.48</td>\n",
       "      <td>19.56</td>\n",
       "    </tr>\n",
       "  </tbody>\n",
       "</table>\n",
       "</div>"
      ],
      "text/plain": [
       "           time       BTC     ETH   EOS     LTC     XRP  BNB     ZEC      BCH  \\\n",
       "0  1.520381e+09  10913.70  825.32  7.29  199.47  0.9130  0.0  390.07  1223.50   \n",
       "1  1.520467e+09  10119.21  772.51  6.70  188.18  0.8716  0.0  351.92  1116.18   \n",
       "2  1.520554e+09   9433.38  730.46  6.18  189.98  0.8415  0.0  322.04  1076.21   \n",
       "3  1.520640e+09   9518.62  747.82  6.45  194.73  0.8412  0.0  318.14  1089.16   \n",
       "4  1.520726e+09   9735.64  735.01  6.20  193.19  0.8301  0.0  318.91  1157.26   \n",
       "\n",
       "      NEO   QTUM  \n",
       "0  113.62  25.61  \n",
       "1  101.51  22.14  \n",
       "2   94.10  19.89  \n",
       "3   94.48  19.86  \n",
       "4   92.48  19.56  "
      ]
     },
     "execution_count": 22,
     "metadata": {},
     "output_type": "execute_result"
    }
   ],
   "source": [
    "df.head()"
   ]
  },
  {
   "cell_type": "code",
   "execution_count": 23,
   "metadata": {},
   "outputs": [],
   "source": [
    "# r(t) = log(x(t + 1)/x(t)) where x(t) is asset price\n",
    "def returns(x):\n",
    "    T = len(x)\n",
    "    r = np.zeros(T - 1)\n",
    "    for t in range(T - 1):\n",
    "        r[t] = np.log(x[t+1]/x[t])\n",
    "    \n",
    "    return r"
   ]
  },
  {
   "cell_type": "code",
   "execution_count": 24,
   "metadata": {},
   "outputs": [],
   "source": [
    "btc = returns(np.asarray(df['BTC']))\n",
    "eth = returns(np.asarray(df['ETH']))\n",
    "eos = returns(np.asarray(df['EOS']))\n",
    "ltc = returns(np.asarray(df['LTC']))\n",
    "xrp = returns(np.asarray(df['XRP']))\n",
    "bch = returns(np.asarray(df['BCH']))"
   ]
  },
  {
   "cell_type": "code",
   "execution_count": 25,
   "metadata": {},
   "outputs": [
    {
     "data": {
      "image/png": "[encoded data removed]",
      "text/plain": [
       "<Figure size 432x288 with 1 Axes>"
      ]
     },
     "metadata": {
      "needs_background": "light"
     },
     "output_type": "display_data"
    }
   ],
   "source": [
    "plt.hist(btc)\n",
    "plt.xlabel(\"return (BTC)\")\n",
    "plt.ylabel(\"freq\")\n",
    "plt.show()"
   ]
  },
  {
   "cell_type": "code",
   "execution_count": 26,
   "metadata": {},
   "outputs": [
    {
     "data": {
      "image/png": "[encoded data removed]",
      "text/plain": [
       "<Figure size 432x288 with 1 Axes>"
      ]
     },
     "metadata": {
      "needs_background": "light"
     },
     "output_type": "display_data"
    }
   ],
   "source": [
    "plt.plot(btc)\n",
    "plt.xlabel(\"day\")\n",
    "plt.ylabel(\"return (btc)\")\n",
    "plt.show()"
   ]
  },
  {
   "cell_type": "code",
   "execution_count": 27,
   "metadata": {},
   "outputs": [],
   "source": [
    "T = 50\n",
    "data = np.concatenate((btc[:T, np.newaxis],\n",
    "                       eth[:T, np.newaxis],\n",
    "                       eos[:T, np.newaxis],\n",
    "                       ltc[:T, np.newaxis],\n",
    "                       xrp[:T, np.newaxis],\n",
    "                       bch[:T, np.newaxis]), axis=1).T"
   ]
  },
  {
   "cell_type": "markdown",
   "metadata": {},
   "source": [
    "# Goal\n",
    "\n",
    "Our goal is to build a predictive model for portfolio choice. Formally:\n",
    "\n",
    "Let $\\mathbf{r}(t) \\in \\mathbb{R}^n$ be the return of each of $n$ assets at time $t$, where $r_i(t) = \\log{\\frac{x_i(t + 1)}{x_i(t)}}$ for $i = 1, \\dots, n$. Define the asset covariance matrix as in the econometrics literature as $\\Sigma(t) = \\mathbf{r}(t) \\mathbf{r}(t)^T \\in \\mathbb{R}^{n \\times n}$. Let our training data be $\\{ \\mathbf{r}(t) | t \\in 1, \\dots, T \\}$ where $T$ is the number of training timepoints. Our goal is to define a model capable of then predicting $r(T + 1)$ and $\\Sigma(T + 1)$. We can then optimize portfolio choice by maximizing the Sharpe ratio:\n",
    "\n",
    "$$\\frac{\\mathbf{w}^T \\mathbf{r}(T + 1)}{\\sqrt{\\mathbf{w}^T \\Sigma(T + 1) \\mathbf{w}}}$$\n",
    "\n",
    "where $\\mathbf{w} \\in \\mathbb{S}^{n - 1}$, i.e. $\\mathbf{w}$ is a unit vector.\n",
    "\n",
    "Note that we're being deliberately vague about how we're going to compute $\\mathbf{r}(T + 1)$ and $\\Sigma(T + 1)$ - we'll try a number of different predictive models with the same sort of general idea."
   ]
  },
  {
   "cell_type": "markdown",
   "metadata": {},
   "source": [
    "# Choosing a model"
   ]
  },
  {
   "cell_type": "markdown",
   "metadata": {},
   "source": [
    "There are several possible methods to estimate $\\mathbf{r}(T + 1)$:\n",
    "\n",
    "* Simple regression\n",
    "* Autoregressive models (ARCH, GARCH, ...)\n",
    "* Neural networks (RNNs in particular)\n",
    "* Bayesian methods\n",
    "\n",
    "There are also methods (apparently generally lesser-known outside of econometrics) to estimate $\\Sigma(T + 1)$, including autoregressive models like MGARCH, but these frequently make problematic assumptions.\n",
    "\n",
    "## Proposed model\n",
    "\n",
    "I propose to use the [generalized Wishart process (GWP)](https://www.cs.cmu.edu/~andrewgw/gwp.pdf) to model $\\Sigma(t)$ and a Gaussian process (GP) to model $\\mathbf{r}(t)$. Together, these will produce estimates of $\\mathbf{r}(T + 1)$ and $\\Sigma(T + 1)$ which can then be used for portfolio choice.\n",
    "\n",
    "There are advantages to modelling the price separate from the covariance. For example, consider the Ornstein-Uhlenbeck and squared exponential kernels. The first is great for modeling more volatile data, like currency (real and crypto-). The second is used for more smooth functions. One might assume that while the actual returns follow an O-U Gaussian process, the covariance between currencies is in fact smoother and follows a SE generalized Wishart process."
   ]
  },
  {
   "cell_type": "code",
   "execution_count": 28,
   "metadata": {},
   "outputs": [],
   "source": [
    "def ou(t1, t2, params):\n",
    "    \"\"\"\n",
    "    Ornstein-Uhlenbeck kernel. Commonly used for financial data because\n",
    "    it's not quite as smooth as the squared-exponential kernel.\n",
    "    \"\"\"\n",
    "    tau = params[0]\n",
    "    \n",
    "    return SIG_VAR * np.exp(-abs(t2 - t1)/tau)\n",
    "\n",
    "def squared_exponential(t1, t2, params):\n",
    "    \"\"\"\n",
    "    Squared-exponential kernel.\n",
    "    \"\"\"\n",
    "    tau = params[0]\n",
    "    \n",
    "    return SIG_VAR * np.exp(-((t1 - t2)/tau)**2)"
   ]
  },
  {
   "cell_type": "markdown",
   "metadata": {},
   "source": [
    "### Covariance model\n",
    "\n",
    "The model for $\\Sigma(t)$ follows. It's a direct implementation of equations (15)-(17) and the  sampling procedure described in the GWP paper. We follow their direction and implement [elliptical slice sampling](http://proceedings.mlr.press/v9/murray10a/murray10a.pdf) for sampling the GPs which construct $\\Sigma(t)$. We use the `emcee` library in Python for the Metropolis-Hasting steps (learning $L$ and $\\mathbf{\\theta}$). The main flow of the program is captured in `gibbs_sampler`. I opted not to wrap these methods in a class because it made Jupyter development easier. At the end of this notebook I'll describe how I created and tested the final version of this code (which is in a separate file, with tests in `pytest`)."
   ]
  },
  {
   "cell_type": "code",
   "execution_count": 78,
   "metadata": {},
   "outputs": [],
   "source": [
    "SIG_VAR = 0.95\n",
    "KERNEL = squared_exponential\n",
    "LOGTHETA_PRIOR_MEAN = 0.5\n",
    "LOGTHETA_PRIOR_VAR = 2\n",
    "L_PRIOR_VAR = 1e-2\n",
    "MH_THETA_SCALE = 1\n",
    "MH_L_SCALE = 1e-3\n",
    "KERNEL_SCALE = 1\n",
    "\n",
    "def kidx(Nu, N, T):\n",
    "    return lambda a, b, c: a * (N * T) + b * T + c\n",
    "\n",
    "def construct_kernel(params, T, k):\n",
    "    \"\"\"\n",
    "    Construct a GP kernel.\n",
    "    \n",
    "    params: The kernel parameters of dimension ν x N x h where ν is the\n",
    "            d.f., N is the dimensionality of the data, and h is the number\n",
    "            of parameters for the kernel function.\n",
    "    T:      The number of timepoints.\n",
    "    k:      The kernel function.\n",
    "    \n",
    "    Returns a νNT x νNT kernel matrix.\n",
    "    \"\"\"\n",
    "    Nu, N, h = params.shape\n",
    "    kernel_idx = kidx(Nu, N, T)\n",
    "    \n",
    "    K = np.eye(np.prod([Nu, N, T]))\n",
    "    for nu in range(Nu):\n",
    "        for n in range(N):\n",
    "            for t1 in range(T):\n",
    "                for t2 in range(T):\n",
    "                    i = kernel_idx(nu, n, t1)\n",
    "                    j = kernel_idx(nu, n, t2)\n",
    "                    if t1 != t2:\n",
    "                        K[i, j] = k(t1, t2, params[nu, n, :])\n",
    "    \n",
    "    return K * KERNEL_SCALE\n",
    "\n",
    "def compute_sigma(L, u):\n",
    "    \"\"\"\n",
    "    Compute the covariance matrix for a specific timepoint.\n",
    "    \n",
    "    L: The lower cholesky decomposition of the scale parameter for the Wishart\n",
    "       distribution (of dimension N x N).\n",
    "    u: The fitted GP function values that generate the draw from the Wishart distribution.\n",
    "       Dimensionality: ν x N.\n",
    "       \n",
    "    Returns the N x N covariance matrix.\n",
    "    \"\"\"\n",
    "    Nu = u.shape[0]\n",
    "    Sig = np.zeros(L.shape)\n",
    "    for nu in range(Nu):\n",
    "        Sig += np.matmul(L, np.matmul(np.outer(u[nu, :], u[nu, :]), L.T))\n",
    "    \n",
    "    return Sig\n",
    "\n",
    "def log_data_likelihood(returns, u, L, Nu):\n",
    "    \"\"\"\n",
    "    The likelihood of the data. We sum over all possible timepoints\n",
    "    $t \\in [T]$, computing the probability using r(t) ~ N(0, Σ(t)).\n",
    "    \"\"\"\n",
    "    loglik = 0\n",
    "    N, T = returns.shape\n",
    "    u = np.reshape(u, (Nu, N, T))\n",
    "    for t in range(T):\n",
    "        Siginv = np.linalg.inv(compute_sigma(L, u[:, :, t]))\n",
    "        term = -0.5*np.matmul(returns[:, t].T, np.matmul(Siginv, returns[:, t]))\n",
    "        loglik += term\n",
    "    \n",
    "    return loglik\n",
    "\n",
    "def init_logtheta(nu, N, h=1):\n",
    "    \"\"\"\n",
    "    Initialize the GP hyperparameters to their logs.\n",
    "    \n",
    "    Returns a ν x N x h matrix where each is an independent draw from\n",
    "    the LogNormal prior.\n",
    "    \"\"\"\n",
    "    return np.random.normal(size=(nu, N, h))\n",
    "\n",
    "def init_u(T, theta):\n",
    "    \"\"\"\n",
    "    Initialize the GP draws that will construct the covariance matrix.\n",
    "    \n",
    "    T:     The number of timepoints.\n",
    "    theta: The kernel parameters, of dimension ν x N x h where ν is the\n",
    "           d.f., N is the dimensionality of the data, and h is the number\n",
    "           of parameters for the kernel function.\n",
    "    \n",
    "    Returns a matrix of dimension ν x N x T which is a random draw from\n",
    "    the multivariate normal with kernel constructed by theta.\n",
    "    \"\"\"\n",
    "    N, nu, _ = theta.shape\n",
    "    K = construct_kernel(theta, T, KERNEL)\n",
    "    draw = np.random.multivariate_normal(np.zeros(K.shape[0]), K)\n",
    "    \n",
    "    return draw\n",
    "\n",
    "def init_L(N):\n",
    "    \"\"\"\n",
    "    Initialize the scale parameter for the Wishart distribution.\n",
    "    \n",
    "    Randomly generates a symmetric matrix V, then returns its lower\n",
    "    Cholesky decomposition.\n",
    "    \"\"\"\n",
    "    # X = np.random.randn(N, N)\n",
    "    # V = np.matmul(X, X.T)\n",
    "    # L = np.linalg.cholesky(V)\n",
    "    L = np.eye(N)\n",
    "    \n",
    "    return L * L_PRIOR_VAR\n",
    "\n",
    "def sample_u(f, theta, T, L, nu, returns):\n",
    "    \"\"\"\n",
    "    Sample u (equation 15). We use\n",
    "    [elliptical slice sampling](https://arxiv.org/abs/1001.0175),\n",
    "    specifically a direct implementation of the algorithm in figure 2.\n",
    "    \"\"\"\n",
    "    K = construct_kernel(theta, T, KERNEL)\n",
    "    Kinv = np.linalg.inv(K)\n",
    "    \n",
    "    ellipse = np.random.multivariate_normal(np.zeros(K.shape[0]), K)\n",
    "    u = np.random.uniform()\n",
    "    logy = log_data_likelihood(returns, f, L, nu) + np.log(u)\n",
    "    angle = np.random.uniform(high=2*np.pi)\n",
    "    angle_min, angle_max = angle - 2*np.pi, angle\n",
    "    while True:\n",
    "        fp = f*np.cos(angle) + ellipse*np.sin(angle)\n",
    "        log_data_lik = log_data_likelihood(returns, fp, L, nu)\n",
    "        if log_data_lik > logy:\n",
    "            log_u_lik = -0.5*np.matmul(fp, np.matmul(Kinv, fp))\n",
    "            return fp, log_data_lik + log_u_lik\n",
    "        else:\n",
    "            if angle < 0:\n",
    "                angle_min = angle\n",
    "            else:\n",
    "                angle_max = angle\n",
    "            angle = np.random.uniform(angle_min, angle_max)\n",
    "\n",
    "def sample_logtheta(logtheta, u, T, L, nu, returns):\n",
    "    \"\"\"\n",
    "    Sample theta (equation 16). We use standard M-H as implemented in\n",
    "    emcee to directly sample the next position in the chain.\n",
    "    \"\"\"\n",
    "    def log_logtheta_prob(logthp):\n",
    "        \"\"\"\n",
    "        Computes log(P(u | theta) * P(theta)) directly.\n",
    "        \"\"\"\n",
    "        logthp = np.reshape(logthp, theta.shape)\n",
    "        K = construct_kernel(np.exp(logthp), T, KERNEL)\n",
    "        Kinv = np.linalg.inv(K)\n",
    "        log_u_prob = -0.5*np.matmul(u, np.matmul(Kinv, u))\n",
    "        log_prior = np.sum(\n",
    "            -0.5*((logthp - LOGTHETA_PRIOR_MEAN)**2/LOGTHETA_PRIOR_VAR)\n",
    "        )\n",
    "        \n",
    "        return log_u_prob + log_prior\n",
    "        \n",
    "    dim = np.prod(logtheta.shape)\n",
    "    sampler = emcee.MHSampler(np.eye(dim)*MH_THETA_SCALE, dim=dim, lnprobfn=log_logtheta_prob)\n",
    "    logthetap, _, _ = sampler.run_mcmc(logtheta.flatten(), 1)\n",
    "    \n",
    "    return np.reshape(logthetap, logtheta.shape), log_logtheta_prob(logthetap)\n",
    "\n",
    "def sample_L(L, theta, u, nu, returns):\n",
    "    \"\"\"\n",
    "    Sample L (equation 17). We again use standard M-H as implemented in\n",
    "    emcee.\n",
    "    \"\"\"\n",
    "    def log_L_prob(Lp):\n",
    "        \"\"\"\n",
    "        Computes log(P(returns | u, L) * P(L)).\n",
    "        \"\"\"\n",
    "        Lpm = np.zeros(L.shape)\n",
    "        Lpm[np.tril_indices(L.shape[0])] = Lp\n",
    "        log_prior = np.sum(-0.5*Lp**2/L_PRIOR_VAR)\n",
    "        \n",
    "        return log_data_likelihood(returns, u, Lpm, nu) + log_prior\n",
    "    \n",
    "    dim = int((L.shape[0]**2 + L.shape[0])/2)\n",
    "    sampler = emcee.MHSampler(np.eye(dim)*MH_L_SCALE, dim=dim, lnprobfn=log_L_prob)\n",
    "    Lp, _, _ = sampler.run_mcmc(L[np.tril_indices(L.shape[0])], 1)\n",
    "    Lpm = np.zeros(L.shape)\n",
    "    Lpm[np.tril_indices(L.shape[0])] = Lp\n",
    "    \n",
    "    return Lpm, log_L_prob(Lp)\n",
    "\n",
    "def gibbs_sampler(returns, init=None, numit=1000):\n",
    "    \"\"\"\n",
    "    Perform Gibbs sampling in order to fit the model.\n",
    "    \n",
    "    returns: A matrix of dimension N x T where N is the number of assets\n",
    "             and T is the number of timepoints. Element (n, t) is the\n",
    "             return of the nth asset at time t.\n",
    "    \n",
    "    Returns the chain of samples and diagnostics.\n",
    "    \"\"\"\n",
    "    samples = []\n",
    "    diagnostics = []\n",
    "    \n",
    "    # Set the hyperparameters\n",
    "    N, T = returns.shape\n",
    "    nu = N + 1\n",
    "    \n",
    "    # Initialize the model parameters\n",
    "    if init:\n",
    "        logtheta = init['logtheta']\n",
    "        u = init['u']\n",
    "        L = init['L']\n",
    "    else:\n",
    "        logtheta = init_logtheta(nu, N)\n",
    "        u = init_u(T, np.exp(logtheta))\n",
    "        logtheta = init_logtheta(nu, N)\n",
    "        L = init_L(N)\n",
    "    \n",
    "    samples.append([u, np.exp(logtheta), L])\n",
    "\n",
    "    # Sample successively. This will converge to draws from\n",
    "    # P(u, theta, L | returns).\n",
    "    for it in range(numit):\n",
    "        data_lik = log_data_likelihood(returns, u, L, nu)\n",
    "        u, u_prob = sample_u(u, np.exp(logtheta), T, L, nu, returns)\n",
    "        logtheta, logtheta_prob = sample_logtheta(logtheta, u, T, L, nu, returns)\n",
    "        L, L_prob = sample_L(L, np.exp(logtheta), u, nu, returns)\n",
    "        if it % 10 is 0:\n",
    "            print(\n",
    "                \"Iteration {}: loglik = {:.2f}, log P(u|...) = {:.2f}, log P(theta|...) = {:.2f}, log P(L|...) = {:.2f}\".format(\n",
    "                    it, data_lik, u_prob, logtheta_prob, L_prob\n",
    "                )\n",
    "            )\n",
    "        \n",
    "        samples.append([u, np.exp(logtheta), L])\n",
    "        diagnostics.append([data_lik, u_prob, logtheta_prob, L_prob])\n",
    "        \n",
    "    return samples, diagnostics"
   ]
  },
  {
   "cell_type": "markdown",
   "metadata": {},
   "source": [
    "We run the model like this:"
   ]
  },
  {
   "cell_type": "code",
   "execution_count": 79,
   "metadata": {
    "scrolled": true
   },
   "outputs": [
    {
     "name": "stdout",
     "output_type": "stream",
     "text": [
      "Iteration 0: loglik = -5880.55, log P(u|...) = -8526.33, log P(theta|...) = -2701.04, log P(L|...) = -458.13\n",
      "Iteration 10: loglik = -136.65, log P(u|...) = -1219.53, log P(theta|...) = -1091.96, log P(L|...) = -138.33\n",
      "Iteration 20: loglik = -117.91, log P(u|...) = -1224.93, log P(theta|...) = -1129.29, log P(L|...) = -106.40\n",
      "Iteration 30: loglik = -33.97, log P(u|...) = -1146.93, log P(theta|...) = -1122.38, log P(L|...) = -39.04\n",
      "Iteration 40: loglik = -28.50, log P(u|...) = -1153.91, log P(theta|...) = -1134.25, log P(L|...) = -33.73\n",
      "Iteration 50: loglik = -24.54, log P(u|...) = -1140.22, log P(theta|...) = -1124.86, log P(L|...) = -31.65\n",
      "Iteration 60: loglik = -24.81, log P(u|...) = -1147.67, log P(theta|...) = -1131.74, log P(L|...) = -32.22\n",
      "Iteration 70: loglik = -21.44, log P(u|...) = -1121.33, log P(theta|...) = -1108.72, log P(L|...) = -31.80\n",
      "Iteration 80: loglik = -19.40, log P(u|...) = -1112.74, log P(theta|...) = -1102.48, log P(L|...) = -31.33\n",
      "Iteration 90: loglik = -18.99, log P(u|...) = -1111.75, log P(theta|...) = -1102.10, log P(L|...) = -30.72\n",
      "Iteration 100: loglik = -14.08, log P(u|...) = -1145.61, log P(theta|...) = -1140.37, log P(L|...) = -29.60\n",
      "Iteration 110: loglik = -15.76, log P(u|...) = -1081.29, log P(theta|...) = -1073.87, log P(L|...) = -29.90\n",
      "Iteration 120: loglik = -15.94, log P(u|...) = -1065.76, log P(theta|...) = -1058.75, log P(L|...) = -29.56\n",
      "Iteration 130: loglik = -12.40, log P(u|...) = -1046.50, log P(theta|...) = -1042.50, log P(L|...) = -32.55\n",
      "Iteration 140: loglik = -12.02, log P(u|...) = -1095.05, log P(theta|...) = -1092.92, log P(L|...) = -29.73\n",
      "Iteration 150: loglik = -5.92, log P(u|...) = -1054.84, log P(theta|...) = -1058.78, log P(L|...) = -29.93\n",
      "Iteration 160: loglik = -11.91, log P(u|...) = -1009.04, log P(theta|...) = -1006.34, log P(L|...) = -34.70\n",
      "Iteration 170: loglik = -13.00, log P(u|...) = -1037.59, log P(theta|...) = -1035.28, log P(L|...) = -36.40\n",
      "Iteration 180: loglik = -12.85, log P(u|...) = -1072.99, log P(theta|...) = -1069.29, log P(L|...) = -32.36\n",
      "Iteration 190: loglik = -11.68, log P(u|...) = -1039.74, log P(theta|...) = -1037.27, log P(L|...) = -33.37\n",
      "Iteration 200: loglik = -11.21, log P(u|...) = -1037.88, log P(theta|...) = -1037.53, log P(L|...) = -32.96\n",
      "Iteration 210: loglik = -8.82, log P(u|...) = -1113.27, log P(theta|...) = -1113.92, log P(L|...) = -31.96\n",
      "Iteration 220: loglik = -9.36, log P(u|...) = -1079.43, log P(theta|...) = -1079.21, log P(L|...) = -30.60\n",
      "Iteration 230: loglik = -7.21, log P(u|...) = -1078.18, log P(theta|...) = -1079.43, log P(L|...) = -28.54\n",
      "Iteration 240: loglik = -5.54, log P(u|...) = -1068.12, log P(theta|...) = -1071.90, log P(L|...) = -30.73\n",
      "Iteration 250: loglik = -9.45, log P(u|...) = -1080.21, log P(theta|...) = -1079.80, log P(L|...) = -32.44\n",
      "Iteration 260: loglik = -7.45, log P(u|...) = -1050.19, log P(theta|...) = -1051.68, log P(L|...) = -31.45\n",
      "Iteration 270: loglik = -6.72, log P(u|...) = -1025.92, log P(theta|...) = -1027.84, log P(L|...) = -29.82\n",
      "Iteration 280: loglik = -10.04, log P(u|...) = -1047.86, log P(theta|...) = -1047.40, log P(L|...) = -34.70\n",
      "Iteration 290: loglik = -9.20, log P(u|...) = -1071.31, log P(theta|...) = -1071.52, log P(L|...) = -34.03\n",
      "Iteration 300: loglik = -11.31, log P(u|...) = -1068.70, log P(theta|...) = -1067.15, log P(L|...) = -35.79\n",
      "Iteration 310: loglik = -8.70, log P(u|...) = -1030.54, log P(theta|...) = -1031.47, log P(L|...) = -33.31\n",
      "Iteration 320: loglik = -6.12, log P(u|...) = -1051.45, log P(theta|...) = -1054.69, log P(L|...) = -31.20\n",
      "Iteration 330: loglik = -8.25, log P(u|...) = -1052.62, log P(theta|...) = -1054.06, log P(L|...) = -30.01\n",
      "Iteration 340: loglik = -6.93, log P(u|...) = -1028.63, log P(theta|...) = -1031.67, log P(L|...) = -29.77\n",
      "Iteration 350: loglik = -6.96, log P(u|...) = -1023.06, log P(theta|...) = -1024.66, log P(L|...) = -28.66\n",
      "Iteration 360: loglik = -8.55, log P(u|...) = -1011.72, log P(theta|...) = -1012.42, log P(L|...) = -29.20\n",
      "Iteration 370: loglik = -8.39, log P(u|...) = -1033.39, log P(theta|...) = -1032.87, log P(L|...) = -26.81\n",
      "Iteration 380: loglik = -11.57, log P(u|...) = -1001.93, log P(theta|...) = -1000.85, log P(L|...) = -27.37\n",
      "Iteration 390: loglik = -13.04, log P(u|...) = -1045.02, log P(theta|...) = -1040.73, log P(L|...) = -30.58\n",
      "Iteration 400: loglik = -12.04, log P(u|...) = -1043.89, log P(theta|...) = -1038.87, log P(L|...) = -30.30\n",
      "Iteration 410: loglik = -8.88, log P(u|...) = -1067.48, log P(theta|...) = -1066.13, log P(L|...) = -28.37\n",
      "Iteration 420: loglik = -14.71, log P(u|...) = -1033.59, log P(theta|...) = -1027.83, log P(L|...) = -29.61\n",
      "Iteration 430: loglik = -14.97, log P(u|...) = -1070.24, log P(theta|...) = -1065.27, log P(L|...) = -28.83\n",
      "Iteration 440: loglik = -9.36, log P(u|...) = -1056.94, log P(theta|...) = -1056.41, log P(L|...) = -25.80\n",
      "Iteration 450: loglik = -9.02, log P(u|...) = -1055.19, log P(theta|...) = -1055.13, log P(L|...) = -24.57\n",
      "Iteration 460: loglik = -6.87, log P(u|...) = -1072.90, log P(theta|...) = -1074.49, log P(L|...) = -31.14\n",
      "Iteration 470: loglik = -6.94, log P(u|...) = -1067.13, log P(theta|...) = -1069.35, log P(L|...) = -29.46\n",
      "Iteration 480: loglik = -7.53, log P(u|...) = -1064.29, log P(theta|...) = -1066.92, log P(L|...) = -32.30\n",
      "Iteration 490: loglik = -5.61, log P(u|...) = -1053.76, log P(theta|...) = -1057.32, log P(L|...) = -30.87\n",
      "Iteration 500: loglik = -6.54, log P(u|...) = -1077.67, log P(theta|...) = -1080.35, log P(L|...) = -30.27\n",
      "Iteration 510: loglik = -6.13, log P(u|...) = -982.63, log P(theta|...) = -984.68, log P(L|...) = -31.04\n",
      "Iteration 520: loglik = -6.79, log P(u|...) = -990.04, log P(theta|...) = -993.20, log P(L|...) = -30.58\n",
      "Iteration 530: loglik = -8.64, log P(u|...) = -970.05, log P(theta|...) = -970.54, log P(L|...) = -25.67\n",
      "Iteration 540: loglik = -10.45, log P(u|...) = -1030.51, log P(theta|...) = -1029.19, log P(L|...) = -29.99\n",
      "Iteration 550: loglik = -5.96, log P(u|...) = -1047.20, log P(theta|...) = -1050.14, log P(L|...) = -29.47\n",
      "Iteration 560: loglik = -5.56, log P(u|...) = -1048.33, log P(theta|...) = -1050.85, log P(L|...) = -27.11\n",
      "Iteration 570: loglik = -5.05, log P(u|...) = -1083.54, log P(theta|...) = -1087.68, log P(L|...) = -24.35\n",
      "Iteration 580: loglik = -6.35, log P(u|...) = -1087.89, log P(theta|...) = -1090.75, log P(L|...) = -25.64\n",
      "Iteration 590: loglik = -6.84, log P(u|...) = -1099.64, log P(theta|...) = -1101.97, log P(L|...) = -25.11\n",
      "Iteration 600: loglik = -12.17, log P(u|...) = -1108.38, log P(theta|...) = -1105.36, log P(L|...) = -27.99\n",
      "Iteration 610: loglik = -9.08, log P(u|...) = -1067.41, log P(theta|...) = -1067.14, log P(L|...) = -27.61\n",
      "Iteration 620: loglik = -9.70, log P(u|...) = -1100.02, log P(theta|...) = -1099.87, log P(L|...) = -27.71\n",
      "Iteration 630: loglik = -8.08, log P(u|...) = -1077.19, log P(theta|...) = -1078.37, log P(L|...) = -26.38\n",
      "Iteration 640: loglik = -7.41, log P(u|...) = -1066.89, log P(theta|...) = -1068.37, log P(L|...) = -26.78\n",
      "Iteration 650: loglik = -9.58, log P(u|...) = -1046.84, log P(theta|...) = -1047.17, log P(L|...) = -27.92\n",
      "Iteration 660: loglik = -9.69, log P(u|...) = -1107.00, log P(theta|...) = -1106.57, log P(L|...) = -28.69\n",
      "Iteration 670: loglik = -9.28, log P(u|...) = -1130.27, log P(theta|...) = -1130.55, log P(L|...) = -27.46\n",
      "Iteration 680: loglik = -9.03, log P(u|...) = -1109.42, log P(theta|...) = -1108.93, log P(L|...) = -28.10\n",
      "Iteration 690: loglik = -7.84, log P(u|...) = -1094.58, log P(theta|...) = -1094.36, log P(L|...) = -27.62\n",
      "Iteration 700: loglik = -11.13, log P(u|...) = -1093.28, log P(theta|...) = -1090.75, log P(L|...) = -31.05\n",
      "Iteration 710: loglik = -10.35, log P(u|...) = -1119.25, log P(theta|...) = -1118.51, log P(L|...) = -27.90\n",
      "Iteration 720: loglik = -10.25, log P(u|...) = -1104.23, log P(theta|...) = -1104.36, log P(L|...) = -26.77\n",
      "Iteration 730: loglik = -9.44, log P(u|...) = -1081.96, log P(theta|...) = -1081.53, log P(L|...) = -26.00\n",
      "Iteration 740: loglik = -7.96, log P(u|...) = -1072.12, log P(theta|...) = -1072.83, log P(L|...) = -26.99\n",
      "Iteration 750: loglik = -8.05, log P(u|...) = -1050.08, log P(theta|...) = -1051.23, log P(L|...) = -28.00\n",
      "Iteration 760: loglik = -6.22, log P(u|...) = -1045.24, log P(theta|...) = -1047.99, log P(L|...) = -31.44\n"
     ]
    },
    {
     "name": "stdout",
     "output_type": "stream",
     "text": [
      "Iteration 770: loglik = -6.51, log P(u|...) = -1030.26, log P(theta|...) = -1032.76, log P(L|...) = -31.09\n",
      "Iteration 780: loglik = -7.36, log P(u|...) = -1034.92, log P(theta|...) = -1036.77, log P(L|...) = -37.11\n",
      "Iteration 790: loglik = -7.74, log P(u|...) = -1032.44, log P(theta|...) = -1033.84, log P(L|...) = -38.06\n",
      "Iteration 800: loglik = -9.64, log P(u|...) = -1039.07, log P(theta|...) = -1039.01, log P(L|...) = -37.68\n",
      "Iteration 810: loglik = -8.19, log P(u|...) = -1028.79, log P(theta|...) = -1028.97, log P(L|...) = -35.50\n",
      "Iteration 820: loglik = -8.65, log P(u|...) = -1050.19, log P(theta|...) = -1049.77, log P(L|...) = -33.62\n",
      "Iteration 830: loglik = -9.74, log P(u|...) = -1032.33, log P(theta|...) = -1031.71, log P(L|...) = -34.18\n",
      "Iteration 840: loglik = -13.24, log P(u|...) = -1033.48, log P(theta|...) = -1029.86, log P(L|...) = -37.76\n",
      "Iteration 850: loglik = -17.18, log P(u|...) = -1052.97, log P(theta|...) = -1045.17, log P(L|...) = -36.10\n",
      "Iteration 860: loglik = -17.67, log P(u|...) = -1073.87, log P(theta|...) = -1065.29, log P(L|...) = -36.87\n",
      "Iteration 870: loglik = -12.11, log P(u|...) = -1058.15, log P(theta|...) = -1055.28, log P(L|...) = -28.24\n",
      "Iteration 880: loglik = -9.60, log P(u|...) = -1047.74, log P(theta|...) = -1047.33, log P(L|...) = -27.80\n",
      "Iteration 890: loglik = -14.26, log P(u|...) = -1035.70, log P(theta|...) = -1032.00, log P(L|...) = -30.77\n",
      "Iteration 900: loglik = -7.35, log P(u|...) = -1037.55, log P(theta|...) = -1039.40, log P(L|...) = -34.03\n",
      "Iteration 910: loglik = -11.99, log P(u|...) = -1057.63, log P(theta|...) = -1054.49, log P(L|...) = -33.72\n",
      "Iteration 920: loglik = -8.07, log P(u|...) = -1032.42, log P(theta|...) = -1033.42, log P(L|...) = -31.49\n",
      "Iteration 930: loglik = -10.55, log P(u|...) = -1020.40, log P(theta|...) = -1019.01, log P(L|...) = -31.48\n",
      "Iteration 940: loglik = -7.16, log P(u|...) = -1077.59, log P(theta|...) = -1079.58, log P(L|...) = -27.52\n",
      "Iteration 950: loglik = -8.63, log P(u|...) = -1092.65, log P(theta|...) = -1092.44, log P(L|...) = -26.60\n",
      "Iteration 960: loglik = -8.85, log P(u|...) = -1087.18, log P(theta|...) = -1087.43, log P(L|...) = -26.61\n",
      "Iteration 970: loglik = -6.41, log P(u|...) = -1102.00, log P(theta|...) = -1104.98, log P(L|...) = -26.59\n",
      "Iteration 980: loglik = -7.37, log P(u|...) = -1073.91, log P(theta|...) = -1075.03, log P(L|...) = -32.77\n",
      "Iteration 990: loglik = -10.58, log P(u|...) = -1085.55, log P(theta|...) = -1084.70, log P(L|...) = -33.59\n"
     ]
    }
   ],
   "source": [
    "samples, diagnostics = gibbs_sampler(data, numit=1_000)"
   ]
  },
  {
   "cell_type": "markdown",
   "metadata": {},
   "source": [
    "We can assess model convergence by looking at the data likelihood $P(\\mathcal{D} | L, u, \\theta)$. It's better, however, to look at the posterior over each parameter (e.g. $\\log P(u | \\dots)$). We plot that below:"
   ]
  },
  {
   "cell_type": "code",
   "execution_count": 154,
   "metadata": {},
   "outputs": [
    {
     "data": {
      "image/png": "[encoded data removed]",
      "text/plain": [
       "<Figure size 864x720 with 4 Axes>"
      ]
     },
     "metadata": {
      "needs_background": "light"
     },
     "output_type": "display_data"
    }
   ],
   "source": [
    "diagnostics = np.asarray(diagnostics)\n",
    "\n",
    "ymins = [-50, -1500, -1500, -100]\n",
    "plt.figure(figsize=(12, 10))\n",
    "for pn in range(4):\n",
    "    plt.subplot(2, 2, pn + 1)\n",
    "    plt.plot(diagnostics[:, pn])\n",
    "    plt.xlabel(\"iteration\")\n",
    "    plt.ylabel(\"log prob\")\n",
    "    plt.ylim(ymins[pn], 100)\n",
    "\n",
    "plt.show()"
   ]
  },
  {
   "cell_type": "markdown",
   "metadata": {},
   "source": [
    "We can see that convergence occurs after approximately 200 iterations - that is, the first 200 iterations are \"burn-in.\" In theory we can select any sample after that point and it's a valid sample from the posterior $P(u, L, \\theta | \\mathcal{D})$ where $\\mathcal{D}$ is the training data.\n",
    "\n",
    "We can predict according to equation (22) of the GWP paper, and compute $\\Sigma(T + 1)$:"
   ]
  },
  {
   "cell_type": "code",
   "execution_count": 134,
   "metadata": {},
   "outputs": [],
   "source": [
    "def predict(L, u, theta, Nu, N, T):\n",
    "    Kbinv = np.linalg.inv(construct_kernel(theta, T, KERNEL))\n",
    "    Kfull = construct_kernel(theta, T + 1, KERNEL)\n",
    "    idx = Nu * N * T\n",
    "    A = Kfull[idx:, :idx]\n",
    "    ustar = np.reshape(np.matmul(np.matmul(A, Kbinv), u), (Nu, N, 1))\n",
    "    \n",
    "    return compute_sigma(L, ustar[:, :, 0])"
   ]
  },
  {
   "cell_type": "code",
   "execution_count": 145,
   "metadata": {
    "scrolled": true
   },
   "outputs": [
    {
     "name": "stdout",
     "output_type": "stream",
     "text": [
      "[   -4.599398 -1083.851185 -1087.819826   -24.52539 ]\n",
      "[[ 0.035789  0.009816 -0.000808  0.007537 -0.005047  0.003501]\n",
      " [ 0.009816  0.002693 -0.000222  0.002067 -0.001384  0.00096 ]\n",
      " [-0.000808 -0.000222  0.000018 -0.00017   0.000114 -0.000079]\n",
      " [ 0.007537  0.002067 -0.00017   0.001587 -0.001063  0.000737]\n",
      " [-0.005047 -0.001384  0.000114 -0.001063  0.000712 -0.000494]\n",
      " [ 0.003501  0.00096  -0.000079  0.000737 -0.000494  0.000343]]\n"
     ]
    }
   ],
   "source": [
    "print(diagnostics[np.argmax(diagnostics[:, 0]), :])\n",
    "top_sample = samples[np.argmax(diagnostics[:, 0])]\n",
    "u, theta, L = top_sample\n",
    "V = np.matmul(L, L.T)\n",
    "print(predict(L, u, theta, 7, 6, 50))"
   ]
  },
  {
   "cell_type": "markdown",
   "metadata": {},
   "source": [
    "### Returns model\n",
    "\n",
    "We'll now implement a simple algorithm using `emcee` to fit individual GPs to each cryptocurrency's returns. We'll assume each asset's returns are modeled by a zero-mean Gaussian process with an Ornstein-Uhlenbeck kernel. The parameters of the model are the timescales ($\\tau$). We'll assume each asset has its own timescale and signal variance, so we can fit a model for each asset individually."
   ]
  },
  {
   "cell_type": "code",
   "execution_count": 152,
   "metadata": {},
   "outputs": [
    {
     "name": "stdout",
     "output_type": "stream",
     "text": [
      "emcee: Exception while calling your likelihood function:\n",
      "  params: [37.234153  0.740249]\n",
      "  args: []\n",
      "  kwargs: {}\n",
      "  exception:\n"
     ]
    },
    {
     "name": "stderr",
     "output_type": "stream",
     "text": [
      "Traceback (most recent call last):\n",
      "  File \"/usr/local/lib/python3.6/dist-packages/emcee/ensemble.py\", line 519, in __call__\n",
      "    return self.f(x, *self.args, **self.kwargs)\n",
      "  File \"<ipython-input-152-1a12ed884a2c>\", line 17, in log_likelihood\n",
      "    K = construct_kernel_gp(tau, sig_var, len(returns), GP_KERNEL)\n",
      "  File \"<ipython-input-152-1a12ed884a2c>\", line 9, in construct_kernel_gp\n",
      "    K[t1, t2] = sig_var * k(t1, t2, [tau])\n",
      "  File \"<ipython-input-28-3cf48db1dc9b>\", line 8, in ou\n",
      "    return SIG_VAR * np.exp(-abs(t2 - t1)/tau)\n",
      "KeyboardInterrupt\n"
     ]
    },
    {
     "ename": "KeyboardInterrupt",
     "evalue": "",
     "output_type": "error",
     "traceback": [
      "\u001b[0;31m---------------------------------------------------------------------------\u001b[0m",
      "\u001b[0;31mKeyboardInterrupt\u001b[0m                         Traceback (most recent call last)",
      "\u001b[0;32m<ipython-input-152-1a12ed884a2c>\u001b[0m in \u001b[0;36m<module>\u001b[0;34m\u001b[0m\n\u001b[1;32m     29\u001b[0m     \u001b[0;32mreturn\u001b[0m \u001b[0msampler\u001b[0m\u001b[0;34m\u001b[0m\u001b[0;34m\u001b[0m\u001b[0m\n\u001b[1;32m     30\u001b[0m \u001b[0;34m\u001b[0m\u001b[0m\n\u001b[0;32m---> 31\u001b[0;31m \u001b[0msampler\u001b[0m \u001b[0;34m=\u001b[0m \u001b[0mfit_gp\u001b[0m\u001b[0;34m(\u001b[0m\u001b[0mbtc\u001b[0m\u001b[0;34m,\u001b[0m \u001b[0;36m500\u001b[0m\u001b[0;34m)\u001b[0m\u001b[0;34m\u001b[0m\u001b[0;34m\u001b[0m\u001b[0m\n\u001b[0m",
      "\u001b[0;32m<ipython-input-152-1a12ed884a2c>\u001b[0m in \u001b[0;36mfit_gp\u001b[0;34m(returns, numit)\u001b[0m\n\u001b[1;32m     25\u001b[0m \u001b[0;34m\u001b[0m\u001b[0m\n\u001b[1;32m     26\u001b[0m     \u001b[0msampler\u001b[0m \u001b[0;34m=\u001b[0m \u001b[0memcee\u001b[0m\u001b[0;34m.\u001b[0m\u001b[0mEnsembleSampler\u001b[0m\u001b[0;34m(\u001b[0m\u001b[0mNWALKERS\u001b[0m\u001b[0;34m,\u001b[0m \u001b[0;36m2\u001b[0m\u001b[0;34m,\u001b[0m \u001b[0mlog_likelihood\u001b[0m\u001b[0;34m)\u001b[0m\u001b[0;34m\u001b[0m\u001b[0;34m\u001b[0m\u001b[0m\n\u001b[0;32m---> 27\u001b[0;31m     \u001b[0msampler\u001b[0m\u001b[0;34m.\u001b[0m\u001b[0mrun_mcmc\u001b[0m\u001b[0;34m(\u001b[0m\u001b[0minit\u001b[0m\u001b[0;34m,\u001b[0m \u001b[0mnumit\u001b[0m\u001b[0;34m)\u001b[0m\u001b[0;34m\u001b[0m\u001b[0;34m\u001b[0m\u001b[0m\n\u001b[0m\u001b[1;32m     28\u001b[0m \u001b[0;34m\u001b[0m\u001b[0m\n\u001b[1;32m     29\u001b[0m     \u001b[0;32mreturn\u001b[0m \u001b[0msampler\u001b[0m\u001b[0;34m\u001b[0m\u001b[0;34m\u001b[0m\u001b[0m\n",
      "\u001b[0;32m/usr/local/lib/python3.6/dist-packages/emcee/sampler.py\u001b[0m in \u001b[0;36mrun_mcmc\u001b[0;34m(self, pos0, N, rstate0, lnprob0, **kwargs)\u001b[0m\n\u001b[1;32m    170\u001b[0m \u001b[0;34m\u001b[0m\u001b[0m\n\u001b[1;32m    171\u001b[0m         for results in self.sample(pos0, lnprob0, rstate0, iterations=N,\n\u001b[0;32m--> 172\u001b[0;31m                                    **kwargs):\n\u001b[0m\u001b[1;32m    173\u001b[0m             \u001b[0;32mpass\u001b[0m\u001b[0;34m\u001b[0m\u001b[0;34m\u001b[0m\u001b[0m\n\u001b[1;32m    174\u001b[0m \u001b[0;34m\u001b[0m\u001b[0m\n",
      "\u001b[0;32m/usr/local/lib/python3.6/dist-packages/emcee/ensemble.py\u001b[0m in \u001b[0;36msample\u001b[0;34m(self, p0, lnprob0, rstate0, blobs0, iterations, thin, storechain, mh_proposal)\u001b[0m\n\u001b[1;32m    257\u001b[0m                 \u001b[0;32mfor\u001b[0m \u001b[0mS0\u001b[0m\u001b[0;34m,\u001b[0m \u001b[0mS1\u001b[0m \u001b[0;32min\u001b[0m \u001b[0;34m[\u001b[0m\u001b[0;34m(\u001b[0m\u001b[0mfirst\u001b[0m\u001b[0;34m,\u001b[0m \u001b[0msecond\u001b[0m\u001b[0;34m)\u001b[0m\u001b[0;34m,\u001b[0m \u001b[0;34m(\u001b[0m\u001b[0msecond\u001b[0m\u001b[0;34m,\u001b[0m \u001b[0mfirst\u001b[0m\u001b[0;34m)\u001b[0m\u001b[0;34m]\u001b[0m\u001b[0;34m:\u001b[0m\u001b[0;34m\u001b[0m\u001b[0;34m\u001b[0m\u001b[0m\n\u001b[1;32m    258\u001b[0m                     q, newlnp, acc, blob = self._propose_stretch(p[S0], p[S1],\n\u001b[0;32m--> 259\u001b[0;31m                                                                  lnprob[S0])\n\u001b[0m\u001b[1;32m    260\u001b[0m                     \u001b[0;32mif\u001b[0m \u001b[0mnp\u001b[0m\u001b[0;34m.\u001b[0m\u001b[0many\u001b[0m\u001b[0;34m(\u001b[0m\u001b[0macc\u001b[0m\u001b[0;34m)\u001b[0m\u001b[0;34m:\u001b[0m\u001b[0;34m\u001b[0m\u001b[0;34m\u001b[0m\u001b[0m\n\u001b[1;32m    261\u001b[0m                         \u001b[0;31m# Update the positions, log probabilities and\u001b[0m\u001b[0;34m\u001b[0m\u001b[0;34m\u001b[0m\u001b[0;34m\u001b[0m\u001b[0m\n",
      "\u001b[0;32m/usr/local/lib/python3.6/dist-packages/emcee/ensemble.py\u001b[0m in \u001b[0;36m_propose_stretch\u001b[0;34m(self, p0, p1, lnprob0)\u001b[0m\n\u001b[1;32m    330\u001b[0m         \u001b[0;31m# Calculate the proposed positions and the log-probability there.\u001b[0m\u001b[0;34m\u001b[0m\u001b[0;34m\u001b[0m\u001b[0;34m\u001b[0m\u001b[0m\n\u001b[1;32m    331\u001b[0m         \u001b[0mq\u001b[0m \u001b[0;34m=\u001b[0m \u001b[0mc\u001b[0m\u001b[0;34m[\u001b[0m\u001b[0mrint\u001b[0m\u001b[0;34m]\u001b[0m \u001b[0;34m-\u001b[0m \u001b[0mzz\u001b[0m\u001b[0;34m[\u001b[0m\u001b[0;34m:\u001b[0m\u001b[0;34m,\u001b[0m \u001b[0mnp\u001b[0m\u001b[0;34m.\u001b[0m\u001b[0mnewaxis\u001b[0m\u001b[0;34m]\u001b[0m \u001b[0;34m*\u001b[0m \u001b[0;34m(\u001b[0m\u001b[0mc\u001b[0m\u001b[0;34m[\u001b[0m\u001b[0mrint\u001b[0m\u001b[0;34m]\u001b[0m \u001b[0;34m-\u001b[0m \u001b[0ms\u001b[0m\u001b[0;34m)\u001b[0m\u001b[0;34m\u001b[0m\u001b[0;34m\u001b[0m\u001b[0m\n\u001b[0;32m--> 332\u001b[0;31m         \u001b[0mnewlnprob\u001b[0m\u001b[0;34m,\u001b[0m \u001b[0mblob\u001b[0m \u001b[0;34m=\u001b[0m \u001b[0mself\u001b[0m\u001b[0;34m.\u001b[0m\u001b[0m_get_lnprob\u001b[0m\u001b[0;34m(\u001b[0m\u001b[0mq\u001b[0m\u001b[0;34m)\u001b[0m\u001b[0;34m\u001b[0m\u001b[0;34m\u001b[0m\u001b[0m\n\u001b[0m\u001b[1;32m    333\u001b[0m \u001b[0;34m\u001b[0m\u001b[0m\n\u001b[1;32m    334\u001b[0m         \u001b[0;31m# Decide whether or not the proposals should be accepted.\u001b[0m\u001b[0;34m\u001b[0m\u001b[0;34m\u001b[0m\u001b[0;34m\u001b[0m\u001b[0m\n",
      "\u001b[0;32m/usr/local/lib/python3.6/dist-packages/emcee/ensemble.py\u001b[0m in \u001b[0;36m_get_lnprob\u001b[0;34m(self, pos)\u001b[0m\n\u001b[1;32m    380\u001b[0m \u001b[0;34m\u001b[0m\u001b[0m\n\u001b[1;32m    381\u001b[0m         \u001b[0;31m# Run the log-probability calculations (optionally in parallel).\u001b[0m\u001b[0;34m\u001b[0m\u001b[0;34m\u001b[0m\u001b[0;34m\u001b[0m\u001b[0m\n\u001b[0;32m--> 382\u001b[0;31m         \u001b[0mresults\u001b[0m \u001b[0;34m=\u001b[0m \u001b[0mlist\u001b[0m\u001b[0;34m(\u001b[0m\u001b[0mM\u001b[0m\u001b[0;34m(\u001b[0m\u001b[0mself\u001b[0m\u001b[0;34m.\u001b[0m\u001b[0mlnprobfn\u001b[0m\u001b[0;34m,\u001b[0m \u001b[0;34m[\u001b[0m\u001b[0mp\u001b[0m\u001b[0;34m[\u001b[0m\u001b[0mi\u001b[0m\u001b[0;34m]\u001b[0m \u001b[0;32mfor\u001b[0m \u001b[0mi\u001b[0m \u001b[0;32min\u001b[0m \u001b[0mrange\u001b[0m\u001b[0;34m(\u001b[0m\u001b[0mlen\u001b[0m\u001b[0;34m(\u001b[0m\u001b[0mp\u001b[0m\u001b[0;34m)\u001b[0m\u001b[0;34m)\u001b[0m\u001b[0;34m]\u001b[0m\u001b[0;34m)\u001b[0m\u001b[0;34m)\u001b[0m\u001b[0;34m\u001b[0m\u001b[0;34m\u001b[0m\u001b[0m\n\u001b[0m\u001b[1;32m    383\u001b[0m \u001b[0;34m\u001b[0m\u001b[0m\n\u001b[1;32m    384\u001b[0m         \u001b[0;32mtry\u001b[0m\u001b[0;34m:\u001b[0m\u001b[0;34m\u001b[0m\u001b[0;34m\u001b[0m\u001b[0m\n",
      "\u001b[0;32m/usr/local/lib/python3.6/dist-packages/emcee/ensemble.py\u001b[0m in \u001b[0;36m__call__\u001b[0;34m(self, x)\u001b[0m\n\u001b[1;32m    517\u001b[0m     \u001b[0;32mdef\u001b[0m \u001b[0m__call__\u001b[0m\u001b[0;34m(\u001b[0m\u001b[0mself\u001b[0m\u001b[0;34m,\u001b[0m \u001b[0mx\u001b[0m\u001b[0;34m)\u001b[0m\u001b[0;34m:\u001b[0m\u001b[0;34m\u001b[0m\u001b[0;34m\u001b[0m\u001b[0m\n\u001b[1;32m    518\u001b[0m         \u001b[0;32mtry\u001b[0m\u001b[0;34m:\u001b[0m\u001b[0;34m\u001b[0m\u001b[0;34m\u001b[0m\u001b[0m\n\u001b[0;32m--> 519\u001b[0;31m             \u001b[0;32mreturn\u001b[0m \u001b[0mself\u001b[0m\u001b[0;34m.\u001b[0m\u001b[0mf\u001b[0m\u001b[0;34m(\u001b[0m\u001b[0mx\u001b[0m\u001b[0;34m,\u001b[0m \u001b[0;34m*\u001b[0m\u001b[0mself\u001b[0m\u001b[0;34m.\u001b[0m\u001b[0margs\u001b[0m\u001b[0;34m,\u001b[0m \u001b[0;34m**\u001b[0m\u001b[0mself\u001b[0m\u001b[0;34m.\u001b[0m\u001b[0mkwargs\u001b[0m\u001b[0;34m)\u001b[0m\u001b[0;34m\u001b[0m\u001b[0;34m\u001b[0m\u001b[0m\n\u001b[0m\u001b[1;32m    520\u001b[0m         \u001b[0;32mexcept\u001b[0m\u001b[0;34m:\u001b[0m\u001b[0;34m\u001b[0m\u001b[0;34m\u001b[0m\u001b[0m\n\u001b[1;32m    521\u001b[0m             \u001b[0;32mimport\u001b[0m \u001b[0mtraceback\u001b[0m\u001b[0;34m\u001b[0m\u001b[0;34m\u001b[0m\u001b[0m\n",
      "\u001b[0;32m<ipython-input-152-1a12ed884a2c>\u001b[0m in \u001b[0;36mlog_likelihood\u001b[0;34m(params)\u001b[0m\n\u001b[1;32m     15\u001b[0m         \u001b[0mtau\u001b[0m\u001b[0;34m,\u001b[0m \u001b[0msig_var\u001b[0m \u001b[0;34m=\u001b[0m \u001b[0mparams\u001b[0m\u001b[0;34m\u001b[0m\u001b[0;34m\u001b[0m\u001b[0m\n\u001b[1;32m     16\u001b[0m         \u001b[0;32mif\u001b[0m \u001b[0mtau\u001b[0m \u001b[0;34m>\u001b[0m \u001b[0;36m0\u001b[0m \u001b[0;32mand\u001b[0m \u001b[0msig_var\u001b[0m \u001b[0;34m<\u001b[0m \u001b[0;36m1\u001b[0m \u001b[0;32mand\u001b[0m \u001b[0msig_var\u001b[0m \u001b[0;34m>\u001b[0m \u001b[0;36m0\u001b[0m\u001b[0;34m:\u001b[0m\u001b[0;34m\u001b[0m\u001b[0;34m\u001b[0m\u001b[0m\n\u001b[0;32m---> 17\u001b[0;31m             \u001b[0mK\u001b[0m \u001b[0;34m=\u001b[0m \u001b[0mconstruct_kernel_gp\u001b[0m\u001b[0;34m(\u001b[0m\u001b[0mtau\u001b[0m\u001b[0;34m,\u001b[0m \u001b[0msig_var\u001b[0m\u001b[0;34m,\u001b[0m \u001b[0mlen\u001b[0m\u001b[0;34m(\u001b[0m\u001b[0mreturns\u001b[0m\u001b[0;34m)\u001b[0m\u001b[0;34m,\u001b[0m \u001b[0mGP_KERNEL\u001b[0m\u001b[0;34m)\u001b[0m\u001b[0;34m\u001b[0m\u001b[0;34m\u001b[0m\u001b[0m\n\u001b[0m\u001b[1;32m     18\u001b[0m             \u001b[0mKinv\u001b[0m \u001b[0;34m=\u001b[0m \u001b[0mnp\u001b[0m\u001b[0;34m.\u001b[0m\u001b[0mlinalg\u001b[0m\u001b[0;34m.\u001b[0m\u001b[0minv\u001b[0m\u001b[0;34m(\u001b[0m\u001b[0mK\u001b[0m\u001b[0;34m)\u001b[0m\u001b[0;34m\u001b[0m\u001b[0;34m\u001b[0m\u001b[0m\n\u001b[1;32m     19\u001b[0m \u001b[0;34m\u001b[0m\u001b[0m\n",
      "\u001b[0;32m<ipython-input-152-1a12ed884a2c>\u001b[0m in \u001b[0;36mconstruct_kernel_gp\u001b[0;34m(tau, sig_var, T, k)\u001b[0m\n\u001b[1;32m      7\u001b[0m         \u001b[0;32mfor\u001b[0m \u001b[0mt2\u001b[0m \u001b[0;32min\u001b[0m \u001b[0mrange\u001b[0m\u001b[0;34m(\u001b[0m\u001b[0mT\u001b[0m\u001b[0;34m)\u001b[0m\u001b[0;34m:\u001b[0m\u001b[0;34m\u001b[0m\u001b[0;34m\u001b[0m\u001b[0m\n\u001b[1;32m      8\u001b[0m             \u001b[0;32mif\u001b[0m \u001b[0mt1\u001b[0m \u001b[0;34m!=\u001b[0m \u001b[0mt2\u001b[0m\u001b[0;34m:\u001b[0m\u001b[0;34m\u001b[0m\u001b[0;34m\u001b[0m\u001b[0m\n\u001b[0;32m----> 9\u001b[0;31m                 \u001b[0mK\u001b[0m\u001b[0;34m[\u001b[0m\u001b[0mt1\u001b[0m\u001b[0;34m,\u001b[0m \u001b[0mt2\u001b[0m\u001b[0;34m]\u001b[0m \u001b[0;34m=\u001b[0m \u001b[0msig_var\u001b[0m \u001b[0;34m*\u001b[0m \u001b[0mk\u001b[0m\u001b[0;34m(\u001b[0m\u001b[0mt1\u001b[0m\u001b[0;34m,\u001b[0m \u001b[0mt2\u001b[0m\u001b[0;34m,\u001b[0m \u001b[0;34m[\u001b[0m\u001b[0mtau\u001b[0m\u001b[0;34m]\u001b[0m\u001b[0;34m)\u001b[0m\u001b[0;34m\u001b[0m\u001b[0;34m\u001b[0m\u001b[0m\n\u001b[0m\u001b[1;32m     10\u001b[0m \u001b[0;34m\u001b[0m\u001b[0m\n\u001b[1;32m     11\u001b[0m     \u001b[0;32mreturn\u001b[0m \u001b[0mK\u001b[0m\u001b[0;34m\u001b[0m\u001b[0;34m\u001b[0m\u001b[0m\n",
      "\u001b[0;32m<ipython-input-28-3cf48db1dc9b>\u001b[0m in \u001b[0;36mou\u001b[0;34m(t1, t2, params)\u001b[0m\n\u001b[1;32m      6\u001b[0m     \u001b[0mtau\u001b[0m \u001b[0;34m=\u001b[0m \u001b[0mparams\u001b[0m\u001b[0;34m[\u001b[0m\u001b[0;36m0\u001b[0m\u001b[0;34m]\u001b[0m\u001b[0;34m\u001b[0m\u001b[0;34m\u001b[0m\u001b[0m\n\u001b[1;32m      7\u001b[0m \u001b[0;34m\u001b[0m\u001b[0m\n\u001b[0;32m----> 8\u001b[0;31m     \u001b[0;32mreturn\u001b[0m \u001b[0mSIG_VAR\u001b[0m \u001b[0;34m*\u001b[0m \u001b[0mnp\u001b[0m\u001b[0;34m.\u001b[0m\u001b[0mexp\u001b[0m\u001b[0;34m(\u001b[0m\u001b[0;34m-\u001b[0m\u001b[0mabs\u001b[0m\u001b[0;34m(\u001b[0m\u001b[0mt2\u001b[0m \u001b[0;34m-\u001b[0m \u001b[0mt1\u001b[0m\u001b[0;34m)\u001b[0m\u001b[0;34m/\u001b[0m\u001b[0mtau\u001b[0m\u001b[0;34m)\u001b[0m\u001b[0;34m\u001b[0m\u001b[0;34m\u001b[0m\u001b[0m\n\u001b[0m\u001b[1;32m      9\u001b[0m \u001b[0;34m\u001b[0m\u001b[0m\n\u001b[1;32m     10\u001b[0m \u001b[0;32mdef\u001b[0m \u001b[0msquared_exponential\u001b[0m\u001b[0;34m(\u001b[0m\u001b[0mt1\u001b[0m\u001b[0;34m,\u001b[0m \u001b[0mt2\u001b[0m\u001b[0;34m,\u001b[0m \u001b[0mparams\u001b[0m\u001b[0;34m)\u001b[0m\u001b[0;34m:\u001b[0m\u001b[0;34m\u001b[0m\u001b[0;34m\u001b[0m\u001b[0m\n",
      "\u001b[0;31mKeyboardInterrupt\u001b[0m: "
     ]
    }
   ],
   "source": [
    "GP_KERNEL = ou\n",
    "NWALKERS = 100\n",
    "\n",
    "def construct_kernel_gp(tau, sig_var, T, k):\n",
    "    K = np.eye(T)\n",
    "    for t1 in range(T):\n",
    "        for t2 in range(T):\n",
    "            if t1 != t2:\n",
    "                K[t1, t2] = sig_var * k(t1, t2, [tau])\n",
    "    \n",
    "    return K\n",
    "\n",
    "def fit_gp(returns, numit=1_000):\n",
    "    def log_likelihood(params):\n",
    "        tau, sig_var = params\n",
    "        if tau > 0 and sig_var < 1 and sig_var > 0:\n",
    "            K = construct_kernel_gp(tau, sig_var, len(returns), GP_KERNEL)\n",
    "            Kinv = np.linalg.inv(K)\n",
    "            \n",
    "            return -0.5*np.matmul(returns, np.matmul(Kinv, returns))\n",
    "        else:\n",
    "            return -np.inf\n",
    "    \n",
    "    init = [[np.random.lognormal(0.5, 2), np.random.uniform(0.87, 0.97)] for _ in range(NWALKERS)]\n",
    "    \n",
    "    sampler = emcee.EnsembleSampler(NWALKERS, 2, log_likelihood)\n",
    "    sampler.run_mcmc(init, numit)\n",
    "    \n",
    "    return sampler\n",
    "\n",
    "sampler = fit_gp(btc, 500)"
   ]
  },
  {
   "cell_type": "code",
   "execution_count": null,
   "metadata": {},
   "outputs": [],
   "source": []
  }
 ],
 "metadata": {
  "kernelspec": {
   "display_name": "Python 3",
   "language": "python",
   "name": "python3"
  },
  "language_info": {
   "codemirror_mode": {
    "name": "ipython",
    "version": 3
   },
   "file_extension": ".py",
   "mimetype": "text/x-python",
   "name": "python",
   "nbconvert_exporter": "python",
   "pygments_lexer": "ipython3",
   "version": "3.6.7"
  }
 },
 "nbformat": 4,
 "nbformat_minor": 2
}
