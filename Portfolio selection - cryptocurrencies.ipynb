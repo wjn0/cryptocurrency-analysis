{
 "cells": [
  {
   "cell_type": "code",
   "execution_count": 1,
   "metadata": {},
   "outputs": [],
   "source": [
    "import numpy as np\n",
    "import pandas as pd\n",
    "import requests as req\n",
    "import emcee\n",
    "from matplotlib import pyplot as plt\n",
    "import corner\n",
    "from scipy.optimize import minimize\n",
    "%matplotlib inline"
   ]
  },
  {
   "cell_type": "markdown",
   "metadata": {},
   "source": [
    "# Introduction\n",
    "\n",
    "The stated purpose of this notebook is to explore some cryptocurrency data. Yahoo! doesn't seem to allow programmatic access to its financial data, including crypto data. I felt that scraping data is outside of the scope of this project and so I opted to use a [different API](https://cryptocompare.com) which provides similar data, instead.\n",
    "\n",
    "We begin by exploring the API a little bit. We then request extensive historical price data on several cryptocurrencies. After briefly analyzing some of the summary statistics of the data, we begin to work on a predictive model of asset returns, concluding with an application to portfolio choice."
   ]
  },
  {
   "cell_type": "markdown",
   "metadata": {},
   "source": [
    "# Exploration"
   ]
  },
  {
   "cell_type": "code",
   "execution_count": 50,
   "metadata": {},
   "outputs": [],
   "source": [
    "endpoint = \"https://min-api.cryptocompare.com/data/\"\n",
    "api_key = \"f42555b48bbf03e7f64fdbfde60ebe62905fd2103ec9beada0969c3d81c749a8\""
   ]
  },
  {
   "cell_type": "code",
   "execution_count": 51,
   "metadata": {},
   "outputs": [],
   "source": [
    "def req_url(meth, params):\n",
    "    params[\"api_key\"] = api_key\n",
    "    \n",
    "    return endpoint + meth + \"?\" + \"&\".join([\"{}={}\".format(k, v) for k, v in params.items()])"
   ]
  },
  {
   "cell_type": "markdown",
   "metadata": {},
   "source": [
    "First, we'll request the top 100 crypto symbols by volume, so that we can request the prices of them:"
   ]
  },
  {
   "cell_type": "code",
   "execution_count": 52,
   "metadata": {},
   "outputs": [],
   "source": [
    "meth = \"top/totalvolfull\"\n",
    "params = {}\n",
    "params[\"limit\"] = 100\n",
    "params[\"tsym\"] = \"USD\"\n",
    "\n",
    "ru = req_url(meth, params)\n",
    "data = req.get(ru).json()['Data']\n",
    "top = list(map(lambda c: c['CoinInfo']['Name'], data))\n",
    "n_top = len(top)"
   ]
  },
  {
   "cell_type": "markdown",
   "metadata": {},
   "source": [
    "We can only request 1 crypto symbol at a time. We'll request 3 years of data:"
   ]
  },
  {
   "cell_type": "code",
   "execution_count": 53,
   "metadata": {},
   "outputs": [],
   "source": [
    "meth = \"histoday\"\n",
    "\n",
    "n_top = 10\n",
    "data = {}\n",
    "for i in range(n_top):\n",
    "    params = {}\n",
    "    params[\"fsym\"] = top[i]\n",
    "    params[\"tsym\"] = \"USD\"\n",
    "    params[\"limit\"] = 1 * 365\n",
    "    ru = req_url(meth, params)\n",
    "    data[top[i]] = req.get(ru).json()['Data']"
   ]
  },
  {
   "cell_type": "code",
   "execution_count": 54,
   "metadata": {},
   "outputs": [],
   "source": [
    "times = np.asarray(list(map(lambda tp: tp['time'], data[\"BTC\"])))[:, np.newaxis]\n",
    "highs = np.asarray(list(map(lambda ticker: list(map(lambda tp: tp[\"high\"], data[ticker])), data.keys()))).T"
   ]
  },
  {
   "cell_type": "code",
   "execution_count": 55,
   "metadata": {},
   "outputs": [],
   "source": [
    "df = pd.DataFrame(np.concatenate([times, highs], axis=1))"
   ]
  },
  {
   "cell_type": "code",
   "execution_count": 56,
   "metadata": {},
   "outputs": [],
   "source": [
    "df.columns = [\"time\"] + top[:n_top]"
   ]
  },
  {
   "cell_type": "code",
   "execution_count": 57,
   "metadata": {
    "scrolled": true
   },
   "outputs": [
    {
     "data": {
      "text/html": [
       "<div>\n",
       "<style scoped>\n",
       "    .dataframe tbody tr th:only-of-type {\n",
       "        vertical-align: middle;\n",
       "    }\n",
       "\n",
       "    .dataframe tbody tr th {\n",
       "        vertical-align: top;\n",
       "    }\n",
       "\n",
       "    .dataframe thead th {\n",
       "        text-align: right;\n",
       "    }\n",
       "</style>\n",
       "<table border=\"1\" class=\"dataframe\">\n",
       "  <thead>\n",
       "    <tr style=\"text-align: right;\">\n",
       "      <th></th>\n",
       "      <th>time</th>\n",
       "      <th>BTC</th>\n",
       "      <th>ETH</th>\n",
       "      <th>EOS</th>\n",
       "      <th>LTC</th>\n",
       "      <th>XRP</th>\n",
       "      <th>ENJ</th>\n",
       "      <th>BCH</th>\n",
       "      <th>QTUM</th>\n",
       "      <th>ZEC</th>\n",
       "      <th>NEO</th>\n",
       "    </tr>\n",
       "  </thead>\n",
       "  <tbody>\n",
       "    <tr>\n",
       "      <th>0</th>\n",
       "      <td>1.520554e+09</td>\n",
       "      <td>9433.38</td>\n",
       "      <td>730.46</td>\n",
       "      <td>6.18</td>\n",
       "      <td>189.98</td>\n",
       "      <td>0.8415</td>\n",
       "      <td>0.1646</td>\n",
       "      <td>1076.21</td>\n",
       "      <td>19.89</td>\n",
       "      <td>322.04</td>\n",
       "      <td>94.10</td>\n",
       "    </tr>\n",
       "    <tr>\n",
       "      <th>1</th>\n",
       "      <td>1.520640e+09</td>\n",
       "      <td>9518.62</td>\n",
       "      <td>747.82</td>\n",
       "      <td>6.45</td>\n",
       "      <td>194.73</td>\n",
       "      <td>0.8412</td>\n",
       "      <td>0.1482</td>\n",
       "      <td>1089.16</td>\n",
       "      <td>19.86</td>\n",
       "      <td>318.14</td>\n",
       "      <td>94.48</td>\n",
       "    </tr>\n",
       "    <tr>\n",
       "      <th>2</th>\n",
       "      <td>1.520726e+09</td>\n",
       "      <td>9735.64</td>\n",
       "      <td>735.01</td>\n",
       "      <td>6.20</td>\n",
       "      <td>193.19</td>\n",
       "      <td>0.8301</td>\n",
       "      <td>0.1468</td>\n",
       "      <td>1157.26</td>\n",
       "      <td>19.56</td>\n",
       "      <td>318.91</td>\n",
       "      <td>92.48</td>\n",
       "    </tr>\n",
       "    <tr>\n",
       "      <th>3</th>\n",
       "      <td>1.520813e+09</td>\n",
       "      <td>9907.41</td>\n",
       "      <td>739.87</td>\n",
       "      <td>6.18</td>\n",
       "      <td>193.04</td>\n",
       "      <td>0.8282</td>\n",
       "      <td>0.1666</td>\n",
       "      <td>1150.22</td>\n",
       "      <td>19.39</td>\n",
       "      <td>314.25</td>\n",
       "      <td>92.58</td>\n",
       "    </tr>\n",
       "    <tr>\n",
       "      <th>4</th>\n",
       "      <td>1.520899e+09</td>\n",
       "      <td>9486.12</td>\n",
       "      <td>714.19</td>\n",
       "      <td>5.94</td>\n",
       "      <td>181.94</td>\n",
       "      <td>0.7991</td>\n",
       "      <td>0.1414</td>\n",
       "      <td>1099.83</td>\n",
       "      <td>23.15</td>\n",
       "      <td>302.23</td>\n",
       "      <td>88.42</td>\n",
       "    </tr>\n",
       "  </tbody>\n",
       "</table>\n",
       "</div>"
      ],
      "text/plain": [
       "           time      BTC     ETH   EOS     LTC     XRP     ENJ      BCH  \\\n",
       "0  1.520554e+09  9433.38  730.46  6.18  189.98  0.8415  0.1646  1076.21   \n",
       "1  1.520640e+09  9518.62  747.82  6.45  194.73  0.8412  0.1482  1089.16   \n",
       "2  1.520726e+09  9735.64  735.01  6.20  193.19  0.8301  0.1468  1157.26   \n",
       "3  1.520813e+09  9907.41  739.87  6.18  193.04  0.8282  0.1666  1150.22   \n",
       "4  1.520899e+09  9486.12  714.19  5.94  181.94  0.7991  0.1414  1099.83   \n",
       "\n",
       "    QTUM     ZEC    NEO  \n",
       "0  19.89  322.04  94.10  \n",
       "1  19.86  318.14  94.48  \n",
       "2  19.56  318.91  92.48  \n",
       "3  19.39  314.25  92.58  \n",
       "4  23.15  302.23  88.42  "
      ]
     },
     "execution_count": 57,
     "metadata": {},
     "output_type": "execute_result"
    }
   ],
   "source": [
    "df.head()"
   ]
  },
  {
   "cell_type": "code",
   "execution_count": 58,
   "metadata": {},
   "outputs": [],
   "source": [
    "# r(t) = log(x(t + 1)/x(t)) where x(t) is asset price\n",
    "def returns(x):\n",
    "    T = len(x)\n",
    "    r = np.zeros(T - 1)\n",
    "    for t in range(T - 1):\n",
    "        r[t] = np.log(x[t+1]/x[t])\n",
    "    \n",
    "    return r"
   ]
  },
  {
   "cell_type": "code",
   "execution_count": 59,
   "metadata": {},
   "outputs": [],
   "source": [
    "btc = returns(np.asarray(df['BTC']))\n",
    "eth = returns(np.asarray(df['ETH']))\n",
    "eos = returns(np.asarray(df['EOS']))\n",
    "ltc = returns(np.asarray(df['LTC']))\n",
    "xrp = returns(np.asarray(df['XRP']))\n",
    "bch = returns(np.asarray(df['BCH']))"
   ]
  },
  {
   "cell_type": "code",
   "execution_count": 60,
   "metadata": {},
   "outputs": [
    {
     "data": {
      "image/png": "[encoded data removed]",
      "text/plain": [
       "<Figure size 432x288 with 1 Axes>"
      ]
     },
     "metadata": {
      "needs_background": "light"
     },
     "output_type": "display_data"
    }
   ],
   "source": [
    "plt.hist(btc)\n",
    "plt.xlabel(\"return (BTC)\")\n",
    "plt.ylabel(\"freq\")\n",
    "plt.show()"
   ]
  },
  {
   "cell_type": "code",
   "execution_count": 61,
   "metadata": {},
   "outputs": [
    {
     "data": {
      "image/png": "[encoded data removed]",
      "text/plain": [
       "<Figure size 432x288 with 1 Axes>"
      ]
     },
     "metadata": {
      "needs_background": "light"
     },
     "output_type": "display_data"
    }
   ],
   "source": [
    "plt.plot(btc)\n",
    "plt.xlabel(\"day\")\n",
    "plt.ylabel(\"return (btc)\")\n",
    "plt.show()"
   ]
  },
  {
   "cell_type": "code",
   "execution_count": 62,
   "metadata": {},
   "outputs": [],
   "source": [
    "T = 50\n",
    "data = np.concatenate((btc[:T, np.newaxis],\n",
    "                       eth[:T, np.newaxis],\n",
    "                       eos[:T, np.newaxis],\n",
    "                       ltc[:T, np.newaxis],\n",
    "                       xrp[:T, np.newaxis],\n",
    "                       bch[:T, np.newaxis]), axis=1).T"
   ]
  },
  {
   "cell_type": "markdown",
   "metadata": {},
   "source": [
    "We can see that the returns are highly correlated across all 6 cryptocurrencies. This greatly affects things like portfolio choice - how do you make a selection of assets in such a way that you maximize returns while minimizing risk (as measured by volatility)?"
   ]
  },
  {
   "cell_type": "code",
   "execution_count": null,
   "metadata": {
    "scrolled": false
   },
   "outputs": [],
   "source": [
    "currencies = ['BTC', 'ETH', 'EOS', 'LTC', 'XRP', 'BCH']\n",
    "\n",
    "cor = np.corrcoef(data)\n",
    "print(cor)\n",
    "plt.imshow(cor)\n",
    "plt.xticks(range(len(currencies)), currencies)\n",
    "plt.yticks(range(len(currencies)), currencies)\n",
    "plt.title(\"Correlations\")\n",
    "plt.show()"
   ]
  },
  {
   "cell_type": "markdown",
   "metadata": {},
   "source": [
    "# Goal\n",
    "\n",
    "Our goal is to build a predictive model for portfolio choice. Formally:\n",
    "\n",
    "Let $\\mathbf{r}(t) \\in \\mathbb{R}^n$ be the return of each of $n$ assets at time $t$, where $r_i(t) = \\log{\\frac{x_i(t + 1)}{x_i(t)}}$ for $i = 1, \\dots, n$. Define the asset covariance matrix as in the econometrics literature as $\\Sigma(t) = \\mathbf{r}(t) \\mathbf{r}(t)^T \\in \\mathbb{R}^{n \\times n}$. Let our training data be $\\{ \\mathbf{r}(t) | t \\in 1, \\dots, T \\}$ where $T$ is the number of training timepoints. Our goal is to define a model capable of then predicting $r(T + 1)$ and $\\Sigma(T + 1)$. We can then optimize portfolio choice by maximizing the Sharpe ratio:\n",
    "\n",
    "$$\\frac{\\mathbf{w}^T \\mathbf{r}(T + 1)}{\\sqrt{\\mathbf{w}^T \\Sigma(T + 1) \\mathbf{w}}}$$\n",
    "\n",
    "where $\\mathbf{w} \\in \\mathbb{S}^{n - 1}$, i.e. $\\mathbf{w}$ is a unit vector.\n",
    "\n",
    "Note that we're being deliberately vague about how we're going to compute $\\mathbf{r}(T + 1)$ and $\\Sigma(T + 1)$ - we'll try a number of different predictive models with the same sort of general idea."
   ]
  },
  {
   "cell_type": "markdown",
   "metadata": {},
   "source": [
    "# Choosing a model"
   ]
  },
  {
   "cell_type": "markdown",
   "metadata": {},
   "source": [
    "There are several possible methods to estimate $\\mathbf{r}(T + 1)$:\n",
    "\n",
    "* Simple regression\n",
    "* Autoregressive models (ARCH, GARCH, ...)\n",
    "* Neural networks (RNNs in particular)\n",
    "* Bayesian methods\n",
    "\n",
    "There are also methods (apparently generally lesser-known outside of econometrics) to estimate $\\Sigma(T + 1)$, including autoregressive models like MGARCH, but these frequently make problematic assumptions.\n",
    "\n",
    "## Proposed model\n",
    "\n",
    "I propose to use the [generalized Wishart process (GWP)](https://www.cs.cmu.edu/~andrewgw/gwp.pdf) to model $\\Sigma(t)$ and a Gaussian process (GP) to model $\\mathbf{r}(t)$. Together, these will produce estimates of $\\mathbf{r}(T + 1)$ and $\\Sigma(T + 1)$ which can then be used for portfolio choice.\n",
    "\n",
    "There are advantages to modelling the price separate from the covariance. For example, consider the Ornstein-Uhlenbeck and squared exponential kernels. The first is great for modeling more volatile data, like currency (real and crypto-). The second is used for more smooth functions. One might assume that while the actual returns follow an O-U Gaussian process, the covariance between currencies is in fact smoother and follows a SE generalized Wishart process."
   ]
  },
  {
   "cell_type": "code",
   "execution_count": null,
   "metadata": {},
   "outputs": [],
   "source": [
    "def ou(t1, t2, params):\n",
    "    \"\"\"\n",
    "    Ornstein-Uhlenbeck kernel. Commonly used for financial data because\n",
    "    it's not quite as smooth as the squared-exponential kernel.\n",
    "    \"\"\"\n",
    "    tau = params[0]\n",
    "    \n",
    "    return SIG_VAR * np.exp(-abs(t2 - t1)/tau)\n",
    "\n",
    "def squared_exponential(t1, t2, params):\n",
    "    \"\"\"\n",
    "    Squared-exponential kernel.\n",
    "    \"\"\"\n",
    "    tau = params[0]\n",
    "    \n",
    "    return SIG_VAR * np.exp(-((t1 - t2)/tau)**2)\n",
    "\n",
    "def periodic(t1, t2, params):\n",
    "    \"\"\"\n",
    "    A simple periodic kernel function.\n",
    "    \"\"\"\n",
    "    tau = params[0]\n",
    "    \n",
    "    return np.exp(-2*np.sin((t1 - t2)/2)**2/tau**2)"
   ]
  },
  {
   "cell_type": "markdown",
   "metadata": {},
   "source": [
    "In Gaussian process models, it's important to standardize the data because the kernels we construct are in fact assumed to have diagonally unit variance. This is less important for the GWP model, because any adjustments to the overall scale of the data can be \"absorbed\" into $L$. However, for consistency with our later GP model for predicting $\\mathbf{r}(t)$, we'll proceed with standardization anyway:"
   ]
  },
  {
   "cell_type": "code",
   "execution_count": null,
   "metadata": {},
   "outputs": [],
   "source": [
    "normalizer = np.diag(1/np.sqrt(np.diag(np.cov(data))))\n",
    "data_std = np.matmul(normalizer, data)\n",
    "np.cov(data_std)"
   ]
  },
  {
   "cell_type": "markdown",
   "metadata": {},
   "source": [
    "### Covariance model\n",
    "\n",
    "The model for $\\Sigma(t)$ follows. It's a direct implementation of equations (15)-(17) and the  sampling procedure described in the GWP paper. We follow their direction and implement [elliptical slice sampling](http://proceedings.mlr.press/v9/murray10a/murray10a.pdf) for sampling the GPs which construct $\\Sigma(t)$. We use the `emcee` library in Python for the Metropolis-Hasting steps (learning $L$ and $\\mathbf{\\theta}$). The main flow of the program is captured in `gibbs_sampler`. I opted not to wrap these methods in a class because it made Jupyter development easier. At the end of this notebook I'll describe how I created and tested the final version of this code (which is in a separate file, with tests)."
   ]
  },
  {
   "cell_type": "code",
   "execution_count": null,
   "metadata": {},
   "outputs": [],
   "source": [
    "SIG_VAR = 0.95\n",
    "KERNEL = squared_exponential\n",
    "LOGTHETA_PRIOR_MEAN = 0.5\n",
    "LOGTHETA_PRIOR_VAR = 2\n",
    "L_PRIOR_VAR = 1\n",
    "MH_THETA_SCALE = 1\n",
    "MH_L_SCALE = 1e-1\n",
    "KERNEL_SCALE = 1\n",
    "\n",
    "def kidx(Nu, N, T):\n",
    "    return lambda a, b, c: a * (N * T) + b * T + c\n",
    "\n",
    "def construct_kernel(params, T, k):\n",
    "    \"\"\"\n",
    "    Construct a GP kernel.\n",
    "    \n",
    "    params: The kernel parameters of dimension ν x N x h where ν is the\n",
    "            d.f., N is the dimensionality of the data, and h is the number\n",
    "            of parameters for the kernel function.\n",
    "    T:      The number of timepoints.\n",
    "    k:      The kernel function.\n",
    "    \n",
    "        Returns a νNT x νNT kernel matrix.\n",
    "    \"\"\"\n",
    "    Nu, N, h = params.shape\n",
    "    kernel_idx = kidx(Nu, N, T)\n",
    "    \n",
    "    K = np.eye(np.prod([Nu, N, T]))\n",
    "    for nu in range(Nu):\n",
    "        for n in range(N):\n",
    "            for t1 in range(T):\n",
    "                for t2 in range(T):\n",
    "                    i = kernel_idx(nu, n, t1)\n",
    "                    j = kernel_idx(nu, n, t2)\n",
    "                    if t1 != t2:\n",
    "                        K[i, j] = k(t1, t2, params[nu, n, :])\n",
    "    \n",
    "    return K * KERNEL_SCALE\n",
    "\n",
    "def compute_sigma(L, u):\n",
    "    \"\"\"\n",
    "    Compute the covariance matrix for a specific timepoint.\n",
    "    \n",
    "    L: The lower cholesky decomposition of the scale parameter for the Wishart\n",
    "       distribution (of dimension N x N).\n",
    "    u: The fitted GP function values that generate the draw from the Wishart distribution.\n",
    "       Dimensionality: ν x N.\n",
    "       \n",
    "    Returns the N x N covariance matrix.\n",
    "    \"\"\"\n",
    "    Nu = u.shape[0]\n",
    "    Sig = np.zeros(L.shape)\n",
    "    for nu in range(Nu):\n",
    "        Sig += np.matmul(L, np.matmul(np.outer(u[nu, :], u[nu, :]), L.T))\n",
    "    \n",
    "    return Sig\n",
    "\n",
    "def log_data_likelihood(returns, u, L, Nu):\n",
    "    \"\"\"\n",
    "    The likelihood of the data. We sum over all possible timepoints\n",
    "    $t \\in [T]$, computing the probability using r(t) ~ N(0, Σ(t)).\n",
    "    \"\"\"\n",
    "    loglik = 0\n",
    "    N, T = returns.shape\n",
    "    u = np.reshape(u, (Nu, N, T))\n",
    "    for t in range(T):\n",
    "        Siginv = np.linalg.inv(compute_sigma(L, u[:, :, t]))\n",
    "        term = -0.5*np.matmul(returns[:, t].T, np.matmul(Siginv, returns[:, t]))\n",
    "        loglik += term\n",
    "    \n",
    "    return loglik\n",
    "\n",
    "def init_logtheta(nu, N, h=1):\n",
    "    \"\"\"\n",
    "    Initialize the GP hyperparameters to their logs.\n",
    "    \n",
    "    Returns a ν x N x h matrix where each is an independent draw from\n",
    "    the LogNormal prior.\n",
    "    \"\"\"\n",
    "    return np.random.normal(size=(nu, N, h))\n",
    "\n",
    "def init_u(T, theta):\n",
    "    \"\"\"\n",
    "    Initialize the GP draws that will construct the covariance matrix.\n",
    "    \n",
    "    T:     The number of timepoints.\n",
    "    theta: The kernel parameters, of dimension ν x N x h where ν is the\n",
    "           d.f., N is the dimensionality of the data, and h is the number\n",
    "           of parameters for the kernel function.\n",
    "    \n",
    "    Returns a matrix of dimension ν x N x T which is a random draw from\n",
    "    the multivariate normal with kernel constructed by theta.\n",
    "    \"\"\"\n",
    "    N, nu, _ = theta.shape\n",
    "    K = construct_kernel(theta, T, KERNEL)\n",
    "    draw = np.random.multivariate_normal(np.zeros(K.shape[0]), K)\n",
    "    \n",
    "    return draw\n",
    "\n",
    "def init_L(N):\n",
    "    \"\"\"\n",
    "    Initialize the scale parameter for the Wishart distribution.\n",
    "    \n",
    "    Randomly generates a symmetric matrix V, then returns its lower\n",
    "    Cholesky decomposition.\n",
    "    \"\"\"\n",
    "    # X = np.random.randn(N, N)\n",
    "    # V = np.matmul(X, X.T)\n",
    "    # L = np.linalg.cholesky(V)\n",
    "    L = np.eye(N)\n",
    "    \n",
    "    return L * L_PRIOR_VAR\n",
    "\n",
    "def sample_u(f, theta, T, L, nu, returns):\n",
    "    \"\"\"\n",
    "    Sample u (equation 15). We use\n",
    "    [elliptical slice sampling](https://arxiv.org/abs/1001.0175),\n",
    "    specifically a direct implementation of the algorithm in figure 2.\n",
    "    \"\"\"\n",
    "    K = construct_kernel(theta, T, KERNEL)\n",
    "    Kinv = np.linalg.inv(K)\n",
    "    \n",
    "    ellipse = np.random.multivariate_normal(np.zeros(K.shape[0]), K)\n",
    "    u = np.random.uniform()\n",
    "    logy = log_data_likelihood(returns, f, L, nu) + np.log(u)\n",
    "    angle = np.random.uniform(high=2*np.pi)\n",
    "    angle_min, angle_max = angle - 2*np.pi, angle\n",
    "    while True:\n",
    "        fp = f*np.cos(angle) + ellipse*np.sin(angle)\n",
    "        log_data_lik = log_data_likelihood(returns, fp, L, nu)\n",
    "        if log_data_lik > logy:\n",
    "            log_u_lik = -0.5*np.matmul(fp, np.matmul(Kinv, fp))\n",
    "            return fp, log_data_lik + log_u_lik\n",
    "        else:\n",
    "            if angle < 0:\n",
    "                angle_min = angle\n",
    "            else:\n",
    "                angle_max = angle\n",
    "            angle = np.random.uniform(angle_min, angle_max)\n",
    "\n",
    "def sample_logtheta(logtheta, u, T, L, nu, returns):\n",
    "    \"\"\"\n",
    "    Sample theta (equation 16). We use standard M-H as implemented in\n",
    "    emcee to directly sample the next position in the chain.\n",
    "    \"\"\"\n",
    "    def log_logtheta_prob(logthp):\n",
    "        \"\"\"\n",
    "        Computes log(P(u | theta) * P(theta)) directly.\n",
    "        \"\"\"\n",
    "        logthp = np.reshape(logthp, theta.shape)\n",
    "        K = construct_kernel(np.exp(logthp), T, KERNEL)\n",
    "        Kinv = np.linalg.inv(K)\n",
    "        log_u_prob = -0.5*np.matmul(u, np.matmul(Kinv, u))\n",
    "        log_prior = np.sum(\n",
    "            -0.5*((logthp - LOGTHETA_PRIOR_MEAN)**2/LOGTHETA_PRIOR_VAR)\n",
    "        )\n",
    "        \n",
    "        return log_u_prob + log_prior\n",
    "        \n",
    "    dim = np.prod(logtheta.shape)\n",
    "    sampler = emcee.MHSampler(np.eye(dim)*MH_THETA_SCALE, dim=dim, lnprobfn=log_logtheta_prob)\n",
    "    logthetap, _, _ = sampler.run_mcmc(logtheta.flatten(), 1)\n",
    "    \n",
    "    return np.reshape(logthetap, logtheta.shape), log_logtheta_prob(logthetap)\n",
    "\n",
    "def sample_L(L, theta, u, nu, returns):\n",
    "    \"\"\"\n",
    "    Sample L (equation 17). We again use standard M-H as implemented in\n",
    "    emcee.\n",
    "    \"\"\"\n",
    "    def log_L_prob(Lp):\n",
    "        \"\"\"\n",
    "        Computes log(P(returns | u, L) * P(L)).\n",
    "        \"\"\"\n",
    "        Lpm = np.zeros(L.shape)\n",
    "        Lpm[np.tril_indices(L.shape[0])] = Lp\n",
    "        log_prior = np.sum(-0.5*Lp**2/L_PRIOR_VAR)\n",
    "        \n",
    "        return log_data_likelihood(returns, u, Lpm, nu) + log_prior\n",
    "    \n",
    "    dim = int((L.shape[0]**2 + L.shape[0])/2)\n",
    "    sampler = emcee.MHSampler(np.eye(dim)*MH_L_SCALE, dim=dim, lnprobfn=log_L_prob)\n",
    "    Lp, _, _ = sampler.run_mcmc(L[np.tril_indices(L.shape[0])], 1)\n",
    "    Lpm = np.zeros(L.shape)\n",
    "    Lpm[np.tril_indices(L.shape[0])] = Lp\n",
    "    \n",
    "    return Lpm, log_L_prob(Lp)\n",
    "\n",
    "def gibbs_sampler(returns, init=None, numit=1000):\n",
    "    \"\"\"\n",
    "    Perform Gibbs sampling in order to fit the model.\n",
    "    \n",
    "    returns: A matrix of dimension N x T where N is the number of assets\n",
    "             and T is the number of timepoints. Element (n, t) is the\n",
    "             return of the nth asset at time t.\n",
    "    \n",
    "    Returns the chain of samples and diagnostics.\n",
    "    \"\"\"\n",
    "    samples = []\n",
    "    diagnostics = []\n",
    "    \n",
    "    # Set the hyperparameters\n",
    "    N, T = returns.shape\n",
    "    nu = N + 1\n",
    "    \n",
    "    # Initialize the model parameters\n",
    "    if init:\n",
    "        logtheta = init['logtheta']\n",
    "        u = init['u']\n",
    "        L = init['L']\n",
    "    else:\n",
    "        logtheta = init_logtheta(nu, N)\n",
    "        u = init_u(T, np.exp(logtheta))\n",
    "        logtheta = init_logtheta(nu, N)\n",
    "        L = init_L(N)\n",
    "    \n",
    "    samples.append([u, np.exp(logtheta), L])\n",
    "\n",
    "    # Sample successively. This will converge to draws from\n",
    "    # P(u, theta, L | returns).\n",
    "    for it in range(numit):\n",
    "        data_lik = log_data_likelihood(returns, u, L, nu)\n",
    "        u, u_prob = sample_u(u, np.exp(logtheta), T, L, nu, returns)\n",
    "        logtheta, logtheta_prob = sample_logtheta(logtheta, u, T, L, nu, returns)\n",
    "        L, L_prob = sample_L(L, np.exp(logtheta), u, nu, returns)\n",
    "        if it % 10 is 0:\n",
    "            print(\n",
    "                \"Iteration {}: loglik = {:.2f}, log P(u|...) = {:.2f}, log P(theta|...) = {:.2f}, log P(L|...) = {:.2f}\".format(\n",
    "                    it, data_lik, u_prob, logtheta_prob, L_prob\n",
    "                )\n",
    "            )\n",
    "        \n",
    "        samples.append([u, np.exp(logtheta), L])\n",
    "        diagnostics.append([data_lik, u_prob, logtheta_prob, L_prob])\n",
    "        \n",
    "    return samples, diagnostics"
   ]
  },
  {
   "cell_type": "markdown",
   "metadata": {},
   "source": [
    "We run the model like this:"
   ]
  },
  {
   "cell_type": "code",
   "execution_count": null,
   "metadata": {
    "scrolled": false
   },
   "outputs": [],
   "source": [
    "samples, diagnostics = gibbs_sampler(data_std, numit=500)"
   ]
  },
  {
   "cell_type": "markdown",
   "metadata": {},
   "source": [
    "We can assess model convergence by looking at the data likelihood $P(\\mathcal{D} | L, u, \\theta)$. It's better, however, to look at the posterior over each parameter (e.g. $\\log P(u | \\dots)$). We plot both below:"
   ]
  },
  {
   "cell_type": "code",
   "execution_count": null,
   "metadata": {},
   "outputs": [],
   "source": [
    "diagnostics = np.asarray(diagnostics)\n",
    "\n",
    "plt.figure(figsize=(12, 10))\n",
    "for pn in range(4):\n",
    "    plt.subplot(2, 2, pn + 1)\n",
    "    plt.plot(diagnostics[:, pn])\n",
    "    plt.xlabel(\"iteration\")\n",
    "    plt.ylabel(\"log prob\")\n",
    "\n",
    "plt.show()"
   ]
  },
  {
   "cell_type": "markdown",
   "metadata": {},
   "source": [
    "We can see that convergence occurs after approximately 200 iterations - that is, the first 200 iterations are \"burn-in.\" In theory we can select any sample after that point and it's a valid sample from the posterior $P(u, L, \\theta | \\mathcal{D})$ where $\\mathcal{D}$ is the training data.\n",
    "\n",
    "We can predict according to equation (22) of the GWP paper, and compute $\\Sigma(T + 1)$:"
   ]
  },
  {
   "cell_type": "code",
   "execution_count": null,
   "metadata": {},
   "outputs": [],
   "source": [
    "def predict(L, u, theta, Nu, N, T):\n",
    "    Kbinv = np.linalg.inv(construct_kernel(theta, T, KERNEL))\n",
    "    Kfull = construct_kernel(theta, T + 1, KERNEL)\n",
    "    idx = Nu * N * T\n",
    "    A = Kfull[idx:, :idx]\n",
    "    ustar = np.reshape(np.matmul(np.matmul(A, Kbinv), u), (Nu, N, 1))\n",
    "    \n",
    "    return compute_sigma(L, ustar[:, :, 0])"
   ]
  },
  {
   "cell_type": "code",
   "execution_count": null,
   "metadata": {
    "scrolled": true
   },
   "outputs": [],
   "source": [
    "print(diagnostics[np.argmax(diagnostics[:, 0]), :])\n",
    "top_sample = samples[np.argmax(diagnostics[:, 0])]\n",
    "u, theta, L = top_sample\n",
    "V = np.matmul(L, L.T)\n",
    "print(predict(L, u, theta, 7, 6, 50))"
   ]
  },
  {
   "cell_type": "markdown",
   "metadata": {},
   "source": [
    "### Returns model\n",
    "\n",
    "We'll now implement a simple algorithm using `emcee` to fit individual GPs to each cryptocurrency's returns. We'll assume each asset's returns are modeled by a zero-mean Gaussian process with an Ornstein-Uhlenbeck kernel. The parameters of the model are the timescales ($\\tau$). We'll assume each asset has its own timescale and signal variance, so we can fit a model for each asset individually."
   ]
  },
  {
   "cell_type": "code",
   "execution_count": null,
   "metadata": {},
   "outputs": [],
   "source": [
    "GP_KERNEL = periodic\n",
    "NWALKERS = 100\n",
    "TAU_PRIOR_MEAN = 0.75\n",
    "TAU_PRIOR_VAR = 1\n",
    "SIG_VAR_ALPHA = 10\n",
    "SIG_VAR_BETA = 1.1\n",
    "\n",
    "def construct_kernel_gp(tau, sig_var, T, k):\n",
    "    K = np.eye(T)\n",
    "    for t1 in range(T):\n",
    "        for t2 in range(t1, T):\n",
    "            if t1 != t2:\n",
    "                c = sig_var * k(t1, t2, [tau])\n",
    "                K[t1, t2] = c\n",
    "                K[t2, t1] = c\n",
    "    \n",
    "    return K\n",
    "\n",
    "def fit_gp(returns, numit=1_000):\n",
    "    def log_likelihood(params):\n",
    "        tau, sig_var = params\n",
    "        if tau > 0 and sig_var < 1 and sig_var > 0:\n",
    "            K = construct_kernel_gp(tau, sig_var, len(returns), GP_KERNEL)\n",
    "            Kinv = np.linalg.inv(K)\n",
    "            loglik = -0.5*np.matmul(returns, np.matmul(Kinv, returns))\n",
    "            logtauprior = np.log(1/tau) - 0.5*(np.log(tau) - TAU_PRIOR_MEAN)**2/TAU_PRIOR_VAR\n",
    "            logsigprior = np.log(sig_var**(SIG_VAR_ALPHA - 1)) + np.log((1 - sig_var)**(SIG_VAR_BETA - 1))\n",
    "            \n",
    "            return loglik + logtauprior + logsigprior\n",
    "        else:\n",
    "            return -np.inf\n",
    "    \n",
    "    init = [[np.random.lognormal(0, 1), np.random.uniform(0.87, 0.97)] for _ in range(NWALKERS)]\n",
    "    \n",
    "    sampler = emcee.EnsembleSampler(NWALKERS, 2, log_likelihood)\n",
    "    ret = sampler.run_mcmc(init, numit)\n",
    "    \n",
    "    return sampler, ret"
   ]
  },
  {
   "cell_type": "markdown",
   "metadata": {},
   "source": [
    "As an example, let's fit a GP model on the Bitcoin returns, an examine the corner plots for the two parameters:"
   ]
  },
  {
   "cell_type": "code",
   "execution_count": null,
   "metadata": {},
   "outputs": [],
   "source": [
    "sampler, ret = fit_gp(btc[:50], 500)\n",
    "corner.corner(sampler.chain[:, 100:, :].reshape(-1, 2), labels=[\"$t$\", \"$s$\"])"
   ]
  },
  {
   "cell_type": "code",
   "execution_count": null,
   "metadata": {},
   "outputs": [],
   "source": [
    "optimal_params = ret[0][np.argmax(ret[1]), :]\n",
    "optimal_params"
   ]
  },
  {
   "cell_type": "markdown",
   "metadata": {},
   "source": [
    "Prediction from a GP is straightforward (conditional multivariate normal):"
   ]
  },
  {
   "cell_type": "code",
   "execution_count": null,
   "metadata": {},
   "outputs": [],
   "source": [
    "def predict_gp(prev, k, k_params):\n",
    "    tau, sig_var = k_params\n",
    "    T = len(prev)\n",
    "    K = construct_kernel_gp(tau, sig_var, T + 2, GP_KERNEL)\n",
    "    \n",
    "    return np.matmul(K[:T, T], np.matmul(np.linalg.inv(K[:T, :T]), prev))"
   ]
  },
  {
   "cell_type": "code",
   "execution_count": null,
   "metadata": {},
   "outputs": [],
   "source": [
    "res = predict_gp(btc[:50], GP_KERNEL, optimal_params)\n",
    "res, btc[50]"
   ]
  },
  {
   "cell_type": "markdown",
   "metadata": {},
   "source": [
    "And we get an OK prediction (scale might be a bit off, but the direction looks OK)."
   ]
  },
  {
   "cell_type": "markdown",
   "metadata": {},
   "source": [
    "## Portfolio choice"
   ]
  },
  {
   "cell_type": "markdown",
   "metadata": {},
   "source": [
    "In order to fulfill our goal of a fully automatic portfolio choice algorithm, we need to fit an individual GP to each asset's returns and model the covariance matrix. Now seems like a reasonable time to extract our work from this notebook into actual model classes and write some basic unit tests. We can test the new code here like so:"
   ]
  },
  {
   "cell_type": "code",
   "execution_count": 3,
   "metadata": {},
   "outputs": [],
   "source": [
    "data_std = np.loadtxt(\"data.txt\")"
   ]
  },
  {
   "cell_type": "code",
   "execution_count": 6,
   "metadata": {},
   "outputs": [],
   "source": [
    "from model.backtest import backtest_gp, backtest_gwp\n",
    "from model.kernels import squared_exponential, periodic"
   ]
  },
  {
   "cell_type": "code",
   "execution_count": 30,
   "metadata": {
    "scrolled": true
   },
   "outputs": [
    {
     "name": "stdout",
     "output_type": "stream",
     "text": [
      "Fitting initial models (T = 10)... 0 1 2 3 4 5 \n",
      "[[0.11190342 0.99091117]\n",
      " [0.15645072 0.98539536]\n",
      " [0.12401972 0.97693235]\n",
      " [0.13634843 0.99035475]\n",
      " [0.14853579 0.97711993]\n",
      " [0.12185838 0.99709512]]\n",
      "Fitting models for T = 11...\n",
      "[[0.13331161 0.97540501]\n",
      " [0.13514505 0.99670179]\n",
      " [0.11735181 0.99734226]\n",
      " [0.08384221 0.96195033]\n",
      " [0.1667432  0.98953539]\n",
      " [0.1437692  0.99561209]]\n",
      "Fitting models for T = 12...\n",
      "[[0.11293294 0.98703622]\n",
      " [0.11393554 0.99452595]\n",
      " [0.07803947 0.99281384]\n",
      " [0.10884908 0.9864439 ]\n",
      " [0.15528914 0.97882959]\n",
      " [0.09984786 0.98015901]]\n",
      "Fitting models for T = 13...\n",
      "[[0.086289   0.95487835]\n",
      " [0.12685311 0.99155399]\n",
      " [0.09570407 0.95611467]\n",
      " [0.13449471 0.95633228]\n",
      " [0.13765239 0.97820358]\n",
      " [0.11516465 0.97957087]]\n",
      "Fitting models for T = 14...\n",
      "[[0.11897284 0.98382127]\n",
      " [0.1078423  0.97693938]\n",
      " [0.08793037 0.97454107]\n",
      " [0.09237468 0.99210563]\n",
      " [0.1323896  0.97944454]\n",
      " [0.11006982 0.98000038]]\n"
     ]
    }
   ],
   "source": [
    "gp_pred = backtest_gp(data_std[:, :15], 10, periodic)"
   ]
  },
  {
   "cell_type": "code",
   "execution_count": 18,
   "metadata": {
    "scrolled": true
   },
   "outputs": [
    {
     "name": "stdout",
     "output_type": "stream",
     "text": [
      "Fitting initial model (T = 10)...\n",
      "Iteration 0: loglik = -9211.41, log P(u|...) = -1868.56, log P(tau|...) = -219.02, log P(L|...) = -1661.66\n",
      "Iteration 10: loglik = -1051.56, log P(u|...) = -1276.52, log P(tau|...) = -236.73, log P(L|...) = -1051.91\n",
      "Iteration 20: loglik = -498.49, log P(u|...) = -703.38, log P(tau|...) = -236.43, log P(L|...) = -480.33\n",
      "Iteration 30: loglik = -405.89, log P(u|...) = -579.42, log P(tau|...) = -235.52, log P(L|...) = -357.28\n",
      "Iteration 40: loglik = -334.64, log P(u|...) = -543.67, log P(tau|...) = -221.80, log P(L|...) = -335.25\n",
      "Iteration 50: loglik = -51.48, log P(u|...) = -263.61, log P(tau|...) = -224.49, log P(L|...) = -56.56\n",
      "Iteration 60: loglik = -45.92, log P(u|...) = -254.83, log P(tau|...) = -221.14, log P(L|...) = -51.13\n",
      "Iteration 70: loglik = -26.66, log P(u|...) = -257.49, log P(tau|...) = -244.19, log P(L|...) = -30.38\n",
      "Iteration 80: loglik = -22.18, log P(u|...) = -250.59, log P(tau|...) = -240.43, log P(L|...) = -27.24\n",
      "Iteration 90: loglik = -21.29, log P(u|...) = -242.27, log P(tau|...) = -232.74, log P(L|...) = -26.62\n",
      "Iteration 100: loglik = -19.54, log P(u|...) = -222.53, log P(tau|...) = -214.84, log P(L|...) = -26.89\n",
      "Iteration 110: loglik = -18.29, log P(u|...) = -229.08, log P(tau|...) = -222.63, log P(L|...) = -28.21\n",
      "Iteration 120: loglik = -13.38, log P(u|...) = -223.08, log P(tau|...) = -220.94, log P(L|...) = -25.48\n",
      "Iteration 130: loglik = -13.78, log P(u|...) = -226.48, log P(tau|...) = -224.57, log P(L|...) = -25.26\n",
      "Iteration 140: loglik = -11.62, log P(u|...) = -219.86, log P(tau|...) = -219.86, log P(L|...) = -23.34\n",
      "Iteration 150: loglik = -12.70, log P(u|...) = -225.42, log P(tau|...) = -224.30, log P(L|...) = -24.47\n",
      "Iteration 160: loglik = -12.00, log P(u|...) = -226.49, log P(tau|...) = -225.77, log P(L|...) = -24.06\n",
      "Iteration 170: loglik = -12.85, log P(u|...) = -221.02, log P(tau|...) = -221.56, log P(L|...) = -23.06\n",
      "Iteration 180: loglik = -11.36, log P(u|...) = -225.72, log P(tau|...) = -226.14, log P(L|...) = -23.17\n",
      "Iteration 190: loglik = -11.61, log P(u|...) = -225.03, log P(tau|...) = -224.75, log P(L|...) = -23.87\n",
      "Iteration 200: loglik = -13.69, log P(u|...) = -226.64, log P(tau|...) = -223.55, log P(L|...) = -26.43\n",
      "Iteration 210: loglik = -17.45, log P(u|...) = -212.75, log P(tau|...) = -205.96, log P(L|...) = -30.13\n",
      "Iteration 220: loglik = -12.06, log P(u|...) = -214.02, log P(tau|...) = -215.38, log P(L|...) = -27.54\n",
      "Iteration 230: loglik = -9.34, log P(u|...) = -205.45, log P(tau|...) = -208.29, log P(L|...) = -26.06\n",
      "Iteration 240: loglik = -11.46, log P(u|...) = -202.46, log P(tau|...) = -202.73, log P(L|...) = -28.64\n",
      "Iteration 250: loglik = -13.18, log P(u|...) = -201.28, log P(tau|...) = -200.89, log P(L|...) = -30.05\n",
      "Iteration 260: loglik = -10.64, log P(u|...) = -209.97, log P(tau|...) = -211.96, log P(L|...) = -27.67\n",
      "Iteration 270: loglik = -11.04, log P(u|...) = -217.11, log P(tau|...) = -216.86, log P(L|...) = -30.47\n",
      "Iteration 280: loglik = -12.29, log P(u|...) = -222.47, log P(tau|...) = -222.09, log P(L|...) = -30.61\n",
      "Iteration 290: loglik = -7.90, log P(u|...) = -221.14, log P(tau|...) = -225.41, log P(L|...) = -24.83\n",
      "Iteration 300: loglik = -8.43, log P(u|...) = -224.40, log P(tau|...) = -227.36, log P(L|...) = -26.14\n",
      "Iteration 310: loglik = -10.01, log P(u|...) = -220.80, log P(tau|...) = -222.17, log P(L|...) = -27.57\n",
      "Iteration 320: loglik = -11.86, log P(u|...) = -199.85, log P(tau|...) = -199.86, log P(L|...) = -28.93\n",
      "Iteration 330: loglik = -14.22, log P(u|...) = -208.22, log P(tau|...) = -208.50, log P(L|...) = -31.09\n",
      "Iteration 340: loglik = -13.74, log P(u|...) = -201.92, log P(tau|...) = -203.35, log P(L|...) = -29.94\n",
      "Iteration 350: loglik = -13.86, log P(u|...) = -221.91, log P(tau|...) = -224.18, log P(L|...) = -28.77\n",
      "Iteration 360: loglik = -11.70, log P(u|...) = -214.08, log P(tau|...) = -218.56, log P(L|...) = -28.25\n",
      "Iteration 370: loglik = -9.35, log P(u|...) = -208.24, log P(tau|...) = -214.06, log P(L|...) = -26.90\n",
      "Iteration 380: loglik = -10.97, log P(u|...) = -209.18, log P(tau|...) = -213.66, log P(L|...) = -28.43\n",
      "Iteration 390: loglik = -12.41, log P(u|...) = -201.89, log P(tau|...) = -201.42, log P(L|...) = -32.22\n",
      "Iteration 400: loglik = -7.97, log P(u|...) = -203.74, log P(tau|...) = -211.20, log P(L|...) = -26.90\n",
      "Iteration 410: loglik = -10.45, log P(u|...) = -197.85, log P(tau|...) = -201.91, log P(L|...) = -31.07\n",
      "Iteration 420: loglik = -9.77, log P(u|...) = -194.03, log P(tau|...) = -199.90, log P(L|...) = -27.12\n",
      "Iteration 430: loglik = -9.76, log P(u|...) = -185.89, log P(tau|...) = -193.30, log P(L|...) = -27.48\n",
      "Iteration 440: loglik = -8.48, log P(u|...) = -193.14, log P(tau|...) = -201.73, log P(L|...) = -26.68\n",
      "Iteration 450: loglik = -11.06, log P(u|...) = -212.31, log P(tau|...) = -218.85, log P(L|...) = -31.60\n",
      "Iteration 460: loglik = -10.86, log P(u|...) = -189.24, log P(tau|...) = -196.16, log P(L|...) = -29.40\n",
      "Iteration 470: loglik = -11.35, log P(u|...) = -194.22, log P(tau|...) = -198.79, log P(L|...) = -29.92\n",
      "Iteration 480: loglik = -13.68, log P(u|...) = -197.47, log P(tau|...) = -201.01, log P(L|...) = -30.55\n",
      "Iteration 490: loglik = -12.21, log P(u|...) = -205.02, log P(tau|...) = -209.66, log P(L|...) = -29.46\n",
      "(462, 462)\n",
      "(420, 420)\n",
      "(42, 420)\n",
      "147\n",
      "Fitting models for T = 11...\n",
      "(462, 462)\n",
      "(420, 420)\n",
      "(42, 420)\n",
      "147\n",
      "Iteration 0: loglik = -233.96, log P(u|...) = -281.29, log P(tau|...) = -270.86, log P(L|...) = -40.87\n",
      "Iteration 10: loglik = -12.77, log P(u|...) = -273.07, log P(tau|...) = -270.91, log P(L|...) = -41.61\n",
      "Iteration 20: loglik = -9.26, log P(u|...) = -263.87, log P(tau|...) = -266.13, log P(L|...) = -38.11\n",
      "Iteration 30: loglik = -9.07, log P(u|...) = -245.75, log P(tau|...) = -248.24, log P(L|...) = -36.95\n",
      "Iteration 40: loglik = -6.15, log P(u|...) = -254.47, log P(tau|...) = -259.95, log P(L|...) = -37.42\n",
      "Iteration 50: loglik = -9.84, log P(u|...) = -235.84, log P(tau|...) = -235.91, log P(L|...) = -40.66\n",
      "Iteration 60: loglik = -6.52, log P(u|...) = -203.47, log P(tau|...) = -209.23, log P(L|...) = -38.86\n",
      "Iteration 70: loglik = -4.74, log P(u|...) = -215.83, log P(tau|...) = -222.96, log P(L|...) = -34.35\n",
      "Iteration 80: loglik = -6.06, log P(u|...) = -209.58, log P(tau|...) = -215.38, log P(L|...) = -35.68\n",
      "Iteration 90: loglik = -8.68, log P(u|...) = -207.63, log P(tau|...) = -210.66, log P(L|...) = -40.01\n",
      "Iteration 100: loglik = -7.83, log P(u|...) = -225.58, log P(tau|...) = -230.08, log P(L|...) = -37.96\n",
      "Iteration 110: loglik = -8.58, log P(u|...) = -228.31, log P(tau|...) = -231.51, log P(L|...) = -36.35\n",
      "Iteration 120: loglik = -9.37, log P(u|...) = -224.84, log P(tau|...) = -227.63, log P(L|...) = -33.24\n",
      "Iteration 130: loglik = -8.95, log P(u|...) = -218.10, log P(tau|...) = -221.19, log P(L|...) = -32.40\n",
      "Iteration 140: loglik = -7.89, log P(u|...) = -220.01, log P(tau|...) = -223.94, log P(L|...) = -31.56\n",
      "Iteration 150: loglik = -12.89, log P(u|...) = -227.58, log P(tau|...) = -227.81, log P(L|...) = -32.14\n",
      "Iteration 160: loglik = -10.67, log P(u|...) = -230.66, log P(tau|...) = -231.81, log P(L|...) = -33.15\n",
      "Iteration 170: loglik = -7.37, log P(u|...) = -229.24, log P(tau|...) = -233.67, log P(L|...) = -34.60\n",
      "Iteration 180: loglik = -7.09, log P(u|...) = -229.21, log P(tau|...) = -238.17, log P(L|...) = -35.64\n",
      "Iteration 190: loglik = -8.33, log P(u|...) = -231.20, log P(tau|...) = -240.09, log P(L|...) = -32.86\n",
      "Iteration 200: loglik = -11.49, log P(u|...) = -230.90, log P(tau|...) = -235.63, log P(L|...) = -33.77\n",
      "Iteration 210: loglik = -9.02, log P(u|...) = -222.04, log P(tau|...) = -227.47, log P(L|...) = -35.95\n",
      "Iteration 220: loglik = -13.16, log P(u|...) = -211.41, log P(tau|...) = -214.93, log P(L|...) = -33.64\n",
      "Iteration 230: loglik = -13.80, log P(u|...) = -210.50, log P(tau|...) = -214.14, log P(L|...) = -34.78\n",
      "Iteration 240: loglik = -12.25, log P(u|...) = -206.51, log P(tau|...) = -210.64, log P(L|...) = -37.56\n",
      "(504, 504)\n",
      "(462, 462)\n",
      "(42, 462)\n",
      "126\n",
      "Fitting models for T = 12...\n",
      "(504, 504)\n",
      "(462, 462)\n",
      "(42, 462)\n",
      "126\n",
      "Iteration 0: loglik = -114.41, log P(u|...) = -308.11, log P(tau|...) = -277.83, log P(L|...) = -58.14\n",
      "Iteration 10: loglik = -17.24, log P(u|...) = -298.41, log P(tau|...) = -293.54, log P(L|...) = -47.22\n"
     ]
    },
    {
     "name": "stdout",
     "output_type": "stream",
     "text": [
      "Iteration 20: loglik = -14.49, log P(u|...) = -290.67, log P(tau|...) = -288.59, log P(L|...) = -44.43\n",
      "Iteration 30: loglik = -8.76, log P(u|...) = -260.11, log P(tau|...) = -263.41, log P(L|...) = -39.93\n",
      "Iteration 40: loglik = -9.59, log P(u|...) = -238.76, log P(tau|...) = -241.06, log P(L|...) = -41.17\n",
      "Iteration 50: loglik = -10.93, log P(u|...) = -236.14, log P(tau|...) = -237.65, log P(L|...) = -44.17\n",
      "Iteration 60: loglik = -13.30, log P(u|...) = -237.90, log P(tau|...) = -236.28, log P(L|...) = -48.23\n",
      "Iteration 70: loglik = -10.69, log P(u|...) = -232.51, log P(tau|...) = -233.43, log P(L|...) = -50.90\n",
      "Iteration 80: loglik = -13.05, log P(u|...) = -241.31, log P(tau|...) = -239.96, log P(L|...) = -41.52\n",
      "Iteration 90: loglik = -9.79, log P(u|...) = -230.14, log P(tau|...) = -232.22, log P(L|...) = -31.36\n",
      "Iteration 100: loglik = -7.07, log P(u|...) = -229.72, log P(tau|...) = -234.46, log P(L|...) = -30.61\n",
      "Iteration 110: loglik = -9.58, log P(u|...) = -226.80, log P(tau|...) = -228.93, log P(L|...) = -33.63\n",
      "Iteration 120: loglik = -13.15, log P(u|...) = -224.77, log P(tau|...) = -224.18, log P(L|...) = -35.52\n",
      "Iteration 130: loglik = -15.63, log P(u|...) = -234.85, log P(tau|...) = -231.02, log P(L|...) = -37.48\n",
      "Iteration 140: loglik = -10.69, log P(u|...) = -244.10, log P(tau|...) = -247.25, log P(L|...) = -34.34\n",
      "Iteration 150: loglik = -10.68, log P(u|...) = -235.69, log P(tau|...) = -243.10, log P(L|...) = -32.04\n",
      "Iteration 160: loglik = -18.03, log P(u|...) = -237.72, log P(tau|...) = -237.64, log P(L|...) = -34.90\n",
      "Iteration 170: loglik = -14.48, log P(u|...) = -233.74, log P(tau|...) = -237.61, log P(L|...) = -33.32\n",
      "Iteration 180: loglik = -18.32, log P(u|...) = -244.98, log P(tau|...) = -247.33, log P(L|...) = -33.76\n",
      "Iteration 190: loglik = -12.96, log P(u|...) = -252.24, log P(tau|...) = -257.60, log P(L|...) = -30.51\n",
      "Iteration 200: loglik = -9.74, log P(u|...) = -247.11, log P(tau|...) = -255.75, log P(L|...) = -29.70\n",
      "Iteration 210: loglik = -10.08, log P(u|...) = -246.74, log P(tau|...) = -254.76, log P(L|...) = -28.50\n",
      "Iteration 220: loglik = -10.01, log P(u|...) = -240.64, log P(tau|...) = -248.12, log P(L|...) = -28.78\n",
      "Iteration 230: loglik = -11.89, log P(u|...) = -234.01, log P(tau|...) = -240.25, log P(L|...) = -30.36\n",
      "Iteration 240: loglik = -11.97, log P(u|...) = -227.60, log P(tau|...) = -232.24, log P(L|...) = -31.95\n",
      "(546, 546)\n",
      "(504, 504)\n",
      "(42, 504)\n",
      "189\n",
      "Fitting models for T = 13...\n",
      "(546, 546)\n",
      "(504, 504)\n",
      "(42, 504)\n",
      "189\n",
      "Iteration 0: loglik = -38.52, log P(u|...) = -347.03, log P(tau|...) = -322.85, log P(L|...) = -58.73\n",
      "Iteration 10: loglik = -18.73, log P(u|...) = -234.39, log P(tau|...) = -228.07, log P(L|...) = -44.02\n",
      "Iteration 20: loglik = -13.79, log P(u|...) = -262.24, log P(tau|...) = -260.07, log P(L|...) = -42.49\n",
      "Iteration 30: loglik = -10.91, log P(u|...) = -260.46, log P(tau|...) = -262.05, log P(L|...) = -36.40\n",
      "Iteration 40: loglik = -10.36, log P(u|...) = -274.54, log P(tau|...) = -276.44, log P(L|...) = -36.07\n",
      "Iteration 50: loglik = -12.51, log P(u|...) = -266.74, log P(tau|...) = -265.74, log P(L|...) = -43.14\n",
      "Iteration 60: loglik = -11.19, log P(u|...) = -273.04, log P(tau|...) = -273.72, log P(L|...) = -37.88\n",
      "Iteration 70: loglik = -10.56, log P(u|...) = -262.90, log P(tau|...) = -267.26, log P(L|...) = -37.05\n",
      "Iteration 80: loglik = -11.12, log P(u|...) = -257.39, log P(tau|...) = -261.08, log P(L|...) = -35.31\n",
      "Iteration 90: loglik = -12.59, log P(u|...) = -254.81, log P(tau|...) = -256.66, log P(L|...) = -33.83\n",
      "Iteration 100: loglik = -10.67, log P(u|...) = -238.76, log P(tau|...) = -243.10, log P(L|...) = -32.00\n",
      "Iteration 110: loglik = -14.32, log P(u|...) = -252.78, log P(tau|...) = -253.23, log P(L|...) = -31.96\n",
      "Iteration 120: loglik = -12.90, log P(u|...) = -256.42, log P(tau|...) = -258.34, log P(L|...) = -32.57\n",
      "Iteration 130: loglik = -13.08, log P(u|...) = -257.06, log P(tau|...) = -257.46, log P(L|...) = -33.69\n",
      "Iteration 140: loglik = -11.19, log P(u|...) = -246.41, log P(tau|...) = -250.05, log P(L|...) = -32.97\n",
      "Iteration 150: loglik = -11.64, log P(u|...) = -262.41, log P(tau|...) = -265.12, log P(L|...) = -33.91\n",
      "Iteration 160: loglik = -8.70, log P(u|...) = -268.77, log P(tau|...) = -275.04, log P(L|...) = -36.55\n",
      "Iteration 170: loglik = -7.89, log P(u|...) = -261.56, log P(tau|...) = -268.58, log P(L|...) = -40.41\n",
      "Iteration 180: loglik = -7.99, log P(u|...) = -260.15, log P(tau|...) = -266.75, log P(L|...) = -41.86\n",
      "Iteration 190: loglik = -13.42, log P(u|...) = -247.70, log P(tau|...) = -255.28, log P(L|...) = -43.93\n",
      "Iteration 200: loglik = -9.56, log P(u|...) = -243.52, log P(tau|...) = -254.87, log P(L|...) = -40.38\n",
      "Iteration 210: loglik = -11.89, log P(u|...) = -240.03, log P(tau|...) = -249.32, log P(L|...) = -40.67\n",
      "Iteration 220: loglik = -13.53, log P(u|...) = -250.29, log P(tau|...) = -257.85, log P(L|...) = -39.92\n",
      "Iteration 230: loglik = -15.00, log P(u|...) = -247.02, log P(tau|...) = -253.07, log P(L|...) = -39.65\n",
      "Iteration 240: loglik = -16.29, log P(u|...) = -238.46, log P(tau|...) = -252.19, log P(L|...) = -39.22\n",
      "(588, 588)\n",
      "(546, 546)\n",
      "(42, 546)\n",
      "168\n",
      "Fitting models for T = 14...\n",
      "(588, 588)\n",
      "(546, 546)\n",
      "(42, 546)\n",
      "168\n",
      "Iteration 0: loglik = -31.68, log P(u|...) = -408.10, log P(tau|...) = -395.59, log P(L|...) = -60.98\n",
      "Iteration 10: loglik = -21.27, log P(u|...) = -390.00, log P(tau|...) = -383.21, log P(L|...) = -50.26\n",
      "Iteration 20: loglik = -17.29, log P(u|...) = -355.05, log P(tau|...) = -349.60, log P(L|...) = -49.02\n",
      "Iteration 30: loglik = -11.88, log P(u|...) = -328.84, log P(tau|...) = -330.33, log P(L|...) = -42.31\n",
      "Iteration 40: loglik = -14.58, log P(u|...) = -321.01, log P(tau|...) = -320.02, log P(L|...) = -44.79\n",
      "Iteration 50: loglik = -10.44, log P(u|...) = -299.84, log P(tau|...) = -302.94, log P(L|...) = -40.72\n",
      "Iteration 60: loglik = -20.17, log P(u|...) = -283.51, log P(tau|...) = -282.99, log P(L|...) = -41.51\n",
      "Iteration 70: loglik = -13.40, log P(u|...) = -263.58, log P(tau|...) = -266.32, log P(L|...) = -37.26\n",
      "Iteration 80: loglik = -14.29, log P(u|...) = -255.23, log P(tau|...) = -255.50, log P(L|...) = -38.37\n",
      "Iteration 90: loglik = -14.69, log P(u|...) = -258.20, log P(tau|...) = -258.28, log P(L|...) = -39.34\n",
      "Iteration 100: loglik = -11.81, log P(u|...) = -276.92, log P(tau|...) = -280.32, log P(L|...) = -36.37\n",
      "Iteration 110: loglik = -11.80, log P(u|...) = -273.56, log P(tau|...) = -273.99, log P(L|...) = -40.41\n",
      "Iteration 120: loglik = -10.35, log P(u|...) = -280.25, log P(tau|...) = -285.05, log P(L|...) = -33.86\n",
      "Iteration 130: loglik = -13.63, log P(u|...) = -280.69, log P(tau|...) = -281.91, log P(L|...) = -36.60\n",
      "Iteration 140: loglik = -9.82, log P(u|...) = -285.97, log P(tau|...) = -290.44, log P(L|...) = -33.35\n",
      "Iteration 150: loglik = -10.24, log P(u|...) = -283.84, log P(tau|...) = -288.64, log P(L|...) = -33.02\n",
      "Iteration 160: loglik = -10.89, log P(u|...) = -281.35, log P(tau|...) = -285.51, log P(L|...) = -33.66\n",
      "Iteration 170: loglik = -11.98, log P(u|...) = -285.36, log P(tau|...) = -287.64, log P(L|...) = -33.78\n",
      "Iteration 180: loglik = -11.51, log P(u|...) = -281.00, log P(tau|...) = -284.22, log P(L|...) = -32.84\n",
      "Iteration 190: loglik = -11.91, log P(u|...) = -276.87, log P(tau|...) = -279.82, log P(L|...) = -33.11\n",
      "Iteration 200: loglik = -15.86, log P(u|...) = -277.11, log P(tau|...) = -276.60, log P(L|...) = -36.57\n",
      "Iteration 210: loglik = -12.11, log P(u|...) = -282.00, log P(tau|...) = -284.80, log P(L|...) = -36.18\n",
      "Iteration 220: loglik = -13.34, log P(u|...) = -284.41, log P(tau|...) = -284.24, log P(L|...) = -34.58\n",
      "Iteration 230: loglik = -12.78, log P(u|...) = -278.70, log P(tau|...) = -278.95, log P(L|...) = -34.16\n",
      "Iteration 240: loglik = -13.69, log P(u|...) = -275.15, log P(tau|...) = -274.66, log P(L|...) = -34.90\n",
      "(630, 630)\n",
      "(588, 588)\n",
      "(42, 588)\n",
      "147\n"
     ]
    }
   ],
   "source": [
    "gwp_pred = backtest_gwp(data_std[:, :15], 10, squared_exponential)"
   ]
  },
  {
   "cell_type": "markdown",
   "metadata": {},
   "source": [
    "We'll now implement the code to maximize the Sharpe ratio. This has a straightforward closed form:\n",
    "\n",
    "$$\\frac{\\Sigma^{-1}\\mathbf{r}}{\\mathbf{1}^T \\Sigma^{-1} \\mathbf{r}}$$"
   ]
  },
  {
   "cell_type": "code",
   "execution_count": 81,
   "metadata": {},
   "outputs": [],
   "source": [
    "def choose_portfolio(r, cov):\n",
    "    val, vec = np.linalg.eig(cov)\n",
    "    try:\n",
    "        siginv = np.linalg.inv(cov)\n",
    "    except:\n",
    "        cov = np.matmul(vec.T, np.matmul(np.diag(np.real(val - np.min(val))), vec))\n",
    "        siginv = np.linalg.inv(cov)\n",
    "    w = np.matmul(siginv, r) / np.matmul(np.full(len(r), 1), np.matmul(siginv, r))\n",
    "    \n",
    "    return w"
   ]
  },
  {
   "cell_type": "markdown",
   "metadata": {},
   "source": [
    "And can be called like:"
   ]
  },
  {
   "cell_type": "code",
   "execution_count": 82,
   "metadata": {
    "scrolled": true
   },
   "outputs": [
    {
     "data": {
      "text/plain": [
       "array([-0.10544592, -0.22463318,  0.04758907, -0.15182011, -0.29545119,\n",
       "        1.72976132])"
      ]
     },
     "execution_count": 82,
     "metadata": {},
     "output_type": "execute_result"
    }
   ],
   "source": [
    "choose_portfolio(gp_pred[0], gwp_pred[0])"
   ]
  },
  {
   "cell_type": "markdown",
   "metadata": {},
   "source": [
    "We can compute the hypothetical return on a portfolio selected based on this computation for all of the predicted days:"
   ]
  },
  {
   "cell_type": "code",
   "execution_count": 94,
   "metadata": {},
   "outputs": [],
   "source": [
    "def compute_return(r_pred, sig_pred, data, start_day):\n",
    "    total = 1\n",
    "    for day in range(len(r_pred)):\n",
    "        w = choose_portfolio(r_pred[day], sig_pred[day])\n",
    "        true_return = np.dot(w, np.exp(data[:, start_day + day]))\n",
    "        total *= true_return\n",
    "    \n",
    "    return total"
   ]
  },
  {
   "cell_type": "markdown",
   "metadata": {},
   "source": [
    "Giving an overall return of:"
   ]
  },
  {
   "cell_type": "code",
   "execution_count": 98,
   "metadata": {},
   "outputs": [
    {
     "data": {
      "text/plain": [
       "2.4155386987000327"
      ]
     },
     "execution_count": 98,
     "metadata": {},
     "output_type": "execute_result"
    }
   ],
   "source": [
    "compute_return(gp_pred, gwp_pred, data, 10)"
   ]
  },
  {
   "cell_type": "markdown",
   "metadata": {},
   "source": [
    "which doesn't look too bad for 5 days of trading. How would it compare to just re-investing returns day over day in BTC?"
   ]
  },
  {
   "cell_type": "code",
   "execution_count": 96,
   "metadata": {},
   "outputs": [
    {
     "data": {
      "text/plain": [
       "1.0814041441276252"
      ]
     },
     "execution_count": 96,
     "metadata": {},
     "output_type": "execute_result"
    }
   ],
   "source": [
    "np.prod(np.exp(data[0, 10:]))"
   ]
  },
  {
   "cell_type": "markdown",
   "metadata": {},
   "source": [
    "# Conclusions\n",
    "\n",
    "We built a reasonable model of portfolio choice for cryptocurrency returns. Given more time, there is still much to do:\n",
    "\n",
    "* Compare to a model like MGARCH (easy to do in R)\n",
    "* Improve the speed of the code\n",
    "  - Kernel functions can be implemented in C, or make use of a library like `george`\n",
    "  - Block-diagonal matrix inverses can be sped up in the case of the GWP\n",
    "  - Message-passing implementation to model fitting may be possible\n",
    "* Custom `corner` plots to investigate the relationship between the $\\tau$ parameters and $L$\n",
    "* Live plotting of model fitting\n",
    "* Smarter initialization procedures to speed up convergence"
   ]
  }
 ],
 "metadata": {
  "kernelspec": {
   "display_name": "Python 3",
   "language": "python",
   "name": "python3"
  },
  "language_info": {
   "codemirror_mode": {
    "name": "ipython",
    "version": 3
   },
   "file_extension": ".py",
   "mimetype": "text/x-python",
   "name": "python",
   "nbconvert_exporter": "python",
   "pygments_lexer": "ipython3",
   "version": "3.6.7"
  }
 },
 "nbformat": 4,
 "nbformat_minor": 2
}
