{
 "cells": [
  {
   "cell_type": "code",
   "execution_count": 65,
   "metadata": {},
   "outputs": [],
   "source": [
    "import numpy as np\n",
    "import pandas as pd\n",
    "import requests as req\n",
    "import emcee\n",
    "import matplotlib\n",
    "from matplotlib import pyplot as plt\n",
    "import scipy\n",
    "from scipy.optimize import minimize\n",
    "%matplotlib inline"
   ]
  },
  {
   "cell_type": "code",
   "execution_count": 66,
   "metadata": {},
   "outputs": [
    {
     "name": "stdout",
     "output_type": "stream",
     "text": [
      "1.16.0\n",
      "0.24.1\n",
      "2.21.0\n",
      "2.2.1\n",
      "3.0.3\n",
      "1.2.0\n"
     ]
    }
   ],
   "source": [
    "print(np.__version__)\n",
    "print(pd.__version__)\n",
    "print(req.__version__)\n",
    "print(emcee.__version__)\n",
    "print(matplotlib.__version__)\n",
    "print(scipy.__version__)"
   ]
  },
  {
   "cell_type": "markdown",
   "metadata": {},
   "source": [
    "# Introduction\n",
    "\n",
    "The stated purpose of this notebook is to explore some cryptocurrency data. Yahoo! doesn't seem to allow programmatic access to its financial data, including crypto data. I felt that scraping data is outside of the scope of this project and so I opted to use a [different API](https://cryptocompare.com) which provides similar data, instead.\n",
    "\n",
    "We begin by exploring the API a little bit. We then request extensive historical price data on several cryptocurrencies. After briefly analyzing some of the summary statistics of the data, we begin to work on a predictive model of asset returns, concluding with an application to portfolio selection. Finally, we analyze some of the flaws in the model and possible revisions."
   ]
  },
  {
   "cell_type": "markdown",
   "metadata": {},
   "source": [
    "# Exploration"
   ]
  },
  {
   "cell_type": "code",
   "execution_count": 67,
   "metadata": {},
   "outputs": [],
   "source": [
    "endpoint = \"https://min-api.cryptocompare.com/data/\"\n",
    "api_key = \"f42555b48bbf03e7f64fdbfde60ebe62905fd2103ec9beada0969c3d81c749a8\""
   ]
  },
  {
   "cell_type": "code",
   "execution_count": 68,
   "metadata": {},
   "outputs": [],
   "source": [
    "def req_url(meth, params):\n",
    "    params[\"api_key\"] = api_key\n",
    "    \n",
    "    return endpoint + meth + \"?\" + \"&\".join([\"{}={}\".format(k, v) for k, v in params.items()])"
   ]
  },
  {
   "cell_type": "markdown",
   "metadata": {},
   "source": [
    "First, we'll request the top 100 crypto symbols by volume, so that we can request the prices of them:"
   ]
  },
  {
   "cell_type": "code",
   "execution_count": 69,
   "metadata": {},
   "outputs": [],
   "source": [
    "meth = \"top/totalvolfull\"\n",
    "params = {}\n",
    "params[\"limit\"] = 100\n",
    "params[\"tsym\"] = \"USD\"\n",
    "\n",
    "ru = req_url(meth, params)\n",
    "data = req.get(ru).json()['Data']\n",
    "top = list(map(lambda c: c['CoinInfo']['Name'], data))\n",
    "n_top = len(top)"
   ]
  },
  {
   "cell_type": "markdown",
   "metadata": {},
   "source": [
    "We can only request 1 crypto symbol at a time. We'll request 3 years of data:"
   ]
  },
  {
   "cell_type": "code",
   "execution_count": 70,
   "metadata": {},
   "outputs": [],
   "source": [
    "meth = \"histoday\"\n",
    "\n",
    "n_top = 12\n",
    "raw_data = {}\n",
    "for i in range(n_top):\n",
    "    params = {}\n",
    "    params[\"fsym\"] = top[i]\n",
    "    params[\"tsym\"] = \"USD\"\n",
    "    params[\"limit\"] = 2 * 365 + 40\n",
    "    ru = req_url(meth, params)\n",
    "    raw_data[top[i]] = req.get(ru).json()['Data']"
   ]
  },
  {
   "cell_type": "code",
   "execution_count": 71,
   "metadata": {
    "scrolled": false
   },
   "outputs": [
    {
     "data": {
      "text/plain": [
       "dict_keys(['BTC', 'ETH', 'EOS', 'LTC', 'XRP', 'ZEC', 'BCH', 'NEO', 'BNB', 'ENJ', 'QTUM', 'XLM'])"
      ]
     },
     "execution_count": 71,
     "metadata": {},
     "output_type": "execute_result"
    }
   ],
   "source": [
    "raw_data.keys()"
   ]
  },
  {
   "cell_type": "markdown",
   "metadata": {},
   "source": [
    "We'll extract the daily lows and highs, and the closing prices, for each currency, and store them in separate data frames:"
   ]
  },
  {
   "cell_type": "code",
   "execution_count": 72,
   "metadata": {},
   "outputs": [],
   "source": [
    "lows = np.asarray(list(map(lambda ticker: list(map(lambda tp: tp[\"low\"], raw_data[ticker])), raw_data.keys()))).T\n",
    "highs = np.asarray(list(map(lambda ticker: list(map(lambda tp: tp[\"high\"], raw_data[ticker])), raw_data.keys()))).T\n",
    "closes = np.asarray(list(map(lambda ticker: list(map(lambda tp: tp[\"close\"], raw_data[ticker])), raw_data.keys()))).T"
   ]
  },
  {
   "cell_type": "code",
   "execution_count": 73,
   "metadata": {},
   "outputs": [],
   "source": [
    "df_lows = pd.DataFrame(lows)\n",
    "df_highs = pd.DataFrame(highs)\n",
    "df_closes = pd.DataFrame(closes)"
   ]
  },
  {
   "cell_type": "code",
   "execution_count": 74,
   "metadata": {},
   "outputs": [],
   "source": [
    "df_lows.columns = top[:n_top]\n",
    "df_highs.columns = top[:n_top]\n",
    "df_closes.columns = top[:n_top]"
   ]
  },
  {
   "cell_type": "code",
   "execution_count": 75,
   "metadata": {
    "scrolled": true
   },
   "outputs": [
    {
     "data": {
      "text/html": [
       "<div>\n",
       "<style scoped>\n",
       "    .dataframe tbody tr th:only-of-type {\n",
       "        vertical-align: middle;\n",
       "    }\n",
       "\n",
       "    .dataframe tbody tr th {\n",
       "        vertical-align: top;\n",
       "    }\n",
       "\n",
       "    .dataframe thead th {\n",
       "        text-align: right;\n",
       "    }\n",
       "</style>\n",
       "<table border=\"1\" class=\"dataframe\">\n",
       "  <thead>\n",
       "    <tr style=\"text-align: right;\">\n",
       "      <th></th>\n",
       "      <th>BTC</th>\n",
       "      <th>ETH</th>\n",
       "      <th>EOS</th>\n",
       "      <th>LTC</th>\n",
       "      <th>XRP</th>\n",
       "      <th>ZEC</th>\n",
       "      <th>BCH</th>\n",
       "      <th>NEO</th>\n",
       "      <th>BNB</th>\n",
       "      <th>ENJ</th>\n",
       "      <th>QTUM</th>\n",
       "      <th>XLM</th>\n",
       "    </tr>\n",
       "  </thead>\n",
       "  <tbody>\n",
       "    <tr>\n",
       "      <th>0</th>\n",
       "      <td>965.49</td>\n",
       "      <td>10.71</td>\n",
       "      <td>0.0</td>\n",
       "      <td>4.02</td>\n",
       "      <td>0.00641</td>\n",
       "      <td>39.72</td>\n",
       "      <td>0.0</td>\n",
       "      <td>0.0</td>\n",
       "      <td>0.0</td>\n",
       "      <td>0.0</td>\n",
       "      <td>0.0</td>\n",
       "      <td>0.002149</td>\n",
       "    </tr>\n",
       "    <tr>\n",
       "      <th>1</th>\n",
       "      <td>982.43</td>\n",
       "      <td>10.71</td>\n",
       "      <td>0.0</td>\n",
       "      <td>4.00</td>\n",
       "      <td>0.00649</td>\n",
       "      <td>39.30</td>\n",
       "      <td>0.0</td>\n",
       "      <td>0.0</td>\n",
       "      <td>0.0</td>\n",
       "      <td>0.0</td>\n",
       "      <td>0.0</td>\n",
       "      <td>0.002481</td>\n",
       "    </tr>\n",
       "    <tr>\n",
       "      <th>2</th>\n",
       "      <td>1003.97</td>\n",
       "      <td>10.78</td>\n",
       "      <td>0.0</td>\n",
       "      <td>4.03</td>\n",
       "      <td>0.00640</td>\n",
       "      <td>39.78</td>\n",
       "      <td>0.0</td>\n",
       "      <td>0.0</td>\n",
       "      <td>0.0</td>\n",
       "      <td>0.0</td>\n",
       "      <td>0.0</td>\n",
       "      <td>0.002215</td>\n",
       "    </tr>\n",
       "    <tr>\n",
       "      <th>3</th>\n",
       "      <td>1013.02</td>\n",
       "      <td>10.95</td>\n",
       "      <td>0.0</td>\n",
       "      <td>3.99</td>\n",
       "      <td>0.00638</td>\n",
       "      <td>38.50</td>\n",
       "      <td>0.0</td>\n",
       "      <td>0.0</td>\n",
       "      <td>0.0</td>\n",
       "      <td>0.0</td>\n",
       "      <td>0.0</td>\n",
       "      <td>0.002292</td>\n",
       "    </tr>\n",
       "    <tr>\n",
       "      <th>4</th>\n",
       "      <td>1031.85</td>\n",
       "      <td>11.32</td>\n",
       "      <td>0.0</td>\n",
       "      <td>3.96</td>\n",
       "      <td>0.00644</td>\n",
       "      <td>39.00</td>\n",
       "      <td>0.0</td>\n",
       "      <td>0.0</td>\n",
       "      <td>0.0</td>\n",
       "      <td>0.0</td>\n",
       "      <td>0.0</td>\n",
       "      <td>0.002292</td>\n",
       "    </tr>\n",
       "  </tbody>\n",
       "</table>\n",
       "</div>"
      ],
      "text/plain": [
       "       BTC    ETH  EOS   LTC      XRP    ZEC  BCH  NEO  BNB  ENJ  QTUM  \\\n",
       "0   965.49  10.71  0.0  4.02  0.00641  39.72  0.0  0.0  0.0  0.0   0.0   \n",
       "1   982.43  10.71  0.0  4.00  0.00649  39.30  0.0  0.0  0.0  0.0   0.0   \n",
       "2  1003.97  10.78  0.0  4.03  0.00640  39.78  0.0  0.0  0.0  0.0   0.0   \n",
       "3  1013.02  10.95  0.0  3.99  0.00638  38.50  0.0  0.0  0.0  0.0   0.0   \n",
       "4  1031.85  11.32  0.0  3.96  0.00644  39.00  0.0  0.0  0.0  0.0   0.0   \n",
       "\n",
       "        XLM  \n",
       "0  0.002149  \n",
       "1  0.002481  \n",
       "2  0.002215  \n",
       "3  0.002292  \n",
       "4  0.002292  "
      ]
     },
     "execution_count": 75,
     "metadata": {},
     "output_type": "execute_result"
    }
   ],
   "source": [
    "df_closes.head()"
   ]
  },
  {
   "cell_type": "markdown",
   "metadata": {},
   "source": [
    "We'll remove currencies that haven't been actively traded for at least the time we're interested in:"
   ]
  },
  {
   "cell_type": "code",
   "execution_count": 76,
   "metadata": {},
   "outputs": [
    {
     "data": {
      "text/html": [
       "<div>\n",
       "<style scoped>\n",
       "    .dataframe tbody tr th:only-of-type {\n",
       "        vertical-align: middle;\n",
       "    }\n",
       "\n",
       "    .dataframe tbody tr th {\n",
       "        vertical-align: top;\n",
       "    }\n",
       "\n",
       "    .dataframe thead th {\n",
       "        text-align: right;\n",
       "    }\n",
       "</style>\n",
       "<table border=\"1\" class=\"dataframe\">\n",
       "  <thead>\n",
       "    <tr style=\"text-align: right;\">\n",
       "      <th></th>\n",
       "      <th>BTC</th>\n",
       "      <th>ETH</th>\n",
       "      <th>LTC</th>\n",
       "      <th>XRP</th>\n",
       "      <th>ZEC</th>\n",
       "      <th>XLM</th>\n",
       "    </tr>\n",
       "  </thead>\n",
       "  <tbody>\n",
       "    <tr>\n",
       "      <th>0</th>\n",
       "      <td>965.49</td>\n",
       "      <td>10.71</td>\n",
       "      <td>4.02</td>\n",
       "      <td>0.00641</td>\n",
       "      <td>39.72</td>\n",
       "      <td>0.002149</td>\n",
       "    </tr>\n",
       "    <tr>\n",
       "      <th>1</th>\n",
       "      <td>982.43</td>\n",
       "      <td>10.71</td>\n",
       "      <td>4.00</td>\n",
       "      <td>0.00649</td>\n",
       "      <td>39.30</td>\n",
       "      <td>0.002481</td>\n",
       "    </tr>\n",
       "    <tr>\n",
       "      <th>2</th>\n",
       "      <td>1003.97</td>\n",
       "      <td>10.78</td>\n",
       "      <td>4.03</td>\n",
       "      <td>0.00640</td>\n",
       "      <td>39.78</td>\n",
       "      <td>0.002215</td>\n",
       "    </tr>\n",
       "    <tr>\n",
       "      <th>3</th>\n",
       "      <td>1013.02</td>\n",
       "      <td>10.95</td>\n",
       "      <td>3.99</td>\n",
       "      <td>0.00638</td>\n",
       "      <td>38.50</td>\n",
       "      <td>0.002292</td>\n",
       "    </tr>\n",
       "    <tr>\n",
       "      <th>4</th>\n",
       "      <td>1031.85</td>\n",
       "      <td>11.32</td>\n",
       "      <td>3.96</td>\n",
       "      <td>0.00644</td>\n",
       "      <td>39.00</td>\n",
       "      <td>0.002292</td>\n",
       "    </tr>\n",
       "  </tbody>\n",
       "</table>\n",
       "</div>"
      ],
      "text/plain": [
       "       BTC    ETH   LTC      XRP    ZEC       XLM\n",
       "0   965.49  10.71  4.02  0.00641  39.72  0.002149\n",
       "1   982.43  10.71  4.00  0.00649  39.30  0.002481\n",
       "2  1003.97  10.78  4.03  0.00640  39.78  0.002215\n",
       "3  1013.02  10.95  3.99  0.00638  38.50  0.002292\n",
       "4  1031.85  11.32  3.96  0.00644  39.00  0.002292"
      ]
     },
     "execution_count": 76,
     "metadata": {},
     "output_type": "execute_result"
    }
   ],
   "source": [
    "df_closes = df_closes.replace(0.0, np.nan).dropna(axis=1)\n",
    "df_closes.head()"
   ]
  },
  {
   "cell_type": "markdown",
   "metadata": {},
   "source": [
    "Generally, the return on an asset is defined as $x(t + 1)/x(t)$, where $x(t)$ is the asset price at time $t$:"
   ]
  },
  {
   "cell_type": "code",
   "execution_count": 77,
   "metadata": {},
   "outputs": [],
   "source": [
    "def returns(x):\n",
    "    T = len(x)\n",
    "    r = np.zeros(T - 1)\n",
    "    for t in range(T - 1):\n",
    "        r[t] = x[t+1]/x[t]\n",
    "    \n",
    "    return r"
   ]
  },
  {
   "cell_type": "code",
   "execution_count": 78,
   "metadata": {},
   "outputs": [],
   "source": [
    "df_returns = df_closes.apply(lambda x: pd.Series(returns(x)), axis=0)"
   ]
  },
  {
   "cell_type": "code",
   "execution_count": 79,
   "metadata": {},
   "outputs": [
    {
     "data": {
      "text/html": [
       "<div>\n",
       "<style scoped>\n",
       "    .dataframe tbody tr th:only-of-type {\n",
       "        vertical-align: middle;\n",
       "    }\n",
       "\n",
       "    .dataframe tbody tr th {\n",
       "        vertical-align: top;\n",
       "    }\n",
       "\n",
       "    .dataframe thead th {\n",
       "        text-align: right;\n",
       "    }\n",
       "</style>\n",
       "<table border=\"1\" class=\"dataframe\">\n",
       "  <thead>\n",
       "    <tr style=\"text-align: right;\">\n",
       "      <th></th>\n",
       "      <th>BTC</th>\n",
       "      <th>ETH</th>\n",
       "      <th>LTC</th>\n",
       "      <th>XRP</th>\n",
       "      <th>ZEC</th>\n",
       "      <th>XLM</th>\n",
       "    </tr>\n",
       "  </thead>\n",
       "  <tbody>\n",
       "    <tr>\n",
       "      <th>0</th>\n",
       "      <td>1.017545</td>\n",
       "      <td>1.000000</td>\n",
       "      <td>0.995025</td>\n",
       "      <td>1.012480</td>\n",
       "      <td>0.989426</td>\n",
       "      <td>1.154490</td>\n",
       "    </tr>\n",
       "    <tr>\n",
       "      <th>1</th>\n",
       "      <td>1.021925</td>\n",
       "      <td>1.006536</td>\n",
       "      <td>1.007500</td>\n",
       "      <td>0.986133</td>\n",
       "      <td>1.012214</td>\n",
       "      <td>0.892785</td>\n",
       "    </tr>\n",
       "    <tr>\n",
       "      <th>2</th>\n",
       "      <td>1.009014</td>\n",
       "      <td>1.015770</td>\n",
       "      <td>0.990074</td>\n",
       "      <td>0.996875</td>\n",
       "      <td>0.967823</td>\n",
       "      <td>1.034763</td>\n",
       "    </tr>\n",
       "    <tr>\n",
       "      <th>3</th>\n",
       "      <td>1.018588</td>\n",
       "      <td>1.033790</td>\n",
       "      <td>0.992481</td>\n",
       "      <td>1.009404</td>\n",
       "      <td>1.012987</td>\n",
       "      <td>1.000000</td>\n",
       "    </tr>\n",
       "    <tr>\n",
       "      <th>4</th>\n",
       "      <td>0.984746</td>\n",
       "      <td>0.991166</td>\n",
       "      <td>1.002525</td>\n",
       "      <td>0.976708</td>\n",
       "      <td>0.962051</td>\n",
       "      <td>1.065445</td>\n",
       "    </tr>\n",
       "  </tbody>\n",
       "</table>\n",
       "</div>"
      ],
      "text/plain": [
       "        BTC       ETH       LTC       XRP       ZEC       XLM\n",
       "0  1.017545  1.000000  0.995025  1.012480  0.989426  1.154490\n",
       "1  1.021925  1.006536  1.007500  0.986133  1.012214  0.892785\n",
       "2  1.009014  1.015770  0.990074  0.996875  0.967823  1.034763\n",
       "3  1.018588  1.033790  0.992481  1.009404  1.012987  1.000000\n",
       "4  0.984746  0.991166  1.002525  0.976708  0.962051  1.065445"
      ]
     },
     "execution_count": 79,
     "metadata": {},
     "output_type": "execute_result"
    }
   ],
   "source": [
    "df_returns.head()"
   ]
  },
  {
   "cell_type": "code",
   "execution_count": 80,
   "metadata": {},
   "outputs": [
    {
     "data": {
      "image/png": "[encoded data removed]",
      "text/plain": [
       "<Figure size 1440x720 with 1 Axes>"
      ]
     },
     "metadata": {
      "needs_background": "light"
     },
     "output_type": "display_data"
    }
   ],
   "source": [
    "plt.figure(figsize=(20, 10))\n",
    "plt.hist(df_returns[\"BTC\"], bins=30)\n",
    "plt.xlabel(\"return (BTC)\")\n",
    "plt.ylabel(\"freq\")\n",
    "plt.show()"
   ]
  },
  {
   "cell_type": "markdown",
   "metadata": {},
   "source": [
    "In practice, we'll log-normalize these returns, to give them approximately zero mean and a very slightly less heavy right tail (only slightly, because for values close to $r = 1$, we have that $r - 1 \\approx \\log(r)$):"
   ]
  },
  {
   "cell_type": "code",
   "execution_count": 81,
   "metadata": {},
   "outputs": [
    {
     "data": {
      "image/png": "[encoded data removed]",
      "text/plain": [
       "<Figure size 1440x720 with 1 Axes>"
      ]
     },
     "metadata": {
      "needs_background": "light"
     },
     "output_type": "display_data"
    }
   ],
   "source": [
    "df_logreturns = np.log(df_returns)\n",
    "plt.figure(figsize=(20, 10))\n",
    "plt.hist(df_logreturns[\"BTC\"], bins=30)\n",
    "plt.xlabel(\"log(return) (BTC)\")\n",
    "plt.ylabel(\"freq\")\n",
    "plt.show()"
   ]
  },
  {
   "cell_type": "markdown",
   "metadata": {},
   "source": [
    "We can also plot these returns over time (this time for both Bitcoin and Ethereum):"
   ]
  },
  {
   "cell_type": "code",
   "execution_count": 82,
   "metadata": {},
   "outputs": [
    {
     "data": {
      "image/png": "[encoded data removed]",
      "text/plain": [
       "<Figure size 1440x720 with 1 Axes>"
      ]
     },
     "metadata": {
      "needs_background": "light"
     },
     "output_type": "display_data"
    }
   ],
   "source": [
    "sel = [\"BTC\", \"ETH\"]\n",
    "\n",
    "plt.figure(figsize=(20, 10))\n",
    "plt.plot(df_logreturns[sel])\n",
    "plt.legend(sel)\n",
    "plt.xlabel(\"day\")\n",
    "plt.ylabel(\"log(return) (btc)\")\n",
    "plt.show()"
   ]
  },
  {
   "cell_type": "markdown",
   "metadata": {},
   "source": [
    "Notice the returns are highly, highly correlated - although this isn't exactly a recent phenomenon in crypto, it has been rather extreme over the past year (see e.g. [here](https://www.theblockcrypto.com/2019/01/04/analysis-correlation-between-cryptocurrency-prices-sharply-increased-in-2018/)). This causes many challenges for predictive modeling.\n",
    "\n",
    "One of the modern problems in econometrics is portfolio choice - that is, how can we choose an optimal portfolio of assets to maximize our returns over time. These high correlations are particularly problematic when computing the maximum tangency portfolio.\n",
    "\n",
    "I think it would be interesting to see if we can apply modern portfolio theory to cryptocurrencies (which are known to be particularly volatile). It poses unique modeling challenges, and the goal will be to address them."
   ]
  },
  {
   "cell_type": "code",
   "execution_count": 83,
   "metadata": {},
   "outputs": [
    {
     "data": {
      "text/plain": [
       "(6, 770)"
      ]
     },
     "execution_count": 83,
     "metadata": {},
     "output_type": "execute_result"
    }
   ],
   "source": [
    "all_training_data = np.asarray(df_returns).T\n",
    "all_training_data.shape"
   ]
  },
  {
   "cell_type": "markdown",
   "metadata": {},
   "source": [
    "# Goal\n",
    "\n",
    "Our goal is to build a predictive model for portfolio choice. Formally:\n",
    "\n",
    "Let $\\mathbf{r}(t) \\in \\mathbb{R}^n$ be the return of each of $n$ assets at time $t$, where $r_i(t) = \\log{\\frac{x_i(t + 1)}{x_i(t)}}$ for $i = 1, \\dots, n$. Then, at any time, the assets have a covariance matrix $\\Sigma(t)$ which can be estimated by $S(t) = \\mathbf{r}(t) \\mathbf{r}(t)^T$. Let our training data be $\\mathcal{D} = \\{ \\mathbf{r}(t) | t \\in 1, \\dots, T \\}$ where $T$ is the number of training timepoints. Our goal is to define a model capable of then predicting $\\mathbf{r}(T + 1)$ and $\\Sigma(T + 1)$. We can then optimize portfolio choice by maximizing the Sharpe ratio:\n",
    "\n",
    "$$\\mathbf{w}(T + 1) = \\text{argmax}_{\\mathbf{w}} \\frac{\\mathbf{w}^T \\mathbf{r}(T + 1)}{\\sqrt{\\mathbf{w}^T \\Sigma(T + 1) \\mathbf{w}}}$$\n",
    "\n",
    "subject to $\\sum w_i = 1$. This is called the maximum tangency portfolio and is optimally resilient to volatility and maximizes returns.\n",
    "\n",
    "(Note: we're being deliberately vague about how we're going to compute $\\mathbf{r}(T + 1)$ and $\\Sigma(T + 1)$ - we'll try a number of different predictive models with the same sort of general idea.)"
   ]
  },
  {
   "cell_type": "markdown",
   "metadata": {},
   "source": [
    "# Model"
   ]
  },
  {
   "cell_type": "markdown",
   "metadata": {},
   "source": [
    "There are several possible methods to estimate $\\mathbf{r}(T + 1)$:\n",
    "\n",
    "* Simple regression\n",
    "* Autoregressive models\n",
    "* Neural networks (RNNs in particular)\n",
    "* Bayesian methods\n",
    "\n",
    "There are also methods (apparently generally lesser-known outside of econometrics) to estimate $\\Sigma(T + 1)$, including autoregressive models like MGARCH, but these frequently make problematic assumptions.\n",
    "\n",
    "A common technique is to model the returns with a model like ARIMA, and the volatility with a model like MGARCH, combining them for forecasting.\n",
    "\n",
    "I think an interesting idea would be to use ARIMA to predict future returns $\\mathbf{r}(t)$, and an alternative to MGARCH (the [generalized Wishart process](https://www.cs.cmu.edu/~andrewgw/gwp.pdf)) to model $\\Sigma(t)$. Together, these will produce estimates of $\\mathbf{r}(T + 1)$ and $\\Sigma(T + 1)$ which can then be used for portfolio choice. The GWP has shown some advantages in highly correlated asset markets, as shown in the original paper, over MGARCH.\n",
    "\n",
    "(I'm assuming some familiarity with Gaussian processes - [here](https://www.cs.toronto.edu/~hinton/csc2515/notes/gp_slides_fall08.pdf) is a good introduction, and the seminal book is [R&W](http://www.gaussianprocess.org/gpml/chapters/RW.pdf) - chapters 1, 2, 4, and 5 are useful references).\n",
    "\n",
    "## Generalized Wishart process\n",
    "\n",
    "The key idea of the generalized Wishart process is summarized in equation (12) of the original paper. Essentially, if $\\mathbf{u_i} \\sim \\mathcal{N}(\\mathbf{0}, I)$ for $i = 1, \\dots, \\nu$, and $L$ is the lower Cholesky factor of a symmetric pd matrix, then $\\Sigma = \\sum_i L\\mathbf{u_i}\\mathbf{u_i}^TL^T \\sim \\mathcal{W}(LL^T, \\nu)$. Here, $\\mathcal{W}$ is the Wishart distribution, which can be thought of as a distribution over covariance matrices. In our case, $\\mathbf{u_i} \\in \\mathbb{R}^N$, where $N$ is the number of assets we're modeling, and thus $\\Sigma$ is a covariance matrix over the assets of interest. If we make the $\\mathbf{u_i}$s a \"smooth\" function of time, then our covariance matrix is _also_ a \"smooth\" function of time. One easy way to do this is to model the $\\mathbf{u_i}$s as zero-mean Gaussian processes, defined entirely by their kernel function (see [here](https://www.cs.toronto.edu/~duvenaud/cookbook/) for a great, short reference). Then, our covariance matrix is completely defined by this kernel function as well.\n",
    "\n",
    "Below, we define some common kernel functions used in GPs:"
   ]
  },
  {
   "cell_type": "code",
   "execution_count": 84,
   "metadata": {},
   "outputs": [],
   "source": [
    "def ou(t1, t2, params):\n",
    "    \"\"\"\n",
    "    Ornstein-Uhlenbeck kernel. Commonly used for financial data because\n",
    "    it's not quite as smooth as the squared-exponential kernel.\n",
    "    \"\"\"\n",
    "    tau = params[0]\n",
    "    \n",
    "    return np.exp(-abs(t2 - t1)/tau)\n",
    "\n",
    "def squared_exponential(t1, t2, params):\n",
    "    \"\"\"\n",
    "    Squared-exponential kernel. This is generally considered the \"gold\n",
    "    standard\" in the GP literature because it is universal - within some\n",
    "    assumptions, it can approximate any continuous function.\n",
    "    \"\"\"\n",
    "    tau = params[0]\n",
    "    \n",
    "    return np.exp(-0.5*((t1 - t2)/tau)**2)\n",
    "\n",
    "def periodic(t1, t2, params):\n",
    "    \"\"\"\n",
    "    A simple periodic kernel function.\n",
    "    \"\"\"\n",
    "    tau = params[0]\n",
    "    \n",
    "    return np.exp(-2*np.sin((t1 - t2)/2)**2/tau**2)"
   ]
  },
  {
   "cell_type": "markdown",
   "metadata": {},
   "source": [
    "There are infinitely many possible kernels, and we can increase the space even more by noticing that sums of kernels are also valid kernels."
   ]
  },
  {
   "cell_type": "markdown",
   "metadata": {},
   "source": [
    "We'll now implement the model for $\\Sigma(t)$. It's a direct implementation of equations (15)-(17) and the sampling procedure described in the GWP paper. We follow their direction and implement [elliptical slice sampling](http://proceedings.mlr.press/v9/murray10a/murray10a.pdf) for sampling the GPs which construct $\\Sigma(t)$. We use the `emcee` library in Python for the Metropolis-Hasting steps (learning $L$ and $\\mathbf{\\theta}$). The code is in `model/gwp.py`."
   ]
  },
  {
   "cell_type": "code",
   "execution_count": 85,
   "metadata": {},
   "outputs": [],
   "source": [
    "from model.gwp import GeneralizedWishartProcess as GWP\n",
    "from model.kernels import squared_exponential as se"
   ]
  },
  {
   "cell_type": "markdown",
   "metadata": {},
   "source": [
    "We'll do \"windowed\" backtesting - train the model on days $i, \\dots, i + w - 1$, and predict day $i + w$, for $i = 0, \\dots v - 1$, where $v$ is the number of tests and $w$ is the window size. We're constrained by processing power and time, because Gibbs sampling is slow, so we'll use relatively small values to start."
   ]
  },
  {
   "cell_type": "code",
   "execution_count": 87,
   "metadata": {
    "scrolled": true
   },
   "outputs": [
    {
     "name": "stdout",
     "output_type": "stream",
     "text": [
      "Iter 0: loglik = -13775.50, log P(u|...) = -11878.19, log P(tau|...) = -219.28, log P(L|...) = -11676.86\n",
      "Iter 500: loglik = -57.72, log P(u|...) = -272.85, log P(tau|...) = -230.38, log P(L|...) = -91.34\n",
      "Iter 1000: loglik = -47.22, log P(u|...) = -265.43, log P(tau|...) = -248.80, log P(L|...) = -81.12\n",
      "Iter 1500: loglik = -29.19, log P(u|...) = -226.28, log P(tau|...) = -220.93, log P(L|...) = -74.73\n",
      "Iter 2000: loglik = -25.84, log P(u|...) = -222.01, log P(tau|...) = -220.35, log P(L|...) = -61.22\n",
      "Iter 2500: loglik = -30.05, log P(u|...) = -259.05, log P(tau|...) = -253.07, log P(L|...) = -69.83\n",
      "Iter 3000: loglik = -29.22, log P(u|...) = -243.65, log P(tau|...) = -240.66, log P(L|...) = -64.88\n",
      "Iter 3500: loglik = -25.23, log P(u|...) = -221.15, log P(tau|...) = -220.93, log P(L|...) = -60.08\n",
      "Iter 4000: loglik = -27.09, log P(u|...) = -234.34, log P(tau|...) = -231.07, log P(L|...) = -61.80\n",
      "Iter 4500: loglik = -34.91, log P(u|...) = -238.68, log P(tau|...) = -227.72, log P(L|...) = -64.99\n",
      "Iter 5000: loglik = -24.44, log P(u|...) = -211.46, log P(tau|...) = -211.93, log P(L|...) = -53.55\n",
      "Iter 5500: loglik = -23.44, log P(u|...) = -227.46, log P(tau|...) = -228.56, log P(L|...) = -54.78\n",
      "Iter 6000: loglik = -27.52, log P(u|...) = -220.60, log P(tau|...) = -217.41, log P(L|...) = -57.24\n",
      "Iter 6500: loglik = -28.90, log P(u|...) = -226.91, log P(tau|...) = -222.63, log P(L|...) = -58.33\n",
      "Iter 7000: loglik = -23.16, log P(u|...) = -214.43, log P(tau|...) = -215.55, log P(L|...) = -55.87\n",
      "Iter 7500: loglik = -23.48, log P(u|...) = -226.29, log P(tau|...) = -227.88, log P(L|...) = -53.96\n",
      "Iter 8000: loglik = -29.15, log P(u|...) = -225.73, log P(tau|...) = -218.97, log P(L|...) = -62.31\n",
      "Iter 8500: loglik = -19.80, log P(u|...) = -224.26, log P(tau|...) = -228.36, log P(L|...) = -49.59\n",
      "Iter 9000: loglik = -28.79, log P(u|...) = -243.99, log P(tau|...) = -239.48, log P(L|...) = -55.62\n",
      "Iter 9500: loglik = -30.30, log P(u|...) = -211.84, log P(tau|...) = -206.41, log P(L|...) = -56.54\n",
      "Optimal likelihood: -16.670\n",
      "Iter 0: loglik = -6686.16, log P(u|...) = -6745.51, log P(tau|...) = -219.95, log P(L|...) = -6553.07\n",
      "Iter 500: loglik = -41.99, log P(u|...) = -235.38, log P(tau|...) = -221.17, log P(L|...) = -80.99\n",
      "Iter 1000: loglik = -24.35, log P(u|...) = -199.50, log P(tau|...) = -201.78, log P(L|...) = -70.77\n",
      "Iter 1500: loglik = -25.51, log P(u|...) = -257.89, log P(tau|...) = -249.66, log P(L|...) = -62.12\n",
      "Iter 2000: loglik = -26.13, log P(u|...) = -205.20, log P(tau|...) = -206.21, log P(L|...) = -65.46\n",
      "Iter 2500: loglik = -21.25, log P(u|...) = -223.16, log P(tau|...) = -225.96, log P(L|...) = -65.95\n",
      "Iter 3000: loglik = -17.99, log P(u|...) = -241.03, log P(tau|...) = -247.43, log P(L|...) = -59.69\n",
      "Iter 3500: loglik = -17.39, log P(u|...) = -240.41, log P(tau|...) = -247.31, log P(L|...) = -56.67\n",
      "Iter 4000: loglik = -18.22, log P(u|...) = -223.40, log P(tau|...) = -228.91, log P(L|...) = -58.06\n",
      "Iter 4500: loglik = -19.91, log P(u|...) = -215.43, log P(tau|...) = -219.47, log P(L|...) = -59.53\n",
      "Iter 5000: loglik = -16.78, log P(u|...) = -227.48, log P(tau|...) = -233.23, log P(L|...) = -60.45\n",
      "Iter 5500: loglik = -19.32, log P(u|...) = -212.16, log P(tau|...) = -216.91, log P(L|...) = -61.93\n",
      "Iter 6000: loglik = -24.68, log P(u|...) = -225.80, log P(tau|...) = -225.02, log P(L|...) = -64.45\n",
      "Iter 6500: loglik = -22.54, log P(u|...) = -212.47, log P(tau|...) = -214.24, log P(L|...) = -56.98\n",
      "Iter 7000: loglik = -25.54, log P(u|...) = -206.33, log P(tau|...) = -204.83, log P(L|...) = -60.25\n",
      "Iter 7500: loglik = -28.65, log P(u|...) = -214.67, log P(tau|...) = -210.28, log P(L|...) = -66.85\n",
      "Iter 8000: loglik = -19.95, log P(u|...) = -231.92, log P(tau|...) = -236.83, log P(L|...) = -57.55\n",
      "Iter 8500: loglik = -22.12, log P(u|...) = -233.51, log P(tau|...) = -235.46, log P(L|...) = -60.50\n",
      "Iter 9000: loglik = -23.87, log P(u|...) = -223.29, log P(tau|...) = -223.70, log P(L|...) = -63.13\n",
      "Iter 9500: loglik = -22.14, log P(u|...) = -223.75, log P(tau|...) = -225.66, log P(L|...) = -61.63\n",
      "Optimal likelihood: -12.399\n",
      "Iter 0: loglik = -141904.70, log P(u|...) = -44780.25, log P(tau|...) = -232.94, log P(L|...) = -15010.51\n",
      "Iter 500: loglik = -126.16, log P(u|...) = -383.94, log P(tau|...) = -278.82, log P(L|...) = -132.78\n",
      "Iter 1000: loglik = -94.71, log P(u|...) = -359.59, log P(tau|...) = -295.76, log P(L|...) = -102.19\n",
      "Iter 1500: loglik = -54.32, log P(u|...) = -310.00, log P(tau|...) = -298.19, log P(L|...) = -64.05\n",
      "Iter 2000: loglik = -63.64, log P(u|...) = -286.57, log P(tau|...) = -265.47, log P(L|...) = -73.33\n",
      "Iter 2500: loglik = -57.69, log P(u|...) = -289.18, log P(tau|...) = -274.62, log P(L|...) = -66.80\n",
      "Iter 3000: loglik = -53.94, log P(u|...) = -266.12, log P(tau|...) = -257.18, log P(L|...) = -63.69\n",
      "Iter 3500: loglik = -57.56, log P(u|...) = -283.38, log P(tau|...) = -270.56, log P(L|...) = -67.56\n",
      "Iter 4000: loglik = -53.93, log P(u|...) = -263.60, log P(tau|...) = -261.30, log P(L|...) = -65.08\n",
      "Iter 4500: loglik = -61.72, log P(u|...) = -287.32, log P(tau|...) = -289.11, log P(L|...) = -70.17\n",
      "Iter 5000: loglik = -53.70, log P(u|...) = -252.48, log P(tau|...) = -260.97, log P(L|...) = -63.46\n",
      "Iter 5500: loglik = -46.82, log P(u|...) = -253.26, log P(tau|...) = -263.06, log P(L|...) = -57.15\n",
      "Iter 6000: loglik = -59.16, log P(u|...) = -253.10, log P(tau|...) = -238.39, log P(L|...) = -69.40\n",
      "Iter 6500: loglik = -62.15, log P(u|...) = -272.97, log P(tau|...) = -255.48, log P(L|...) = -72.19\n",
      "Iter 7000: loglik = -54.54, log P(u|...) = -295.56, log P(tau|...) = -285.65, log P(L|...) = -64.60\n",
      "Iter 7500: loglik = -40.70, log P(u|...) = -262.99, log P(tau|...) = -267.21, log P(L|...) = -52.35\n",
      "Iter 8000: loglik = -42.14, log P(u|...) = -264.17, log P(tau|...) = -266.76, log P(L|...) = -53.98\n",
      "Iter 8500: loglik = -35.75, log P(u|...) = -253.91, log P(tau|...) = -263.27, log P(L|...) = -47.38\n",
      "Iter 9000: loglik = -29.32, log P(u|...) = -216.43, log P(tau|...) = -227.08, log P(L|...) = -50.33\n",
      "Iter 9500: loglik = -21.46, log P(u|...) = -232.27, log P(tau|...) = -247.65, log P(L|...) = -45.38\n",
      "Optimal likelihood: -20.279\n",
      "Iter 0: loglik = -6859.66, log P(u|...) = -6935.93, log P(tau|...) = -231.96, log P(L|...) = -6726.95\n",
      "Iter 500: loglik = -30.47, log P(u|...) = -230.13, log P(tau|...) = -219.70, log P(L|...) = -79.09\n",
      "Iter 1000: loglik = -27.81, log P(u|...) = -236.97, log P(tau|...) = -235.23, log P(L|...) = -80.44\n",
      "Iter 1500: loglik = -30.09, log P(u|...) = -231.64, log P(tau|...) = -238.70, log P(L|...) = -85.15\n",
      "Iter 2000: loglik = -21.79, log P(u|...) = -248.81, log P(tau|...) = -257.43, log P(L|...) = -68.67\n",
      "Iter 2500: loglik = -25.39, log P(u|...) = -220.47, log P(tau|...) = -225.56, log P(L|...) = -67.26\n",
      "Iter 3000: loglik = -24.65, log P(u|...) = -198.87, log P(tau|...) = -204.82, log P(L|...) = -62.94\n",
      "Iter 3500: loglik = -23.65, log P(u|...) = -247.83, log P(tau|...) = -254.90, log P(L|...) = -63.37\n",
      "Iter 4000: loglik = -25.34, log P(u|...) = -217.91, log P(tau|...) = -231.47, log P(L|...) = -69.43\n",
      "Iter 4500: loglik = -23.73, log P(u|...) = -232.18, log P(tau|...) = -247.70, log P(L|...) = -64.74\n",
      "Iter 5000: loglik = -27.78, log P(u|...) = -218.07, log P(tau|...) = -230.41, log P(L|...) = -54.28\n",
      "Iter 5500: loglik = -35.49, log P(u|...) = -229.31, log P(tau|...) = -236.14, log P(L|...) = -66.80\n",
      "Iter 6000: loglik = -19.57, log P(u|...) = -210.54, log P(tau|...) = -232.44, log P(L|...) = -58.22\n",
      "Iter 6500: loglik = -27.54, log P(u|...) = -220.09, log P(tau|...) = -234.39, log P(L|...) = -53.78\n",
      "Iter 7000: loglik = -24.61, log P(u|...) = -226.56, log P(tau|...) = -245.61, log P(L|...) = -49.03\n",
      "Iter 7500: loglik = -23.26, log P(u|...) = -214.49, log P(tau|...) = -236.18, log P(L|...) = -49.38\n",
      "Iter 8000: loglik = -24.01, log P(u|...) = -212.97, log P(tau|...) = -234.04, log P(L|...) = -52.41\n",
      "Iter 8500: loglik = -33.72, log P(u|...) = -233.56, log P(tau|...) = -233.53, log P(L|...) = -59.81\n",
      "Iter 9000: loglik = -21.91, log P(u|...) = -199.16, log P(tau|...) = -210.81, log P(L|...) = -49.90\n",
      "Iter 9500: loglik = -21.83, log P(u|...) = -232.92, log P(tau|...) = -240.78, log P(L|...) = -60.03\n",
      "Optimal likelihood: -14.684\n",
      "Iter 0: loglik = -17000.28, log P(u|...) = -9953.44, log P(tau|...) = -198.13, log P(L|...) = -9776.29\n"
     ]
    },
    {
     "name": "stdout",
     "output_type": "stream",
     "text": [
      "Iter 500: loglik = -19.55, log P(u|...) = -220.28, log P(tau|...) = -228.57, log P(L|...) = -70.33\n",
      "Iter 1000: loglik = -30.05, log P(u|...) = -244.26, log P(tau|...) = -247.37, log P(L|...) = -70.71\n",
      "Iter 1500: loglik = -21.26, log P(u|...) = -220.09, log P(tau|...) = -231.91, log P(L|...) = -60.82\n",
      "Iter 2000: loglik = -25.24, log P(u|...) = -232.11, log P(tau|...) = -240.27, log P(L|...) = -65.46\n",
      "Iter 2500: loglik = -21.30, log P(u|...) = -231.63, log P(tau|...) = -246.54, log P(L|...) = -66.27\n",
      "Iter 3000: loglik = -28.86, log P(u|...) = -208.22, log P(tau|...) = -220.90, log P(L|...) = -65.59\n",
      "Iter 3500: loglik = -22.03, log P(u|...) = -200.33, log P(tau|...) = -226.40, log P(L|...) = -59.34\n",
      "Iter 4000: loglik = -24.16, log P(u|...) = -222.36, log P(tau|...) = -246.77, log P(L|...) = -60.98\n",
      "Iter 4500: loglik = -21.51, log P(u|...) = -214.82, log P(tau|...) = -236.37, log P(L|...) = -54.53\n",
      "Iter 5000: loglik = -22.30, log P(u|...) = -225.76, log P(tau|...) = -247.13, log P(L|...) = -55.47\n",
      "Iter 5500: loglik = -17.64, log P(u|...) = -208.50, log P(tau|...) = -234.27, log P(L|...) = -51.07\n",
      "Iter 6000: loglik = -23.07, log P(u|...) = -230.82, log P(tau|...) = -250.63, log P(L|...) = -57.03\n",
      "Iter 6500: loglik = -21.46, log P(u|...) = -242.79, log P(tau|...) = -264.70, log P(L|...) = -54.94\n",
      "Iter 7000: loglik = -19.91, log P(u|...) = -208.83, log P(tau|...) = -239.22, log P(L|...) = -53.53\n",
      "Iter 7500: loglik = -26.16, log P(u|...) = -261.57, log P(tau|...) = -270.60, log P(L|...) = -61.98\n",
      "Iter 8000: loglik = -14.83, log P(u|...) = -214.35, log P(tau|...) = -238.98, log P(L|...) = -54.27\n",
      "Iter 8500: loglik = -24.38, log P(u|...) = -222.43, log P(tau|...) = -237.84, log P(L|...) = -58.51\n",
      "Iter 9000: loglik = -17.94, log P(u|...) = -227.37, log P(tau|...) = -248.85, log P(L|...) = -52.44\n",
      "Iter 9500: loglik = -25.55, log P(u|...) = -230.49, log P(tau|...) = -232.47, log P(L|...) = -60.40\n",
      "Optimal likelihood: -14.401\n",
      "Iter 0: loglik = -17978.44, log P(u|...) = -15870.57, log P(tau|...) = -203.56, log P(L|...) = -15686.87\n",
      "Iter 500: loglik = -24.46, log P(u|...) = -213.84, log P(tau|...) = -213.30, log P(L|...) = -79.00\n",
      "Iter 1000: loglik = -24.16, log P(u|...) = -232.20, log P(tau|...) = -232.74, log P(L|...) = -63.35\n",
      "Iter 1500: loglik = -27.53, log P(u|...) = -220.62, log P(tau|...) = -217.22, log P(L|...) = -68.30\n",
      "Iter 2000: loglik = -14.49, log P(u|...) = -226.16, log P(tau|...) = -233.29, log P(L|...) = -59.87\n",
      "Iter 2500: loglik = -21.57, log P(u|...) = -223.94, log P(tau|...) = -226.86, log P(L|...) = -59.66\n",
      "Iter 3000: loglik = -22.39, log P(u|...) = -212.25, log P(tau|...) = -213.59, log P(L|...) = -63.69\n",
      "Iter 3500: loglik = -29.86, log P(u|...) = -244.96, log P(tau|...) = -239.69, log P(L|...) = -65.94\n",
      "Iter 4000: loglik = -17.83, log P(u|...) = -221.60, log P(tau|...) = -227.89, log P(L|...) = -60.99\n",
      "Iter 4500: loglik = -20.81, log P(u|...) = -220.68, log P(tau|...) = -224.41, log P(L|...) = -61.98\n",
      "Iter 5000: loglik = -30.14, log P(u|...) = -219.38, log P(tau|...) = -213.83, log P(L|...) = -65.06\n",
      "Iter 5500: loglik = -22.82, log P(u|...) = -231.90, log P(tau|...) = -232.00, log P(L|...) = -56.17\n",
      "Iter 6000: loglik = -31.34, log P(u|...) = -209.70, log P(tau|...) = -202.64, log P(L|...) = -61.32\n",
      "Iter 6500: loglik = -29.73, log P(u|...) = -222.36, log P(tau|...) = -217.76, log P(L|...) = -57.49\n",
      "Iter 7000: loglik = -24.15, log P(u|...) = -228.35, log P(tau|...) = -227.21, log P(L|...) = -54.81\n",
      "Iter 7500: loglik = -30.78, log P(u|...) = -228.33, log P(tau|...) = -220.06, log P(L|...) = -61.93\n",
      "Iter 8000: loglik = -23.51, log P(u|...) = -214.10, log P(tau|...) = -214.56, log P(L|...) = -51.81\n",
      "Iter 8500: loglik = -30.71, log P(u|...) = -206.28, log P(tau|...) = -200.38, log P(L|...) = -58.16\n",
      "Iter 9000: loglik = -30.83, log P(u|...) = -200.82, log P(tau|...) = -194.50, log P(L|...) = -59.70\n",
      "Iter 9500: loglik = -18.99, log P(u|...) = -244.80, log P(tau|...) = -249.17, log P(L|...) = -50.91\n",
      "Optimal likelihood: -12.489\n",
      "Iter 0: loglik = -10626.96, log P(u|...) = -8690.88, log P(tau|...) = -209.90, log P(L|...) = -8501.86\n",
      "Iter 500: loglik = -51.69, log P(u|...) = -273.30, log P(tau|...) = -239.43, log P(L|...) = -64.87\n",
      "Iter 1000: loglik = -43.61, log P(u|...) = -298.48, log P(tau|...) = -272.70, log P(L|...) = -56.79\n",
      "Iter 1500: loglik = -50.93, log P(u|...) = -267.40, log P(tau|...) = -233.92, log P(L|...) = -64.48\n",
      "Iter 2000: loglik = -55.36, log P(u|...) = -294.95, log P(tau|...) = -256.91, log P(L|...) = -69.05\n",
      "Iter 2500: loglik = -43.45, log P(u|...) = -241.51, log P(tau|...) = -222.35, log P(L|...) = -56.01\n",
      "Iter 3000: loglik = -46.46, log P(u|...) = -269.62, log P(tau|...) = -246.90, log P(L|...) = -59.55\n",
      "Iter 3500: loglik = -47.89, log P(u|...) = -280.41, log P(tau|...) = -256.26, log P(L|...) = -60.99\n",
      "Iter 4000: loglik = -46.85, log P(u|...) = -279.15, log P(tau|...) = -256.02, log P(L|...) = -59.97\n",
      "Iter 4500: loglik = -47.33, log P(u|...) = -264.16, log P(tau|...) = -240.83, log P(L|...) = -60.17\n",
      "Iter 5000: loglik = -46.61, log P(u|...) = -265.77, log P(tau|...) = -242.90, log P(L|...) = -59.72\n",
      "Iter 5500: loglik = -40.82, log P(u|...) = -292.76, log P(tau|...) = -275.70, log P(L|...) = -53.91\n",
      "Iter 6000: loglik = -50.37, log P(u|...) = -264.92, log P(tau|...) = -236.97, log P(L|...) = -66.73\n",
      "Iter 6500: loglik = -31.54, log P(u|...) = -277.74, log P(tau|...) = -269.92, log P(L|...) = -46.60\n",
      "Iter 7000: loglik = -45.06, log P(u|...) = -231.16, log P(tau|...) = -209.85, log P(L|...) = -60.10\n",
      "Iter 7500: loglik = -33.96, log P(u|...) = -234.84, log P(tau|...) = -227.61, log P(L|...) = -54.21\n",
      "Iter 8000: loglik = -37.28, log P(u|...) = -261.46, log P(tau|...) = -251.59, log P(L|...) = -58.49\n",
      "Iter 8500: loglik = -29.45, log P(u|...) = -220.73, log P(tau|...) = -218.44, log P(L|...) = -56.41\n",
      "Iter 9000: loglik = -31.98, log P(u|...) = -230.71, log P(tau|...) = -225.80, log P(L|...) = -62.48\n",
      "Iter 9500: loglik = -23.95, log P(u|...) = -235.95, log P(tau|...) = -237.28, log P(L|...) = -58.78\n",
      "Optimal likelihood: -14.869\n",
      "Iter 0: loglik = -19719.43, log P(u|...) = -18063.94, log P(tau|...) = -207.25, log P(L|...) = -17881.73\n",
      "Iter 500: loglik = -69.33, log P(u|...) = -312.68, log P(tau|...) = -265.70, log P(L|...) = -80.98\n",
      "Iter 1000: loglik = -55.90, log P(u|...) = -281.89, log P(tau|...) = -248.04, log P(L|...) = -67.85\n",
      "Iter 1500: loglik = -42.09, log P(u|...) = -273.47, log P(tau|...) = -253.00, log P(L|...) = -59.44\n",
      "Iter 2000: loglik = -41.07, log P(u|...) = -235.07, log P(tau|...) = -227.28, log P(L|...) = -58.10\n",
      "Iter 2500: loglik = -30.75, log P(u|...) = -240.23, log P(tau|...) = -242.39, log P(L|...) = -55.75\n",
      "Iter 3000: loglik = -33.29, log P(u|...) = -229.46, log P(tau|...) = -229.69, log P(L|...) = -60.21\n",
      "Iter 3500: loglik = -29.21, log P(u|...) = -213.72, log P(tau|...) = -218.18, log P(L|...) = -55.36\n",
      "Iter 4000: loglik = -27.41, log P(u|...) = -237.22, log P(tau|...) = -244.59, log P(L|...) = -52.54\n",
      "Iter 4500: loglik = -32.78, log P(u|...) = -223.66, log P(tau|...) = -225.73, log P(L|...) = -60.45\n",
      "Iter 5000: loglik = -26.33, log P(u|...) = -236.36, log P(tau|...) = -247.83, log P(L|...) = -51.18\n",
      "Iter 5500: loglik = -40.46, log P(u|...) = -227.48, log P(tau|...) = -224.00, log P(L|...) = -64.64\n",
      "Iter 6000: loglik = -33.17, log P(u|...) = -251.50, log P(tau|...) = -254.97, log P(L|...) = -57.69\n",
      "Iter 6500: loglik = -30.38, log P(u|...) = -214.31, log P(tau|...) = -222.00, log P(L|...) = -53.48\n",
      "Iter 7000: loglik = -36.51, log P(u|...) = -224.75, log P(tau|...) = -228.53, log P(L|...) = -60.10\n",
      "Iter 7500: loglik = -24.95, log P(u|...) = -244.44, log P(tau|...) = -258.73, log P(L|...) = -53.70\n",
      "Iter 8000: loglik = -22.40, log P(u|...) = -234.62, log P(tau|...) = -256.46, log P(L|...) = -48.79\n",
      "Iter 8500: loglik = -29.68, log P(u|...) = -223.78, log P(tau|...) = -237.91, log P(L|...) = -58.81\n",
      "Iter 9000: loglik = -23.18, log P(u|...) = -211.69, log P(tau|...) = -233.21, log P(L|...) = -53.26\n",
      "Iter 9500: loglik = -17.02, log P(u|...) = -218.08, log P(tau|...) = -245.76, log P(L|...) = -47.10\n",
      "Optimal likelihood: -15.254\n",
      "Iter 0: loglik = -21408.07, log P(u|...) = -21535.72, log P(tau|...) = -233.20, log P(L|...) = -19676.21\n",
      "Iter 500: loglik = -65.31, log P(u|...) = -274.53, log P(tau|...) = -260.56, log P(L|...) = -104.80\n"
     ]
    },
    {
     "name": "stdout",
     "output_type": "stream",
     "text": [
      "Iter 1000: loglik = -42.36, log P(u|...) = -269.66, log P(tau|...) = -278.19, log P(L|...) = -82.54\n",
      "Iter 1500: loglik = -41.19, log P(u|...) = -242.16, log P(tau|...) = -254.76, log P(L|...) = -92.46\n",
      "Iter 2000: loglik = -40.53, log P(u|...) = -241.76, log P(tau|...) = -242.15, log P(L|...) = -90.37\n",
      "Iter 2500: loglik = -33.02, log P(u|...) = -260.21, log P(tau|...) = -266.58, log P(L|...) = -80.06\n",
      "Iter 3000: loglik = -30.75, log P(u|...) = -238.26, log P(tau|...) = -246.70, log P(L|...) = -77.99\n",
      "Iter 3500: loglik = -42.89, log P(u|...) = -233.90, log P(tau|...) = -230.23, log P(L|...) = -90.46\n",
      "Iter 4000: loglik = -33.25, log P(u|...) = -235.22, log P(tau|...) = -249.60, log P(L|...) = -90.56\n",
      "Iter 4500: loglik = -38.30, log P(u|...) = -263.18, log P(tau|...) = -273.72, log P(L|...) = -96.50\n",
      "Iter 5000: loglik = -37.81, log P(u|...) = -249.11, log P(tau|...) = -263.83, log P(L|...) = -86.12\n",
      "Iter 5500: loglik = -30.74, log P(u|...) = -213.69, log P(tau|...) = -225.40, log P(L|...) = -79.59\n",
      "Iter 6000: loglik = -39.21, log P(u|...) = -232.06, log P(tau|...) = -234.96, log P(L|...) = -88.41\n",
      "Iter 6500: loglik = -25.10, log P(u|...) = -202.99, log P(tau|...) = -217.76, log P(L|...) = -80.98\n",
      "Iter 7000: loglik = -39.38, log P(u|...) = -220.81, log P(tau|...) = -223.13, log P(L|...) = -79.80\n",
      "Iter 7500: loglik = -43.13, log P(u|...) = -232.94, log P(tau|...) = -232.59, log P(L|...) = -82.48\n",
      "Iter 8000: loglik = -40.66, log P(u|...) = -252.38, log P(tau|...) = -249.60, log P(L|...) = -81.90\n",
      "Iter 8500: loglik = -37.91, log P(u|...) = -240.77, log P(tau|...) = -240.61, log P(L|...) = -83.03\n",
      "Iter 9000: loglik = -21.80, log P(u|...) = -233.87, log P(tau|...) = -249.89, log P(L|...) = -66.86\n",
      "Iter 9500: loglik = -30.54, log P(u|...) = -256.60, log P(tau|...) = -262.89, log P(L|...) = -74.47\n",
      "Optimal likelihood: -19.135\n",
      "Iter 0: loglik = -39389.45, log P(u|...) = -19593.61, log P(tau|...) = -213.20, log P(L|...) = -15655.33\n",
      "Iter 500: loglik = -907.12, log P(u|...) = -1145.66, log P(tau|...) = -257.53, log P(L|...) = -910.65\n",
      "Iter 1000: loglik = -417.44, log P(u|...) = -695.09, log P(tau|...) = -300.38, log P(L|...) = -425.09\n",
      "Iter 1500: loglik = -251.93, log P(u|...) = -524.32, log P(tau|...) = -315.22, log P(L|...) = -257.23\n",
      "Iter 2000: loglik = -204.26, log P(u|...) = -496.29, log P(tau|...) = -334.69, log P(L|...) = -209.74\n",
      "Iter 2500: loglik = -176.10, log P(u|...) = -467.39, log P(tau|...) = -347.20, log P(L|...) = -181.53\n",
      "Iter 3000: loglik = -115.39, log P(u|...) = -391.03, log P(tau|...) = -332.12, log P(L|...) = -122.14\n",
      "Iter 3500: loglik = -120.21, log P(u|...) = -350.82, log P(tau|...) = -286.52, log P(L|...) = -127.52\n",
      "Iter 4000: loglik = -123.51, log P(u|...) = -365.30, log P(tau|...) = -298.12, log P(L|...) = -130.40\n",
      "Iter 4500: loglik = -113.06, log P(u|...) = -350.47, log P(tau|...) = -293.27, log P(L|...) = -120.43\n",
      "Iter 5000: loglik = -77.23, log P(u|...) = -307.71, log P(tau|...) = -286.32, log P(L|...) = -87.23\n",
      "Iter 5500: loglik = -77.68, log P(u|...) = -312.99, log P(tau|...) = -271.96, log P(L|...) = -86.04\n",
      "Iter 6000: loglik = -78.85, log P(u|...) = -334.69, log P(tau|...) = -294.47, log P(L|...) = -89.61\n",
      "Iter 6500: loglik = -88.96, log P(u|...) = -331.15, log P(tau|...) = -283.33, log P(L|...) = -97.21\n",
      "Iter 7000: loglik = -87.52, log P(u|...) = -328.44, log P(tau|...) = -281.74, log P(L|...) = -96.09\n",
      "Iter 7500: loglik = -83.66, log P(u|...) = -308.49, log P(tau|...) = -265.37, log P(L|...) = -92.51\n",
      "Iter 8000: loglik = -87.62, log P(u|...) = -298.74, log P(tau|...) = -251.19, log P(L|...) = -96.94\n",
      "Iter 8500: loglik = -85.85, log P(u|...) = -327.31, log P(tau|...) = -280.80, log P(L|...) = -95.90\n",
      "Iter 9000: loglik = -63.61, log P(u|...) = -304.44, log P(tau|...) = -279.41, log P(L|...) = -78.00\n",
      "Iter 9500: loglik = -60.88, log P(u|...) = -286.95, log P(tau|...) = -264.24, log P(L|...) = -75.68\n",
      "Optimal likelihood: -54.371\n",
      "Iter 0: loglik = -33200.01, log P(u|...) = -15855.23, log P(tau|...) = -229.11, log P(L|...) = -15650.18\n",
      "Iter 500: loglik = -38.51, log P(u|...) = -283.22, log P(tau|...) = -270.89, log P(L|...) = -84.49\n",
      "Iter 1000: loglik = -36.48, log P(u|...) = -267.47, log P(tau|...) = -255.88, log P(L|...) = -85.94\n",
      "Iter 1500: loglik = -34.21, log P(u|...) = -243.34, log P(tau|...) = -240.69, log P(L|...) = -82.72\n",
      "Iter 2000: loglik = -36.40, log P(u|...) = -259.12, log P(tau|...) = -254.32, log P(L|...) = -90.22\n",
      "Iter 2500: loglik = -34.61, log P(u|...) = -249.88, log P(tau|...) = -246.74, log P(L|...) = -85.69\n",
      "Iter 3000: loglik = -29.51, log P(u|...) = -235.68, log P(tau|...) = -237.37, log P(L|...) = -84.64\n",
      "Iter 3500: loglik = -26.88, log P(u|...) = -226.45, log P(tau|...) = -232.20, log P(L|...) = -81.17\n",
      "Iter 4000: loglik = -32.57, log P(u|...) = -239.45, log P(tau|...) = -237.85, log P(L|...) = -86.89\n",
      "Iter 4500: loglik = -31.19, log P(u|...) = -232.81, log P(tau|...) = -232.29, log P(L|...) = -76.19\n",
      "Iter 5000: loglik = -29.49, log P(u|...) = -216.56, log P(tau|...) = -231.25, log P(L|...) = -73.66\n",
      "Iter 5500: loglik = -32.35, log P(u|...) = -236.00, log P(tau|...) = -247.83, log P(L|...) = -72.10\n",
      "Iter 6000: loglik = -30.42, log P(u|...) = -274.14, log P(tau|...) = -282.16, log P(L|...) = -69.57\n",
      "Iter 6500: loglik = -24.38, log P(u|...) = -226.06, log P(tau|...) = -242.20, log P(L|...) = -63.59\n",
      "Iter 7000: loglik = -29.30, log P(u|...) = -240.35, log P(tau|...) = -251.42, log P(L|...) = -68.66\n",
      "Iter 7500: loglik = -29.13, log P(u|...) = -243.82, log P(tau|...) = -254.30, log P(L|...) = -69.94\n",
      "Iter 8000: loglik = -23.21, log P(u|...) = -217.79, log P(tau|...) = -227.55, log P(L|...) = -73.07\n",
      "Iter 8500: loglik = -35.59, log P(u|...) = -230.34, log P(tau|...) = -232.22, log P(L|...) = -80.96\n",
      "Iter 9000: loglik = -28.59, log P(u|...) = -235.36, log P(tau|...) = -246.07, log P(L|...) = -74.47\n",
      "Iter 9500: loglik = -24.50, log P(u|...) = -232.15, log P(tau|...) = -246.86, log P(L|...) = -70.48\n",
      "Optimal likelihood: -20.946\n",
      "Iter 0: loglik = -14165.90, log P(u|...) = -14340.97, log P(tau|...) = -239.26, log P(L|...) = -14122.93\n",
      "Iter 500: loglik = -41.94, log P(u|...) = -258.05, log P(tau|...) = -254.97, log P(L|...) = -85.98\n",
      "Iter 1000: loglik = -33.63, log P(u|...) = -244.19, log P(tau|...) = -240.76, log P(L|...) = -82.68\n",
      "Iter 1500: loglik = -32.63, log P(u|...) = -237.39, log P(tau|...) = -234.48, log P(L|...) = -88.95\n",
      "Iter 2000: loglik = -41.65, log P(u|...) = -258.15, log P(tau|...) = -248.16, log P(L|...) = -100.85\n",
      "Iter 2500: loglik = -27.55, log P(u|...) = -246.32, log P(tau|...) = -250.77, log P(L|...) = -86.41\n",
      "Iter 3000: loglik = -23.30, log P(u|...) = -236.89, log P(tau|...) = -245.29, log P(L|...) = -82.98\n",
      "Iter 3500: loglik = -30.54, log P(u|...) = -235.21, log P(tau|...) = -235.98, log P(L|...) = -84.58\n",
      "Iter 4000: loglik = -25.87, log P(u|...) = -233.00, log P(tau|...) = -238.86, log P(L|...) = -73.96\n",
      "Iter 4500: loglik = -32.15, log P(u|...) = -232.18, log P(tau|...) = -230.51, log P(L|...) = -80.76\n",
      "Iter 5000: loglik = -24.66, log P(u|...) = -246.56, log P(tau|...) = -252.19, log P(L|...) = -72.03\n",
      "Iter 5500: loglik = -30.97, log P(u|...) = -252.43, log P(tau|...) = -252.85, log P(L|...) = -81.97\n",
      "Iter 6000: loglik = -30.37, log P(u|...) = -235.88, log P(tau|...) = -236.78, log P(L|...) = -80.27\n",
      "Iter 6500: loglik = -31.22, log P(u|...) = -225.19, log P(tau|...) = -225.31, log P(L|...) = -81.05\n",
      "Iter 7000: loglik = -27.10, log P(u|...) = -239.82, log P(tau|...) = -244.60, log P(L|...) = -76.65\n",
      "Iter 7500: loglik = -29.41, log P(u|...) = -229.49, log P(tau|...) = -231.42, log P(L|...) = -79.48\n",
      "Iter 8000: loglik = -26.80, log P(u|...) = -247.51, log P(tau|...) = -251.06, log P(L|...) = -72.81\n",
      "Iter 8500: loglik = -28.28, log P(u|...) = -227.75, log P(tau|...) = -229.92, log P(L|...) = -76.83\n",
      "Iter 9000: loglik = -28.10, log P(u|...) = -227.96, log P(tau|...) = -231.43, log P(L|...) = -73.54\n",
      "Iter 9500: loglik = -26.08, log P(u|...) = -217.41, log P(tau|...) = -222.99, log P(L|...) = -71.43\n",
      "Optimal likelihood: -19.611\n",
      "Iter 0: loglik = -35132.67, log P(u|...) = -12985.22, log P(tau|...) = -211.49, log P(L|...) = -12799.71\n",
      "Iter 500: loglik = -98.93, log P(u|...) = -344.57, log P(tau|...) = -268.43, log P(L|...) = -129.58\n",
      "Iter 1000: loglik = -46.01, log P(u|...) = -274.03, log P(tau|...) = -250.97, log P(L|...) = -88.50\n"
     ]
    },
    {
     "name": "stdout",
     "output_type": "stream",
     "text": [
      "Iter 1500: loglik = -44.98, log P(u|...) = -247.69, log P(tau|...) = -235.84, log P(L|...) = -109.06\n",
      "Iter 2000: loglik = -33.00, log P(u|...) = -241.44, log P(tau|...) = -237.46, log P(L|...) = -95.19\n",
      "Iter 2500: loglik = -41.82, log P(u|...) = -253.71, log P(tau|...) = -244.75, log P(L|...) = -77.32\n",
      "Iter 3000: loglik = -32.19, log P(u|...) = -256.33, log P(tau|...) = -257.93, log P(L|...) = -69.55\n",
      "Iter 3500: loglik = -37.75, log P(u|...) = -215.79, log P(tau|...) = -212.05, log P(L|...) = -74.10\n",
      "Iter 4000: loglik = -34.89, log P(u|...) = -244.96, log P(tau|...) = -243.02, log P(L|...) = -77.12\n",
      "Iter 4500: loglik = -29.79, log P(u|...) = -236.56, log P(tau|...) = -240.41, log P(L|...) = -76.74\n",
      "Iter 5000: loglik = -25.07, log P(u|...) = -225.05, log P(tau|...) = -233.50, log P(L|...) = -77.87\n",
      "Iter 5500: loglik = -33.57, log P(u|...) = -248.66, log P(tau|...) = -250.06, log P(L|...) = -72.03\n",
      "Iter 6000: loglik = -34.76, log P(u|...) = -221.46, log P(tau|...) = -220.81, log P(L|...) = -75.61\n",
      "Iter 6500: loglik = -30.87, log P(u|...) = -250.88, log P(tau|...) = -253.19, log P(L|...) = -74.63\n",
      "Iter 7000: loglik = -36.26, log P(u|...) = -236.50, log P(tau|...) = -234.56, log P(L|...) = -74.64\n",
      "Iter 7500: loglik = -33.09, log P(u|...) = -267.19, log P(tau|...) = -267.61, log P(L|...) = -74.51\n",
      "Iter 8000: loglik = -25.14, log P(u|...) = -226.84, log P(tau|...) = -235.30, log P(L|...) = -64.40\n",
      "Iter 8500: loglik = -38.36, log P(u|...) = -242.45, log P(tau|...) = -238.66, log P(L|...) = -74.91\n",
      "Iter 9000: loglik = -31.89, log P(u|...) = -228.17, log P(tau|...) = -235.91, log P(L|...) = -68.07\n",
      "Iter 9500: loglik = -33.65, log P(u|...) = -238.33, log P(tau|...) = -243.80, log P(L|...) = -72.62\n",
      "Optimal likelihood: -19.008\n",
      "Iter 0: loglik = -62235.08, log P(u|...) = -23901.91, log P(tau|...) = -242.06, log P(L|...) = -23688.93\n",
      "Iter 500: loglik = -89.46, log P(u|...) = -313.79, log P(tau|...) = -268.24, log P(L|...) = -117.21\n",
      "Iter 1000: loglik = -42.54, log P(u|...) = -263.67, log P(tau|...) = -269.08, log P(L|...) = -83.37\n",
      "Iter 1500: loglik = -40.55, log P(u|...) = -265.63, log P(tau|...) = -273.32, log P(L|...) = -84.91\n",
      "Iter 2000: loglik = -37.32, log P(u|...) = -260.24, log P(tau|...) = -267.51, log P(L|...) = -82.97\n",
      "Iter 2500: loglik = -32.03, log P(u|...) = -219.65, log P(tau|...) = -232.24, log P(L|...) = -79.49\n",
      "Iter 3000: loglik = -31.08, log P(u|...) = -201.97, log P(tau|...) = -215.75, log P(L|...) = -79.53\n",
      "Iter 3500: loglik = -27.47, log P(u|...) = -197.46, log P(tau|...) = -214.60, log P(L|...) = -77.90\n",
      "Iter 4000: loglik = -27.76, log P(u|...) = -253.05, log P(tau|...) = -269.90, log P(L|...) = -75.40\n",
      "Iter 4500: loglik = -34.05, log P(u|...) = -207.37, log P(tau|...) = -217.68, log P(L|...) = -73.93\n",
      "Iter 5000: loglik = -33.06, log P(u|...) = -252.40, log P(tau|...) = -263.86, log P(L|...) = -73.18\n",
      "Iter 5500: loglik = -37.53, log P(u|...) = -266.84, log P(tau|...) = -273.88, log P(L|...) = -77.86\n",
      "Iter 6000: loglik = -32.08, log P(u|...) = -235.99, log P(tau|...) = -248.23, log P(L|...) = -77.28\n",
      "Iter 6500: loglik = -36.88, log P(u|...) = -262.19, log P(tau|...) = -269.28, log P(L|...) = -80.67\n",
      "Iter 7000: loglik = -30.41, log P(u|...) = -237.40, log P(tau|...) = -250.87, log P(L|...) = -74.29\n",
      "Iter 7500: loglik = -35.60, log P(u|...) = -239.10, log P(tau|...) = -249.60, log P(L|...) = -71.83\n",
      "Iter 8000: loglik = -30.63, log P(u|...) = -237.82, log P(tau|...) = -249.73, log P(L|...) = -70.42\n",
      "Iter 8500: loglik = -29.36, log P(u|...) = -279.29, log P(tau|...) = -294.07, log P(L|...) = -67.55\n",
      "Iter 9000: loglik = -31.73, log P(u|...) = -238.96, log P(tau|...) = -252.44, log P(L|...) = -68.85\n",
      "Iter 9500: loglik = -28.38, log P(u|...) = -208.87, log P(tau|...) = -224.66, log P(L|...) = -62.16\n",
      "Optimal likelihood: -20.385\n",
      "Iter 0: loglik = -15429.08, log P(u|...) = -11287.56, log P(tau|...) = -220.93, log P(L|...) = -11094.46\n",
      "Iter 500: loglik = -51.42, log P(u|...) = -256.00, log P(tau|...) = -237.29, log P(L|...) = -77.02\n",
      "Iter 1000: loglik = -28.19, log P(u|...) = -248.20, log P(tau|...) = -262.66, log P(L|...) = -61.24\n",
      "Iter 1500: loglik = -35.20, log P(u|...) = -238.53, log P(tau|...) = -245.09, log P(L|...) = -67.69\n",
      "Iter 2000: loglik = -30.73, log P(u|...) = -198.60, log P(tau|...) = -210.94, log P(L|...) = -66.70\n",
      "Iter 2500: loglik = -18.44, log P(u|...) = -210.75, log P(tau|...) = -238.50, log P(L|...) = -66.92\n",
      "Iter 3000: loglik = -15.67, log P(u|...) = -212.91, log P(tau|...) = -242.37, log P(L|...) = -66.36\n",
      "Iter 3500: loglik = -21.57, log P(u|...) = -208.38, log P(tau|...) = -231.05, log P(L|...) = -64.41\n",
      "Iter 4000: loglik = -22.27, log P(u|...) = -217.86, log P(tau|...) = -240.22, log P(L|...) = -61.75\n",
      "Iter 4500: loglik = -26.61, log P(u|...) = -227.11, log P(tau|...) = -245.18, log P(L|...) = -62.64\n",
      "Iter 5000: loglik = -22.54, log P(u|...) = -213.82, log P(tau|...) = -235.98, log P(L|...) = -53.32\n",
      "Iter 5500: loglik = -18.02, log P(u|...) = -188.61, log P(tau|...) = -215.38, log P(L|...) = -61.63\n",
      "Iter 6000: loglik = -20.26, log P(u|...) = -225.11, log P(tau|...) = -249.90, log P(L|...) = -58.42\n",
      "Iter 6500: loglik = -21.78, log P(u|...) = -221.28, log P(tau|...) = -232.16, log P(L|...) = -60.71\n",
      "Iter 7000: loglik = -33.79, log P(u|...) = -241.42, log P(tau|...) = -247.18, log P(L|...) = -65.49\n",
      "Iter 7500: loglik = -27.70, log P(u|...) = -228.74, log P(tau|...) = -236.55, log P(L|...) = -60.52\n",
      "Iter 8000: loglik = -21.14, log P(u|...) = -205.44, log P(tau|...) = -220.50, log P(L|...) = -53.47\n",
      "Iter 8500: loglik = -23.07, log P(u|...) = -260.52, log P(tau|...) = -273.62, log P(L|...) = -55.44\n",
      "Iter 9000: loglik = -23.40, log P(u|...) = -214.04, log P(tau|...) = -230.22, log P(L|...) = -58.38\n",
      "Iter 9500: loglik = -25.73, log P(u|...) = -226.50, log P(tau|...) = -249.08, log P(L|...) = -53.04\n",
      "Optimal likelihood: -12.045\n",
      "Iter 0: loglik = -7284.77, log P(u|...) = -7489.28, log P(tau|...) = -232.72, log P(L|...) = -7277.67\n",
      "Iter 500: loglik = -49.13, log P(u|...) = -268.25, log P(tau|...) = -245.66, log P(L|...) = -74.34\n",
      "Iter 1000: loglik = -35.56, log P(u|...) = -238.40, log P(tau|...) = -230.26, log P(L|...) = -72.87\n",
      "Iter 1500: loglik = -28.53, log P(u|...) = -229.85, log P(tau|...) = -234.16, log P(L|...) = -67.71\n",
      "Iter 2000: loglik = -23.06, log P(u|...) = -183.91, log P(tau|...) = -195.19, log P(L|...) = -66.97\n",
      "Iter 2500: loglik = -28.18, log P(u|...) = -214.21, log P(tau|...) = -220.97, log P(L|...) = -64.47\n",
      "Iter 3000: loglik = -16.76, log P(u|...) = -225.00, log P(tau|...) = -242.75, log P(L|...) = -53.02\n",
      "Iter 3500: loglik = -13.62, log P(u|...) = -190.54, log P(tau|...) = -218.21, log P(L|...) = -55.72\n",
      "Iter 4000: loglik = -19.69, log P(u|...) = -219.30, log P(tau|...) = -232.87, log P(L|...) = -59.82\n",
      "Iter 4500: loglik = -22.25, log P(u|...) = -227.92, log P(tau|...) = -238.92, log P(L|...) = -61.24\n",
      "Iter 5000: loglik = -22.79, log P(u|...) = -228.36, log P(tau|...) = -240.45, log P(L|...) = -61.15\n",
      "Iter 5500: loglik = -19.78, log P(u|...) = -228.69, log P(tau|...) = -242.18, log P(L|...) = -60.04\n",
      "Iter 6000: loglik = -18.38, log P(u|...) = -215.42, log P(tau|...) = -230.58, log P(L|...) = -55.11\n",
      "Iter 6500: loglik = -29.74, log P(u|...) = -221.72, log P(tau|...) = -226.28, log P(L|...) = -65.70\n",
      "Iter 7000: loglik = -16.77, log P(u|...) = -233.39, log P(tau|...) = -249.74, log P(L|...) = -53.92\n",
      "Iter 7500: loglik = -26.95, log P(u|...) = -215.94, log P(tau|...) = -226.02, log P(L|...) = -60.48\n",
      "Iter 8000: loglik = -23.01, log P(u|...) = -216.21, log P(tau|...) = -231.83, log P(L|...) = -56.19\n",
      "Iter 8500: loglik = -21.83, log P(u|...) = -214.10, log P(tau|...) = -236.49, log P(L|...) = -57.78\n",
      "Iter 9000: loglik = -22.44, log P(u|...) = -226.30, log P(tau|...) = -247.80, log P(L|...) = -60.18\n",
      "Iter 9500: loglik = -25.13, log P(u|...) = -217.07, log P(tau|...) = -234.89, log P(L|...) = -64.31\n",
      "Optimal likelihood: -12.065\n",
      "Iter 0: loglik = -38787.46, log P(u|...) = -18666.55, log P(tau|...) = -229.82, log P(L|...) = -18472.63\n",
      "Iter 500: loglik = -46.69, log P(u|...) = -260.81, log P(tau|...) = -265.89, log P(L|...) = -63.53\n",
      "Iter 1000: loglik = -34.46, log P(u|...) = -243.05, log P(tau|...) = -260.02, log P(L|...) = -52.67\n",
      "Iter 1500: loglik = -32.09, log P(u|...) = -226.75, log P(tau|...) = -245.71, log P(L|...) = -50.67\n"
     ]
    },
    {
     "name": "stdout",
     "output_type": "stream",
     "text": [
      "Iter 2000: loglik = -38.47, log P(u|...) = -237.13, log P(tau|...) = -240.71, log P(L|...) = -56.23\n",
      "Iter 2500: loglik = -33.39, log P(u|...) = -231.80, log P(tau|...) = -240.95, log P(L|...) = -50.67\n",
      "Iter 3000: loglik = -34.45, log P(u|...) = -224.53, log P(tau|...) = -235.90, log P(L|...) = -52.61\n",
      "Iter 3500: loglik = -31.12, log P(u|...) = -244.24, log P(tau|...) = -258.65, log P(L|...) = -48.96\n",
      "Iter 4000: loglik = -33.86, log P(u|...) = -235.91, log P(tau|...) = -253.25, log P(L|...) = -51.83\n",
      "Iter 4500: loglik = -38.62, log P(u|...) = -225.07, log P(tau|...) = -232.05, log P(L|...) = -55.69\n",
      "Iter 5000: loglik = -21.71, log P(u|...) = -213.70, log P(tau|...) = -234.11, log P(L|...) = -44.04\n",
      "Iter 5500: loglik = -24.42, log P(u|...) = -236.69, log P(tau|...) = -254.00, log P(L|...) = -49.35\n",
      "Iter 6000: loglik = -28.20, log P(u|...) = -236.04, log P(tau|...) = -249.93, log P(L|...) = -50.00\n",
      "Iter 6500: loglik = -28.33, log P(u|...) = -244.22, log P(tau|...) = -257.25, log P(L|...) = -51.15\n",
      "Iter 7000: loglik = -24.30, log P(u|...) = -223.30, log P(tau|...) = -248.10, log P(L|...) = -46.53\n",
      "Iter 7500: loglik = -22.55, log P(u|...) = -209.07, log P(tau|...) = -239.65, log P(L|...) = -45.21\n",
      "Iter 8000: loglik = -34.23, log P(u|...) = -225.42, log P(tau|...) = -243.16, log P(L|...) = -58.06\n",
      "Iter 8500: loglik = -27.80, log P(u|...) = -249.14, log P(tau|...) = -268.21, log P(L|...) = -50.75\n",
      "Iter 9000: loglik = -23.82, log P(u|...) = -219.12, log P(tau|...) = -242.67, log P(L|...) = -49.32\n",
      "Iter 9500: loglik = -30.91, log P(u|...) = -215.89, log P(tau|...) = -223.22, log P(L|...) = -56.08\n",
      "Optimal likelihood: -15.972\n",
      "Iter 0: loglik = -34069.02, log P(u|...) = -12242.99, log P(tau|...) = -197.19, log P(L|...) = -9980.90\n",
      "Iter 500: loglik = -49.95, log P(u|...) = -306.51, log P(tau|...) = -275.06, log P(L|...) = -79.02\n",
      "Iter 1000: loglik = -27.45, log P(u|...) = -260.96, log P(tau|...) = -269.49, log P(L|...) = -62.69\n",
      "Iter 1500: loglik = -25.95, log P(u|...) = -247.97, log P(tau|...) = -257.82, log P(L|...) = -65.75\n",
      "Iter 2000: loglik = -27.64, log P(u|...) = -221.62, log P(tau|...) = -233.26, log P(L|...) = -62.58\n",
      "Iter 2500: loglik = -20.80, log P(u|...) = -197.18, log P(tau|...) = -214.85, log P(L|...) = -56.90\n",
      "Iter 3000: loglik = -20.19, log P(u|...) = -224.78, log P(tau|...) = -242.71, log P(L|...) = -58.98\n",
      "Iter 3500: loglik = -26.50, log P(u|...) = -204.41, log P(tau|...) = -215.53, log P(L|...) = -63.73\n",
      "Iter 4000: loglik = -25.99, log P(u|...) = -233.42, log P(tau|...) = -240.58, log P(L|...) = -62.55\n",
      "Iter 4500: loglik = -20.49, log P(u|...) = -214.97, log P(tau|...) = -225.76, log P(L|...) = -64.42\n",
      "Iter 5000: loglik = -18.67, log P(u|...) = -218.49, log P(tau|...) = -232.58, log P(L|...) = -57.80\n",
      "Iter 5500: loglik = -24.79, log P(u|...) = -223.23, log P(tau|...) = -226.62, log P(L|...) = -59.91\n",
      "Iter 6000: loglik = -20.26, log P(u|...) = -213.20, log P(tau|...) = -221.12, log P(L|...) = -50.61\n",
      "Iter 6500: loglik = -20.68, log P(u|...) = -230.76, log P(tau|...) = -238.64, log P(L|...) = -50.64\n",
      "Iter 7000: loglik = -19.28, log P(u|...) = -228.25, log P(tau|...) = -235.76, log P(L|...) = -49.91\n",
      "Iter 7500: loglik = -22.65, log P(u|...) = -215.01, log P(tau|...) = -219.75, log P(L|...) = -55.08\n",
      "Iter 8000: loglik = -25.18, log P(u|...) = -203.08, log P(tau|...) = -205.01, log P(L|...) = -56.14\n",
      "Iter 8500: loglik = -23.19, log P(u|...) = -217.42, log P(tau|...) = -222.07, log P(L|...) = -55.33\n",
      "Iter 9000: loglik = -20.60, log P(u|...) = -213.14, log P(tau|...) = -220.44, log P(L|...) = -54.71\n",
      "Iter 9500: loglik = -23.52, log P(u|...) = -221.98, log P(tau|...) = -224.83, log P(L|...) = -58.26\n",
      "Optimal likelihood: -13.770\n",
      "Iter 0: loglik = -22364.49, log P(u|...) = -20456.38, log P(tau|...) = -202.24, log P(L|...) = -20276.98\n",
      "Iter 500: loglik = -60.22, log P(u|...) = -295.94, log P(tau|...) = -255.31, log P(L|...) = -75.64\n",
      "Iter 1000: loglik = -50.71, log P(u|...) = -269.59, log P(tau|...) = -250.91, log P(L|...) = -66.64\n",
      "Iter 1500: loglik = -32.78, log P(u|...) = -237.68, log P(tau|...) = -248.09, log P(L|...) = -55.66\n",
      "Iter 2000: loglik = -26.10, log P(u|...) = -233.76, log P(tau|...) = -252.07, log P(L|...) = -56.15\n",
      "Iter 2500: loglik = -20.33, log P(u|...) = -205.02, log P(tau|...) = -229.15, log P(L|...) = -50.33\n",
      "Iter 3000: loglik = -29.35, log P(u|...) = -214.47, log P(tau|...) = -230.73, log P(L|...) = -57.51\n",
      "Iter 3500: loglik = -22.36, log P(u|...) = -212.48, log P(tau|...) = -235.07, log P(L|...) = -51.18\n",
      "Iter 4000: loglik = -23.72, log P(u|...) = -223.77, log P(tau|...) = -245.49, log P(L|...) = -50.52\n",
      "Iter 4500: loglik = -17.80, log P(u|...) = -217.66, log P(tau|...) = -239.67, log P(L|...) = -49.31\n",
      "Iter 5000: loglik = -20.75, log P(u|...) = -194.77, log P(tau|...) = -215.39, log P(L|...) = -50.70\n",
      "Iter 5500: loglik = -23.05, log P(u|...) = -192.54, log P(tau|...) = -208.66, log P(L|...) = -55.21\n",
      "Iter 6000: loglik = -27.92, log P(u|...) = -219.33, log P(tau|...) = -230.91, log P(L|...) = -59.50\n",
      "Iter 6500: loglik = -19.30, log P(u|...) = -200.82, log P(tau|...) = -221.38, log P(L|...) = -51.70\n",
      "Iter 7000: loglik = -26.40, log P(u|...) = -224.16, log P(tau|...) = -236.69, log P(L|...) = -59.82\n",
      "Iter 7500: loglik = -24.03, log P(u|...) = -184.19, log P(tau|...) = -199.73, log P(L|...) = -56.81\n",
      "Iter 8000: loglik = -22.26, log P(u|...) = -206.77, log P(tau|...) = -225.21, log P(L|...) = -53.91\n",
      "Iter 8500: loglik = -22.03, log P(u|...) = -204.35, log P(tau|...) = -219.98, log P(L|...) = -56.17\n",
      "Iter 9000: loglik = -21.23, log P(u|...) = -228.83, log P(tau|...) = -245.67, log P(L|...) = -54.95\n",
      "Iter 9500: loglik = -23.92, log P(u|...) = -198.31, log P(tau|...) = -205.45, log P(L|...) = -59.21\n",
      "Optimal likelihood: -14.690\n",
      "Iter 0: loglik = -7596.52, log P(u|...) = -6330.93, log P(tau|...) = -208.07, log P(L|...) = -6139.81\n",
      "Iter 500: loglik = -103.15, log P(u|...) = -352.61, log P(tau|...) = -268.60, log P(L|...) = -116.18\n",
      "Iter 1000: loglik = -83.11, log P(u|...) = -318.71, log P(tau|...) = -267.13, log P(L|...) = -94.76\n",
      "Iter 1500: loglik = -76.37, log P(u|...) = -323.50, log P(tau|...) = -276.27, log P(L|...) = -90.42\n",
      "Iter 2000: loglik = -56.58, log P(u|...) = -296.99, log P(tau|...) = -270.68, log P(L|...) = -71.46\n",
      "Iter 2500: loglik = -42.76, log P(u|...) = -282.29, log P(tau|...) = -268.52, log P(L|...) = -63.18\n",
      "Iter 3000: loglik = -42.58, log P(u|...) = -247.89, log P(tau|...) = -235.22, log P(L|...) = -62.09\n",
      "Iter 3500: loglik = -46.59, log P(u|...) = -251.28, log P(tau|...) = -240.64, log P(L|...) = -68.96\n",
      "Iter 4000: loglik = -30.01, log P(u|...) = -240.74, log P(tau|...) = -246.71, log P(L|...) = -53.98\n",
      "Iter 4500: loglik = -25.09, log P(u|...) = -235.75, log P(tau|...) = -246.70, log P(L|...) = -53.08\n",
      "Iter 5000: loglik = -38.84, log P(u|...) = -221.03, log P(tau|...) = -218.58, log P(L|...) = -68.49\n",
      "Iter 5500: loglik = -41.41, log P(u|...) = -235.41, log P(tau|...) = -229.74, log P(L|...) = -69.00\n",
      "Iter 6000: loglik = -32.92, log P(u|...) = -253.17, log P(tau|...) = -256.44, log P(L|...) = -60.50\n",
      "Iter 6500: loglik = -35.19, log P(u|...) = -230.98, log P(tau|...) = -241.65, log P(L|...) = -63.21\n",
      "Iter 7000: loglik = -34.42, log P(u|...) = -252.37, log P(tau|...) = -263.88, log P(L|...) = -66.24\n",
      "Iter 7500: loglik = -33.61, log P(u|...) = -226.81, log P(tau|...) = -248.50, log P(L|...) = -66.53\n",
      "Iter 8000: loglik = -22.26, log P(u|...) = -226.14, log P(tau|...) = -260.23, log P(L|...) = -55.86\n",
      "Iter 8500: loglik = -20.26, log P(u|...) = -229.16, log P(tau|...) = -268.04, log P(L|...) = -53.61\n",
      "Iter 9000: loglik = -23.88, log P(u|...) = -220.12, log P(tau|...) = -253.33, log P(L|...) = -54.96\n",
      "Iter 9500: loglik = -21.67, log P(u|...) = -234.40, log P(tau|...) = -269.89, log P(L|...) = -55.29\n",
      "Optimal likelihood: -17.740\n",
      "Iter 0: loglik = -115835.85, log P(u|...) = -33920.99, log P(tau|...) = -202.88, log P(L|...) = -33736.20\n",
      "Iter 500: loglik = -195.46, log P(u|...) = -424.04, log P(tau|...) = -257.01, log P(L|...) = -207.34\n",
      "Iter 1000: loglik = -108.01, log P(u|...) = -357.78, log P(tau|...) = -293.36, log P(L|...) = -121.69\n",
      "Iter 1500: loglik = -68.12, log P(u|...) = -321.92, log P(tau|...) = -306.57, log P(L|...) = -87.94\n",
      "Iter 2000: loglik = -43.90, log P(u|...) = -264.32, log P(tau|...) = -273.13, log P(L|...) = -69.64\n"
     ]
    },
    {
     "name": "stdout",
     "output_type": "stream",
     "text": [
      "Iter 2500: loglik = -34.08, log P(u|...) = -227.89, log P(tau|...) = -247.72, log P(L|...) = -62.80\n",
      "Iter 3000: loglik = -26.49, log P(u|...) = -215.09, log P(tau|...) = -240.66, log P(L|...) = -63.32\n",
      "Iter 3500: loglik = -29.22, log P(u|...) = -206.45, log P(tau|...) = -221.68, log P(L|...) = -65.32\n",
      "Iter 4000: loglik = -28.80, log P(u|...) = -235.62, log P(tau|...) = -251.37, log P(L|...) = -66.36\n",
      "Iter 4500: loglik = -15.49, log P(u|...) = -217.27, log P(tau|...) = -245.53, log P(L|...) = -61.16\n",
      "Iter 5000: loglik = -16.56, log P(u|...) = -222.35, log P(tau|...) = -249.66, log P(L|...) = -64.43\n",
      "Iter 5500: loglik = -21.06, log P(u|...) = -202.88, log P(tau|...) = -225.15, log P(L|...) = -67.79\n",
      "Iter 6000: loglik = -21.83, log P(u|...) = -203.59, log P(tau|...) = -224.44, log P(L|...) = -68.49\n",
      "Iter 6500: loglik = -27.07, log P(u|...) = -211.05, log P(tau|...) = -219.92, log P(L|...) = -73.39\n",
      "Iter 7000: loglik = -18.28, log P(u|...) = -227.04, log P(tau|...) = -244.13, log P(L|...) = -64.82\n",
      "Iter 7500: loglik = -20.52, log P(u|...) = -214.56, log P(tau|...) = -230.02, log P(L|...) = -64.28\n",
      "Iter 8000: loglik = -22.12, log P(u|...) = -198.37, log P(tau|...) = -217.87, log P(L|...) = -67.07\n",
      "Iter 8500: loglik = -25.27, log P(u|...) = -209.30, log P(tau|...) = -226.40, log P(L|...) = -71.31\n",
      "Iter 9000: loglik = -27.06, log P(u|...) = -211.96, log P(tau|...) = -227.51, log P(L|...) = -65.87\n",
      "Iter 9500: loglik = -18.43, log P(u|...) = -225.23, log P(tau|...) = -247.71, log P(L|...) = -61.97\n",
      "Optimal likelihood: -13.094\n",
      "Iter 0: loglik = -62662.41, log P(u|...) = -20087.86, log P(tau|...) = -264.33, log P(L|...) = -10871.48\n",
      "Iter 500: loglik = -96.34, log P(u|...) = -345.41, log P(tau|...) = -276.03, log P(L|...) = -106.77\n",
      "Iter 1000: loglik = -49.82, log P(u|...) = -310.15, log P(tau|...) = -287.66, log P(L|...) = -67.20\n",
      "Iter 1500: loglik = -34.72, log P(u|...) = -268.70, log P(tau|...) = -260.92, log P(L|...) = -58.68\n",
      "Iter 2000: loglik = -34.74, log P(u|...) = -246.06, log P(tau|...) = -236.10, log P(L|...) = -65.92\n",
      "Iter 2500: loglik = -23.83, log P(u|...) = -218.75, log P(tau|...) = -224.34, log P(L|...) = -61.72\n",
      "Iter 3000: loglik = -23.63, log P(u|...) = -205.86, log P(tau|...) = -211.65, log P(L|...) = -63.33\n",
      "Iter 3500: loglik = -23.27, log P(u|...) = -209.59, log P(tau|...) = -215.93, log P(L|...) = -67.39\n",
      "Iter 4000: loglik = -22.35, log P(u|...) = -205.68, log P(tau|...) = -213.72, log P(L|...) = -69.93\n",
      "Iter 4500: loglik = -18.85, log P(u|...) = -225.12, log P(tau|...) = -234.80, log P(L|...) = -76.91\n",
      "Iter 5000: loglik = -29.05, log P(u|...) = -235.97, log P(tau|...) = -236.63, log P(L|...) = -77.54\n",
      "Iter 5500: loglik = -28.85, log P(u|...) = -205.57, log P(tau|...) = -205.24, log P(L|...) = -77.02\n",
      "Iter 6000: loglik = -27.66, log P(u|...) = -214.17, log P(tau|...) = -215.74, log P(L|...) = -75.84\n",
      "Iter 6500: loglik = -12.74, log P(u|...) = -259.06, log P(tau|...) = -281.15, log P(L|...) = -57.46\n",
      "Iter 7000: loglik = -26.38, log P(u|...) = -210.39, log P(tau|...) = -224.20, log P(L|...) = -71.82\n",
      "Iter 7500: loglik = -21.33, log P(u|...) = -230.40, log P(tau|...) = -251.63, log P(L|...) = -66.80\n",
      "Iter 8000: loglik = -23.19, log P(u|...) = -241.14, log P(tau|...) = -260.53, log P(L|...) = -68.22\n",
      "Iter 8500: loglik = -21.78, log P(u|...) = -225.19, log P(tau|...) = -245.83, log P(L|...) = -64.59\n",
      "Iter 9000: loglik = -22.62, log P(u|...) = -219.06, log P(tau|...) = -237.54, log P(L|...) = -65.30\n",
      "Iter 9500: loglik = -25.11, log P(u|...) = -238.06, log P(tau|...) = -255.51, log P(L|...) = -66.93\n",
      "Optimal likelihood: -11.907\n",
      "Iter 0: loglik = -10077.15, log P(u|...) = -10000.47, log P(tau|...) = -222.30, log P(L|...) = -9804.30\n",
      "Iter 500: loglik = -45.09, log P(u|...) = -267.33, log P(tau|...) = -246.27, log P(L|...) = -75.62\n",
      "Iter 1000: loglik = -34.03, log P(u|...) = -246.94, log P(tau|...) = -257.39, log P(L|...) = -70.60\n",
      "Iter 1500: loglik = -27.74, log P(u|...) = -231.83, log P(tau|...) = -248.51, log P(L|...) = -68.37\n",
      "Iter 2000: loglik = -27.01, log P(u|...) = -230.52, log P(tau|...) = -246.51, log P(L|...) = -65.21\n",
      "Iter 2500: loglik = -35.58, log P(u|...) = -240.15, log P(tau|...) = -247.33, log P(L|...) = -70.61\n",
      "Iter 3000: loglik = -27.80, log P(u|...) = -223.87, log P(tau|...) = -248.14, log P(L|...) = -67.06\n",
      "Iter 3500: loglik = -24.05, log P(u|...) = -231.20, log P(tau|...) = -253.79, log P(L|...) = -68.68\n",
      "Iter 4000: loglik = -23.18, log P(u|...) = -216.22, log P(tau|...) = -241.86, log P(L|...) = -67.16\n",
      "Iter 4500: loglik = -25.42, log P(u|...) = -235.19, log P(tau|...) = -254.27, log P(L|...) = -68.33\n",
      "Iter 5000: loglik = -27.46, log P(u|...) = -218.68, log P(tau|...) = -235.31, log P(L|...) = -70.82\n",
      "Iter 5500: loglik = -24.36, log P(u|...) = -217.04, log P(tau|...) = -236.08, log P(L|...) = -68.41\n",
      "Iter 6000: loglik = -22.65, log P(u|...) = -217.25, log P(tau|...) = -238.02, log P(L|...) = -66.68\n",
      "Iter 6500: loglik = -24.27, log P(u|...) = -207.82, log P(tau|...) = -226.53, log P(L|...) = -66.78\n",
      "Iter 7000: loglik = -26.06, log P(u|...) = -217.43, log P(tau|...) = -231.39, log P(L|...) = -65.54\n",
      "Iter 7500: loglik = -28.22, log P(u|...) = -218.36, log P(tau|...) = -230.33, log P(L|...) = -67.54\n",
      "Iter 8000: loglik = -26.04, log P(u|...) = -244.53, log P(tau|...) = -257.96, log P(L|...) = -66.21\n",
      "Iter 8500: loglik = -26.24, log P(u|...) = -220.32, log P(tau|...) = -233.96, log P(L|...) = -65.19\n",
      "Iter 9000: loglik = -32.53, log P(u|...) = -225.53, log P(tau|...) = -232.96, log P(L|...) = -71.39\n",
      "Iter 9500: loglik = -25.94, log P(u|...) = -235.26, log P(tau|...) = -249.85, log P(L|...) = -61.46\n",
      "Optimal likelihood: -15.105\n",
      "Iter 0: loglik = -15663.46, log P(u|...) = -11885.50, log P(tau|...) = -234.84, log P(L|...) = -11671.16\n",
      "Iter 500: loglik = -29.44, log P(u|...) = -239.37, log P(tau|...) = -228.49, log P(L|...) = -68.92\n",
      "Iter 1000: loglik = -28.49, log P(u|...) = -249.22, log P(tau|...) = -253.18, log P(L|...) = -69.25\n",
      "Iter 1500: loglik = -31.91, log P(u|...) = -254.33, log P(tau|...) = -254.85, log P(L|...) = -64.16\n",
      "Iter 2000: loglik = -24.85, log P(u|...) = -268.84, log P(tau|...) = -275.58, log P(L|...) = -59.30\n",
      "Iter 2500: loglik = -25.81, log P(u|...) = -228.05, log P(tau|...) = -243.13, log P(L|...) = -61.16\n",
      "Iter 3000: loglik = -23.39, log P(u|...) = -225.20, log P(tau|...) = -242.94, log P(L|...) = -59.93\n",
      "Iter 3500: loglik = -27.68, log P(u|...) = -226.10, log P(tau|...) = -239.02, log P(L|...) = -58.59\n",
      "Iter 4000: loglik = -24.69, log P(u|...) = -218.67, log P(tau|...) = -234.61, log P(L|...) = -55.52\n",
      "Iter 4500: loglik = -27.78, log P(u|...) = -213.28, log P(tau|...) = -226.37, log P(L|...) = -58.37\n",
      "Iter 5000: loglik = -22.78, log P(u|...) = -225.82, log P(tau|...) = -241.84, log P(L|...) = -54.06\n",
      "Iter 5500: loglik = -19.35, log P(u|...) = -195.81, log P(tau|...) = -219.48, log P(L|...) = -54.09\n",
      "Iter 6000: loglik = -21.09, log P(u|...) = -221.92, log P(tau|...) = -243.90, log P(L|...) = -56.34\n",
      "Iter 6500: loglik = -24.13, log P(u|...) = -239.71, log P(tau|...) = -258.94, log P(L|...) = -50.84\n",
      "Iter 7000: loglik = -18.58, log P(u|...) = -207.91, log P(tau|...) = -237.35, log P(L|...) = -49.88\n",
      "Iter 7500: loglik = -20.68, log P(u|...) = -221.01, log P(tau|...) = -245.88, log P(L|...) = -51.57\n",
      "Iter 8000: loglik = -28.43, log P(u|...) = -221.31, log P(tau|...) = -239.94, log P(L|...) = -59.84\n",
      "Iter 8500: loglik = -22.03, log P(u|...) = -216.22, log P(tau|...) = -237.88, log P(L|...) = -59.43\n",
      "Iter 9000: loglik = -30.88, log P(u|...) = -245.60, log P(tau|...) = -261.67, log P(L|...) = -62.82\n",
      "Iter 9500: loglik = -30.53, log P(u|...) = -240.20, log P(tau|...) = -256.13, log P(L|...) = -63.14\n",
      "Optimal likelihood: -12.163\n",
      "Iter 0: loglik = -16859.65, log P(u|...) = -12954.14, log P(tau|...) = -216.49, log P(L|...) = -12762.09\n",
      "Iter 500: loglik = -59.92, log P(u|...) = -281.73, log P(tau|...) = -242.12, log P(L|...) = -85.86\n",
      "Iter 1000: loglik = -58.11, log P(u|...) = -273.36, log P(tau|...) = -254.85, log P(L|...) = -87.72\n",
      "Iter 1500: loglik = -43.28, log P(u|...) = -269.37, log P(tau|...) = -270.94, log P(L|...) = -73.60\n",
      "Iter 2000: loglik = -39.86, log P(u|...) = -250.99, log P(tau|...) = -269.91, log P(L|...) = -71.08\n",
      "Iter 2500: loglik = -39.06, log P(u|...) = -239.29, log P(tau|...) = -272.49, log P(L|...) = -69.31\n"
     ]
    },
    {
     "name": "stdout",
     "output_type": "stream",
     "text": [
      "Iter 3000: loglik = -35.36, log P(u|...) = -224.49, log P(tau|...) = -242.86, log P(L|...) = -67.28\n",
      "Iter 3500: loglik = -39.07, log P(u|...) = -230.17, log P(tau|...) = -245.01, log P(L|...) = -70.82\n",
      "Iter 4000: loglik = -37.13, log P(u|...) = -246.90, log P(tau|...) = -249.66, log P(L|...) = -68.96\n",
      "Iter 4500: loglik = -42.80, log P(u|...) = -271.89, log P(tau|...) = -268.95, log P(L|...) = -74.66\n",
      "Iter 5000: loglik = -39.35, log P(u|...) = -236.59, log P(tau|...) = -237.06, log P(L|...) = -71.24\n",
      "Iter 5500: loglik = -43.31, log P(u|...) = -242.32, log P(tau|...) = -239.67, log P(L|...) = -76.62\n",
      "Iter 6000: loglik = -32.11, log P(u|...) = -261.42, log P(tau|...) = -269.12, log P(L|...) = -66.27\n",
      "Iter 6500: loglik = -39.26, log P(u|...) = -261.99, log P(tau|...) = -262.69, log P(L|...) = -73.27\n",
      "Iter 7000: loglik = -36.85, log P(u|...) = -247.14, log P(tau|...) = -250.36, log P(L|...) = -70.75\n",
      "Iter 7500: loglik = -33.33, log P(u|...) = -249.37, log P(tau|...) = -255.92, log P(L|...) = -67.42\n",
      "Iter 8000: loglik = -32.66, log P(u|...) = -236.39, log P(tau|...) = -250.65, log P(L|...) = -64.02\n",
      "Iter 8500: loglik = -42.09, log P(u|...) = -249.09, log P(tau|...) = -251.25, log P(L|...) = -76.13\n",
      "Iter 9000: loglik = -32.83, log P(u|...) = -223.73, log P(tau|...) = -234.36, log P(L|...) = -67.65\n",
      "Iter 9500: loglik = -39.33, log P(u|...) = -264.37, log P(tau|...) = -269.14, log P(L|...) = -73.52\n",
      "Optimal likelihood: -25.854\n",
      "Iter 0: loglik = -43873.04, log P(u|...) = -41424.72, log P(tau|...) = -201.23, log P(L|...) = -41241.82\n",
      "Iter 500: loglik = -173.25, log P(u|...) = -410.19, log P(tau|...) = -251.49, log P(L|...) = -189.05\n",
      "Iter 1000: loglik = -119.38, log P(u|...) = -398.48, log P(tau|...) = -294.41, log P(L|...) = -134.42\n",
      "Iter 1500: loglik = -92.25, log P(u|...) = -353.29, log P(tau|...) = -290.42, log P(L|...) = -114.90\n",
      "Iter 2000: loglik = -70.38, log P(u|...) = -324.58, log P(tau|...) = -294.72, log P(L|...) = -92.99\n",
      "Iter 2500: loglik = -67.03, log P(u|...) = -313.20, log P(tau|...) = -286.64, log P(L|...) = -91.89\n",
      "Iter 3000: loglik = -70.54, log P(u|...) = -312.25, log P(tau|...) = -284.24, log P(L|...) = -95.10\n",
      "Iter 3500: loglik = -68.99, log P(u|...) = -312.14, log P(tau|...) = -289.72, log P(L|...) = -93.84\n",
      "Iter 4000: loglik = -54.31, log P(u|...) = -284.18, log P(tau|...) = -275.93, log P(L|...) = -81.06\n",
      "Iter 4500: loglik = -40.67, log P(u|...) = -242.72, log P(tau|...) = -247.86, log P(L|...) = -73.16\n",
      "Iter 5000: loglik = -43.35, log P(u|...) = -253.36, log P(tau|...) = -256.70, log P(L|...) = -77.12\n",
      "Iter 5500: loglik = -38.75, log P(u|...) = -262.39, log P(tau|...) = -268.77, log P(L|...) = -72.34\n",
      "Iter 6000: loglik = -40.23, log P(u|...) = -254.56, log P(tau|...) = -259.40, log P(L|...) = -73.88\n",
      "Iter 6500: loglik = -35.54, log P(u|...) = -253.49, log P(tau|...) = -268.64, log P(L|...) = -70.15\n",
      "Iter 7000: loglik = -27.08, log P(u|...) = -226.16, log P(tau|...) = -250.44, log P(L|...) = -67.31\n",
      "Iter 7500: loglik = -29.87, log P(u|...) = -229.69, log P(tau|...) = -237.20, log P(L|...) = -70.61\n",
      "Iter 8000: loglik = -26.93, log P(u|...) = -222.77, log P(tau|...) = -233.64, log P(L|...) = -66.58\n",
      "Iter 8500: loglik = -34.03, log P(u|...) = -239.30, log P(tau|...) = -242.52, log P(L|...) = -74.23\n",
      "Iter 9000: loglik = -24.63, log P(u|...) = -244.96, log P(tau|...) = -259.51, log P(L|...) = -62.90\n",
      "Iter 9500: loglik = -36.41, log P(u|...) = -228.09, log P(tau|...) = -229.81, log P(L|...) = -75.74\n",
      "Optimal likelihood: -23.143\n",
      "Iter 0: loglik = -87341.90, log P(u|...) = -66976.41, log P(tau|...) = -230.56, log P(L|...) = -66781.04\n",
      "Iter 500: loglik = -68.52, log P(u|...) = -313.18, log P(tau|...) = -273.55, log P(L|...) = -122.52\n",
      "Iter 1000: loglik = -55.77, log P(u|...) = -287.28, log P(tau|...) = -255.86, log P(L|...) = -107.74\n",
      "Iter 1500: loglik = -54.66, log P(u|...) = -296.18, log P(tau|...) = -266.29, log P(L|...) = -105.11\n",
      "Iter 2000: loglik = -43.38, log P(u|...) = -258.47, log P(tau|...) = -241.18, log P(L|...) = -95.66\n",
      "Iter 2500: loglik = -46.16, log P(u|...) = -256.65, log P(tau|...) = -236.15, log P(L|...) = -97.33\n",
      "Iter 3000: loglik = -35.06, log P(u|...) = -249.33, log P(tau|...) = -240.05, log P(L|...) = -86.05\n",
      "Iter 3500: loglik = -35.99, log P(u|...) = -258.17, log P(tau|...) = -247.43, log P(L|...) = -86.01\n",
      "Iter 4000: loglik = -39.89, log P(u|...) = -267.51, log P(tau|...) = -264.50, log P(L|...) = -80.55\n",
      "Iter 4500: loglik = -33.72, log P(u|...) = -271.46, log P(tau|...) = -272.86, log P(L|...) = -80.82\n",
      "Iter 5000: loglik = -29.25, log P(u|...) = -230.68, log P(tau|...) = -255.32, log P(L|...) = -76.26\n",
      "Iter 5500: loglik = -34.83, log P(u|...) = -213.48, log P(tau|...) = -230.74, log P(L|...) = -81.78\n",
      "Iter 6000: loglik = -29.84, log P(u|...) = -220.97, log P(tau|...) = -243.24, log P(L|...) = -76.46\n",
      "Iter 6500: loglik = -28.24, log P(u|...) = -235.92, log P(tau|...) = -255.55, log P(L|...) = -79.72\n",
      "Iter 7000: loglik = -30.97, log P(u|...) = -226.43, log P(tau|...) = -243.10, log P(L|...) = -82.68\n",
      "Iter 7500: loglik = -31.36, log P(u|...) = -229.73, log P(tau|...) = -245.99, log P(L|...) = -86.99\n",
      "Iter 8000: loglik = -35.81, log P(u|...) = -230.00, log P(tau|...) = -236.00, log P(L|...) = -86.20\n",
      "Iter 8500: loglik = -37.40, log P(u|...) = -232.93, log P(tau|...) = -237.06, log P(L|...) = -88.48\n",
      "Iter 9000: loglik = -33.47, log P(u|...) = -222.00, log P(tau|...) = -233.57, log P(L|...) = -83.86\n",
      "Iter 9500: loglik = -25.07, log P(u|...) = -223.48, log P(tau|...) = -243.70, log P(L|...) = -75.96\n",
      "Optimal likelihood: -21.935\n",
      "Iter 0: loglik = -63823.69, log P(u|...) = -63856.25, log P(tau|...) = -217.72, log P(L|...) = -58662.13\n",
      "Iter 500: loglik = -84.95, log P(u|...) = -315.63, log P(tau|...) = -253.03, log P(L|...) = -111.91\n",
      "Iter 1000: loglik = -75.13, log P(u|...) = -317.17, log P(tau|...) = -269.68, log P(L|...) = -102.93\n",
      "Iter 1500: loglik = -61.63, log P(u|...) = -274.82, log P(tau|...) = -242.08, log P(L|...) = -89.06\n",
      "Iter 2000: loglik = -54.26, log P(u|...) = -291.02, log P(tau|...) = -263.30, log P(L|...) = -84.04\n",
      "Iter 2500: loglik = -52.85, log P(u|...) = -316.17, log P(tau|...) = -291.48, log P(L|...) = -80.78\n",
      "Iter 3000: loglik = -42.71, log P(u|...) = -243.32, log P(tau|...) = -245.01, log P(L|...) = -71.27\n",
      "Iter 3500: loglik = -42.52, log P(u|...) = -257.30, log P(tau|...) = -259.13, log P(L|...) = -78.77\n",
      "Iter 4000: loglik = -32.99, log P(u|...) = -256.10, log P(tau|...) = -267.62, log P(L|...) = -69.52\n",
      "Iter 4500: loglik = -35.24, log P(u|...) = -245.08, log P(tau|...) = -254.18, log P(L|...) = -73.34\n",
      "Iter 5000: loglik = -39.19, log P(u|...) = -269.67, log P(tau|...) = -274.88, log P(L|...) = -75.85\n",
      "Iter 5500: loglik = -31.15, log P(u|...) = -247.30, log P(tau|...) = -261.14, log P(L|...) = -80.56\n",
      "Iter 6000: loglik = -29.87, log P(u|...) = -258.80, log P(tau|...) = -268.42, log P(L|...) = -76.74\n",
      "Iter 6500: loglik = -33.49, log P(u|...) = -207.88, log P(tau|...) = -222.46, log P(L|...) = -75.01\n",
      "Iter 7000: loglik = -28.72, log P(u|...) = -227.64, log P(tau|...) = -247.09, log P(L|...) = -70.77\n",
      "Iter 7500: loglik = -32.19, log P(u|...) = -223.41, log P(tau|...) = -237.39, log P(L|...) = -76.24\n",
      "Iter 8000: loglik = -36.68, log P(u|...) = -245.19, log P(tau|...) = -250.66, log P(L|...) = -77.33\n",
      "Iter 8500: loglik = -34.28, log P(u|...) = -227.59, log P(tau|...) = -235.22, log P(L|...) = -75.17\n",
      "Iter 9000: loglik = -33.84, log P(u|...) = -269.23, log P(tau|...) = -277.50, log P(L|...) = -74.52\n",
      "Iter 9500: loglik = -39.49, log P(u|...) = -225.71, log P(tau|...) = -227.52, log P(L|...) = -79.06\n",
      "Optimal likelihood: -22.948\n",
      "Iter 0: loglik = -1590629.27, log P(u|...) = -20782.28, log P(tau|...) = -229.10, log P(L|...) = -20573.47\n",
      "Iter 500: loglik = -110.24, log P(u|...) = -331.12, log P(tau|...) = -243.72, log P(L|...) = -130.59\n",
      "Iter 1000: loglik = -81.86, log P(u|...) = -304.38, log P(tau|...) = -241.12, log P(L|...) = -107.18\n",
      "Iter 1500: loglik = -47.80, log P(u|...) = -263.95, log P(tau|...) = -252.31, log P(L|...) = -78.98\n",
      "Iter 2000: loglik = -42.21, log P(u|...) = -253.41, log P(tau|...) = -247.62, log P(L|...) = -73.14\n",
      "Iter 2500: loglik = -52.86, log P(u|...) = -283.68, log P(tau|...) = -264.56, log P(L|...) = -88.05\n",
      "Iter 3000: loglik = -42.35, log P(u|...) = -260.77, log P(tau|...) = -249.84, log P(L|...) = -77.40\n"
     ]
    },
    {
     "name": "stdout",
     "output_type": "stream",
     "text": [
      "Iter 3500: loglik = -43.29, log P(u|...) = -262.72, log P(tau|...) = -250.90, log P(L|...) = -78.29\n",
      "Iter 4000: loglik = -43.07, log P(u|...) = -263.15, log P(tau|...) = -253.54, log P(L|...) = -76.08\n",
      "Iter 4500: loglik = -39.47, log P(u|...) = -249.77, log P(tau|...) = -242.00, log P(L|...) = -77.00\n",
      "Iter 5000: loglik = -23.91, log P(u|...) = -230.45, log P(tau|...) = -241.50, log P(L|...) = -66.93\n",
      "Iter 5500: loglik = -34.15, log P(u|...) = -245.88, log P(tau|...) = -246.13, log P(L|...) = -84.97\n",
      "Iter 6000: loglik = -35.38, log P(u|...) = -250.46, log P(tau|...) = -255.74, log P(L|...) = -72.17\n",
      "Iter 6500: loglik = -31.14, log P(u|...) = -231.59, log P(tau|...) = -241.82, log P(L|...) = -68.98\n",
      "Iter 7000: loglik = -33.18, log P(u|...) = -256.22, log P(tau|...) = -262.93, log P(L|...) = -68.02\n",
      "Iter 7500: loglik = -29.60, log P(u|...) = -231.25, log P(tau|...) = -241.76, log P(L|...) = -64.21\n",
      "Iter 8000: loglik = -37.60, log P(u|...) = -232.20, log P(tau|...) = -235.12, log P(L|...) = -70.93\n",
      "Iter 8500: loglik = -36.22, log P(u|...) = -251.26, log P(tau|...) = -250.43, log P(L|...) = -74.67\n",
      "Iter 9000: loglik = -30.75, log P(u|...) = -229.03, log P(tau|...) = -238.11, log P(L|...) = -68.94\n",
      "Iter 9500: loglik = -31.33, log P(u|...) = -222.94, log P(tau|...) = -232.64, log P(L|...) = -68.32\n",
      "Optimal likelihood: -18.971\n",
      "Iter 0: loglik = -100189.34, log P(u|...) = -68681.34, log P(tau|...) = -199.04, log P(L|...) = -51977.98\n",
      "Iter 500: loglik = -114.19, log P(u|...) = -357.20, log P(tau|...) = -262.94, log P(L|...) = -128.65\n",
      "Iter 1000: loglik = -82.88, log P(u|...) = -334.65, log P(tau|...) = -292.84, log P(L|...) = -98.18\n",
      "Iter 1500: loglik = -70.47, log P(u|...) = -297.09, log P(tau|...) = -282.62, log P(L|...) = -85.68\n",
      "Iter 2000: loglik = -66.68, log P(u|...) = -293.29, log P(tau|...) = -282.44, log P(L|...) = -82.05\n",
      "Iter 2500: loglik = -71.71, log P(u|...) = -288.20, log P(tau|...) = -267.31, log P(L|...) = -86.09\n",
      "Iter 3000: loglik = -74.49, log P(u|...) = -274.85, log P(tau|...) = -255.19, log P(L|...) = -89.42\n",
      "Iter 3500: loglik = -63.65, log P(u|...) = -276.60, log P(tau|...) = -267.00, log P(L|...) = -81.68\n",
      "Iter 4000: loglik = -58.43, log P(u|...) = -277.36, log P(tau|...) = -272.36, log P(L|...) = -78.79\n",
      "Iter 4500: loglik = -63.20, log P(u|...) = -308.83, log P(tau|...) = -285.30, log P(L|...) = -82.64\n",
      "Iter 5000: loglik = -65.47, log P(u|...) = -295.46, log P(tau|...) = -271.00, log P(L|...) = -87.38\n",
      "Iter 5500: loglik = -62.96, log P(u|...) = -272.87, log P(tau|...) = -253.11, log P(L|...) = -82.92\n",
      "Iter 6000: loglik = -62.85, log P(u|...) = -280.93, log P(tau|...) = -261.38, log P(L|...) = -82.72\n",
      "Iter 6500: loglik = -53.36, log P(u|...) = -278.73, log P(tau|...) = -267.27, log P(L|...) = -74.73\n",
      "Iter 7000: loglik = -52.69, log P(u|...) = -254.01, log P(tau|...) = -243.27, log P(L|...) = -74.01\n",
      "Iter 7500: loglik = -39.56, log P(u|...) = -232.31, log P(tau|...) = -234.39, log P(L|...) = -64.17\n",
      "Iter 8000: loglik = -46.06, log P(u|...) = -250.48, log P(tau|...) = -245.97, log P(L|...) = -70.75\n",
      "Iter 8500: loglik = -43.72, log P(u|...) = -279.36, log P(tau|...) = -277.15, log P(L|...) = -68.46\n",
      "Iter 9000: loglik = -44.36, log P(u|...) = -255.82, log P(tau|...) = -253.41, log P(L|...) = -73.32\n",
      "Iter 9500: loglik = -43.99, log P(u|...) = -239.32, log P(tau|...) = -237.07, log P(L|...) = -75.51\n",
      "Optimal likelihood: -29.974\n"
     ]
    }
   ],
   "source": [
    "v = 30\n",
    "w = 10\n",
    "start = 2*365\n",
    "D, T = all_training_data.shape\n",
    "\n",
    "sig_predictions = []\n",
    "for i in range(start, start + v):\n",
    "    j = i + w - 1\n",
    "    train = all_training_data[:, i:(i + w)]\n",
    "    vr = np.var(train)\n",
    "    train = train / np.std(train)\n",
    "    gwp = GWP(0.95, se, 0.0, 1.0, 1.0)\n",
    "    gwp.fit(train, numit=10_000, progress=500)\n",
    "    \n",
    "    sig_predictions.append(gwp.predict_next_timepoint(train, burnin=1_000) * vr)"
   ]
  },
  {
   "cell_type": "markdown",
   "metadata": {},
   "source": [
    "Because we're using the MAP (maximum _a posteriori_) estimate, we sometimes get odd behaviour. If we had the computing power, we'd run this for many more iterations (say, at least 25k instead of 7.5k) and don't use windowing at all but rather something like a periodic\\*quadratic kernel to account for time-dependent variation, and use the full modeling time period (2+ years). In practice, this odd behaviour results in predictions of $\\Sigma$ that are singular. Depending on your luck when running this notebook, you may experience this. The code in section 4.3 accounts for this so there should be no errors, however, understand that this is less than ideal.\n",
    "\n",
    "__Note:__ It could have been avoided by checking the positive definite-ness of the matrix manually in the Gibbs sampling routine and using some tricks to keep away from local minima. I forgot to do this, and the model takes too long to run on my computer to re-do it at this point."
   ]
  },
  {
   "cell_type": "markdown",
   "metadata": {},
   "source": [
    "## ARIMA"
   ]
  },
  {
   "cell_type": "markdown",
   "metadata": {},
   "source": [
    "In order to fulfill our goal of a fully automatic portfolio choice algorithm, we also need to somehow predict $\\mathbf{r}(t)$. We'll use a basic ARI ($\\text{ARIMA}(w, 1, 0)$) model to do so.\n",
    "\n",
    "There's an existing implementation in the `statsmodels` package. We'll use that rather than implementing our own. Generally, we'd expect our model to perform better the more data it has (unless there's some significant change to the latent variables which determine the return over time - which is entirely possible), and because it's a simple linear regression we're not constrained by computing power or time. So we'll give it 2 years of historical data, in addition to the data we give to the GWP model."
   ]
  },
  {
   "cell_type": "markdown",
   "metadata": {},
   "source": [
    "We'll now fit the model in much the same way we fit the GWP model. Normally we'd use something like an autocorrelation plot to choose the parameters $p$, $d$, and $q$ of the ARIMA model, but here I just opted to use the same window size as we did for the GWP and and a differencing of order 1 as this seemed to perform well empirically and my primary focus was the GWP model."
   ]
  },
  {
   "cell_type": "code",
   "execution_count": 88,
   "metadata": {},
   "outputs": [],
   "source": [
    "from statsmodels.tsa.arima_model import ARIMA"
   ]
  },
  {
   "cell_type": "code",
   "execution_count": 90,
   "metadata": {
    "scrolled": true
   },
   "outputs": [],
   "source": [
    "r_predictions = []\n",
    "for i in range(start, start + v):\n",
    "    j = i + w - 1\n",
    "    train = np.log(all_training_data[:, 0:(i + w)])\n",
    "    std = np.std(train)\n",
    "    train = train / std\n",
    "    pred = []\n",
    "    for n in range(train.shape[0]):\n",
    "        fit = ARIMA(train[n, :], order=(10, 1, 0)).fit()\n",
    "        pred.append(fit.predict(train.shape[1])[0])\n",
    "    \n",
    "    r_predictions.append(np.asarray(pred) * std)"
   ]
  },
  {
   "cell_type": "code",
   "execution_count": 91,
   "metadata": {},
   "outputs": [
    {
     "data": {
      "text/plain": [
       "0.5777777777777777"
      ]
     },
     "execution_count": 91,
     "metadata": {},
     "output_type": "execute_result"
    }
   ],
   "source": [
    "true = all_training_data[:, (start+w):]\n",
    "(np.sign(r_predictions).T == np.sign(np.log(true))).sum() / np.prod(true.shape)"
   ]
  },
  {
   "cell_type": "markdown",
   "metadata": {},
   "source": [
    "So, we predict the right direction in the model 59% of the time - slightly better than chance (50%). This suggests that maybe the ARIMA model on its own is only marginally useful. Despite this, can we still make optimal portfolio decisions by incorporating variance information?"
   ]
  },
  {
   "cell_type": "markdown",
   "metadata": {},
   "source": [
    "## Maximum tangency portfolio"
   ]
  },
  {
   "cell_type": "markdown",
   "metadata": {},
   "source": [
    "We'll now implement the code to maximize the Sharpe ratio. This has a straightforward closed form:\n",
    "\n",
    "$$\\mathbf{w} = \\frac{\\Sigma^{-1}\\mathbf{r}}{\\mathbf{1}^T \\Sigma^{-1} \\mathbf{r}}$$"
   ]
  },
  {
   "cell_type": "markdown",
   "metadata": {},
   "source": [
    "However, this formula assumes the ability to short assets - that is, elements of $\\mathbf{w}$ can be negative. It's very difficult to short crypto assets at volume so in practice we'll constrain the elements of $\\mathbf{w}$ to be positive and perform gradient-based optimization of the Sharpe ratio:\n",
    "\n",
    "$$\\frac{\\mathbf{w}^T \\mathbf{r}(T + 1)}{\\sqrt{\\mathbf{w}^T \\Sigma(T + 1) \\mathbf{w}}}$$"
   ]
  },
  {
   "cell_type": "markdown",
   "metadata": {},
   "source": [
    "__Note:__ This is *not* actually the maximum tangency portfolio - in fact, it doesn't even lie on the efficient frontier! However, the Sharpe ratio is still an effective way to quantify risk and reward, even under these constraints. There may be a closed form under these constraints as well, but I couldn't find it in the literature."
   ]
  },
  {
   "cell_type": "code",
   "execution_count": 92,
   "metadata": {},
   "outputs": [],
   "source": [
    "def choose_shortless_portfolio(r, cov):\n",
    "    def objective(w):\n",
    "        return -np.dot(w, r) / np.sqrt(np.matmul(w, np.matmul(cov, w)))\n",
    "    \n",
    "    w0 = np.random.lognormal(size=len(r))\n",
    "    w0 = w0 / np.sum(w0)\n",
    "    \n",
    "    opt = minimize(\n",
    "        objective,\n",
    "        w0,\n",
    "        constraints=[{ 'type': 'eq', 'fun': lambda w: np.sum(w) - 1 }],\n",
    "        bounds=[\n",
    "            (0.0, 1.0) for _ in range(len(r))\n",
    "        ]\n",
    "    )\n",
    "    \n",
    "    if opt.success:\n",
    "        return opt.x\n",
    "    else:\n",
    "        raise(Exception(\"Optimization failed!\"))"
   ]
  },
  {
   "cell_type": "markdown",
   "metadata": {},
   "source": [
    "Then, given our predictions, we can compute the hypothetical return on a portfolio selected based on this computation for all of the predicted days. Note that if the GWP prediction failed (singular matrix) we simply don't buy any assets that day."
   ]
  },
  {
   "cell_type": "code",
   "execution_count": 93,
   "metadata": {},
   "outputs": [],
   "source": [
    "def compute_shortless_return(r_pred, sig_pred, data):\n",
    "    total = 1\n",
    "    for day in range(len(r_pred)):\n",
    "        if np.linalg.matrix_rank(sig_pred[day]) != sig_pred[day].shape[0]:\n",
    "            print(\"GWP prediction failed. Not investing returns for day {}.\".format(day))\n",
    "        else:\n",
    "            if np.all(r_pred[day] < 0):\n",
    "                print(\"All returns are predicted to be negative. Not investing returns for day {}.\".format(day))\n",
    "            else:\n",
    "                w = choose_shortless_portfolio(r_pred[day], sig_pred[day])\n",
    "                hypothetical_return = np.dot(w, data[:, day])\n",
    "                total *= hypothetical_return\n",
    "                print(\"Day {}: return = {}, running return = {}\".format(\n",
    "                    day, hypothetical_return, total\n",
    "                ))\n",
    "    \n",
    "    return total"
   ]
  },
  {
   "cell_type": "markdown",
   "metadata": {},
   "source": [
    "Giving an overall return of:"
   ]
  },
  {
   "cell_type": "code",
   "execution_count": 94,
   "metadata": {
    "scrolled": true
   },
   "outputs": [
    {
     "name": "stdout",
     "output_type": "stream",
     "text": [
      "Day 0: return = 0.975790832795352, running return = 0.975790832795352\n",
      "Day 1: return = 1.0252042007001168, running return = 1.00038486078646\n",
      "Day 2: return = 0.9925925981871755, running return = 0.9929746081551483\n",
      "Day 3: return = 0.992804029743344, running return = 0.9858291924092492\n",
      "Day 4: return = 0.9912514862883437, running return = 0.9772046522021057\n",
      "Day 5: return = 1.0222699746044155, running return = 0.9989669749899633\n",
      "Day 6: return = 1.006481796085903, running return = 1.0054420752183997\n",
      "Day 7: return = 1.0852450179200464, running return = 1.0911510029379607\n",
      "All returns are predicted to be negative. Not investing returns for day 8.\n",
      "Day 9: return = 1.033448753462604, running return = 1.1276486438257056\n",
      "Day 10: return = 0.9775321616234827, running return = 1.1023128163507308\n",
      "Day 11: return = 1.0132680138803842, running return = 1.1169383180985977\n",
      "Day 12: return = 1.0700483091787447, running return = 1.1951779587383553\n",
      "All returns are predicted to be negative. Not investing returns for day 13.\n",
      "Day 14: return = 1.0408536725709314, running return = 1.2440053677286462\n",
      "All returns are predicted to be negative. Not investing returns for day 15.\n",
      "Day 16: return = 0.9878532251181463, running return = 1.2288947145750289\n",
      "Day 17: return = 1.0013402142931647, running return = 1.2305416968362968\n",
      "Day 18: return = 1.0226076788150458, running return = 1.2583613882868931\n",
      "All returns are predicted to be negative. Not investing returns for day 19.\n",
      "Day 20: return = 0.9841596436580117, running return = 1.2384284954894296\n",
      "Day 21: return = 0.9648034436392804, running return = 1.1948400771492147\n",
      "Day 22: return = 1.082400745794459, running return = 1.293295790611419\n",
      "All returns are predicted to be negative. Not investing returns for day 23.\n",
      "Day 24: return = 1.0117149847089393, running return = 1.3084467310225674\n",
      "Day 25: return = 0.9849220171712088, running return = 1.288717993679821\n",
      "Day 26: return = 1.0389285714285736, running return = 1.338885944148074\n",
      "All returns are predicted to be negative. Not investing returns for day 27.\n",
      "Day 28: return = 0.9716667165991156, running return = 1.300950909251066\n",
      "Day 29: return = 1.014903496741782, running return = 1.3203396268883076\n"
     ]
    },
    {
     "data": {
      "text/plain": [
       "1.3203396268883076"
      ]
     },
     "execution_count": 94,
     "metadata": {},
     "output_type": "execute_result"
    }
   ],
   "source": [
    "compute_shortless_return(r_predictions, sig_predictions, all_training_data[:, (start+w):])"
   ]
  },
  {
   "cell_type": "markdown",
   "metadata": {},
   "source": [
    "which doesn't look too bad. How would it compare to just re-investing returns day over day in BTC? Or in an equally distributed basket?"
   ]
  },
  {
   "cell_type": "code",
   "execution_count": 95,
   "metadata": {
    "scrolled": true
   },
   "outputs": [
    {
     "name": "stdout",
     "output_type": "stream",
     "text": [
      "1.054885296081017\n",
      "1.121109320674858\n"
     ]
    }
   ],
   "source": [
    "print(np.prod(all_training_data[0, 740:]))\n",
    "print(np.prod(np.sum(all_training_data[:, 740:], axis=0)/all_training_data.shape[0]))"
   ]
  },
  {
   "cell_type": "markdown",
   "metadata": {},
   "source": [
    "A fair bit better! 32.0% rate of return over thirty days isn't bad at all, compared to 12.1% from an equally distributed basket."
   ]
  },
  {
   "cell_type": "markdown",
   "metadata": {},
   "source": [
    "# Conclusions\n",
    "\n",
    "We built a reasonable model of portfolio choice for cryptocurrency returns. Given more time, there is still much to do:\n",
    "\n",
    "* Compare to a model like MGARCH (easy to do in R)\n",
    "* Improve the speed of the code\n",
    "  - Kernel functions can be implemented in C, or make use of a library like `george`\n",
    "  - Block-diagonal matrix inverses can be sped up in the case of the GWP\n",
    "  - Message-passing implementation of model fitting may be possible - much faster than Gibbs sampling\n",
    "* Custom `corner` plots to investigate the relationship between the $\\tau$ parameters and $L$\n",
    "* Live plotting of model fitting\n",
    "* Smarter initialization procedures to speed up convergence\n",
    "\n",
    "We made some rather poor assumptions throughout the code as well. For example:\n",
    "\n",
    "* We don't run the model for enough iterations - we basically rely on getting \"lucky\" initializations and MCMC chains.\n",
    "* As mentioned above, we don't check for singularities, so sometimes predictions fail.\n",
    "* We assume the empirical mode (for GWP) is in fact the best estimate of each parameter, when in practice one usually examines the quantiles for each parameter and makes some sort of educated decision about the final predictive parameters in the model. I believe in this case the mode is better when running for low number of iterations, because of the highly correlated prior on $u$.\n",
    "\n",
    "Additionally, there is a major flaw in our model: we don't account for the uncertainty of our estimates when predicting volatility. There is a better model that solves this.\n",
    "\n",
    "It's called a [Gaussian process regression network](https://arxiv.org/pdf/1110.4411.pdf). There is an Infer.NET implementation, but it is outdated (8 years old) and it's non-trivial to get it running with the current version of Infer.NET. An implementation in Python is definitely possible: one can fit it using MCMC or VB. The model looks something like this:\n",
    "\n",
    "$$\\mathbf{r}(t) = W(t)[\\mathbf{f}(t) + \\sigma_f \\mathbf{\\epsilon}] + \\sigma_r \\mathbf{z}$$\n",
    "\n",
    "Here, $W(t)$ is a matrix of GPs such that $W_{ij}(t) \\sim \\mathcal{GP}(0, k_w(t, t'))$ and $f(t)$ is a vector of GPs such that $f(t) \\sim \\mathcal{GP}(0, k_f(t, t'))$. Note that we maintain many of the same benefits of the ARIMA+GWP model we implemented above. However, the joint estimation of $W(t)$ (which, when coupled with the $\\epsilon$ noise model is analogous to the GWP in our model) and $f(t)$ (which is analogous to the ARIMA model) will almost certainly produce superior results on any prediction task.\n",
    "\n",
    "If we wanted to stay within the ARIMA framework, we might be able to do something like joint Bayesian optimization of an ARIMA+GWP model, where we iteratively optimize the GWP parameters and the ARIMA parameters, simply by adding an ARIMA parameter fitting step to the Gibbs sampling procedure above."
   ]
  }
 ],
 "metadata": {
  "kernelspec": {
   "display_name": "Python 3",
   "language": "python",
   "name": "python3"
  },
  "language_info": {
   "codemirror_mode": {
    "name": "ipython",
    "version": 3
   },
   "file_extension": ".py",
   "mimetype": "text/x-python",
   "name": "python",
   "nbconvert_exporter": "python",
   "pygments_lexer": "ipython3",
   "version": "3.6.7"
  }
 },
 "nbformat": 4,
 "nbformat_minor": 2
}
